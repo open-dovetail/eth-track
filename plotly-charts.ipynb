{
 "cells": [
  {
   "cell_type": "markdown",
   "id": "d75fa79e-05f8-4dde-81f4-dba32bd32341",
   "metadata": {},
   "source": [
    "# Visualize Ethereum Data with Plotly\n",
    "\n",
    "This demo describes how to collect and visualize Ethereum data by using [ClickHouse](https://clickhouse.com/docs/en/) database and [plotly](https://plotly.com/python/getting-started/#overview) graphing libraries.\n",
    "\n",
    "## Install the Plotly Library\n",
    "\n",
    "```sh\n",
    "!pip install plotly\n",
    "!pip install pandas\n",
    "```"
   ]
  },
  {
   "cell_type": "code",
   "execution_count": 1,
   "id": "b50ddf33-8fe4-4ac3-8774-aba471416d48",
   "metadata": {},
   "outputs": [],
   "source": [
    "import plotly.express as px\n",
    "import pandas as pd"
   ]
  },
  {
   "cell_type": "markdown",
   "id": "de4afc1b-576e-4661-8cd7-1cc9eb71effa",
   "metadata": {},
   "source": [
    "Read sample data and create a scatter chart."
   ]
  },
  {
   "cell_type": "code",
   "execution_count": null,
   "id": "6c22bd1e-6960-4b23-a3b8-a90c83b04040",
   "metadata": {},
   "outputs": [],
   "source": [
    "df = pd.read_csv('https://gist.githubusercontent.com/chriddyp/5d1ea79569ed194d432e56108a04d188/raw/a9f9e8076b837d541398e999dcbac2b2826a81f8/gdp-life-exp-2007.csv')\n",
    "\n",
    "fig = px.scatter(df, x=\"gdp per capita\", y=\"life expectancy\",\n",
    "                 size=\"population\", color=\"continent\", hover_name=\"country\",\n",
    "                 log_x=True, size_max=60)"
   ]
  },
  {
   "cell_type": "code",
   "execution_count": null,
   "id": "65a1cfec-e1cf-4b5e-b4ea-8590dbb267e5",
   "metadata": {},
   "outputs": [],
   "source": [
    "df.head()"
   ]
  },
  {
   "cell_type": "code",
   "execution_count": null,
   "id": "148b7fcc-e4f0-444b-afd7-0da0418384c0",
   "metadata": {},
   "outputs": [],
   "source": [
    "fig.show()"
   ]
  },
  {
   "cell_type": "markdown",
   "id": "29ed5a3b-a58d-4a5c-81de-78f0e059c389",
   "metadata": {},
   "source": [
    "Create a sample stacked bar chart."
   ]
  },
  {
   "cell_type": "code",
   "execution_count": null,
   "id": "91fa0384-968e-4370-8f0c-b56193af8013",
   "metadata": {},
   "outputs": [],
   "source": [
    "# fig = px.bar(x=[\"a\", \"b\", \"c\"], y=[1, 3, 2])\n",
    "df = pd.DataFrame({\n",
    "    \"Fruit\": [\"Apples\", \"Oranges\", \"Bananas\", \"Apples\", \"Oranges\", \"Bananas\"],\n",
    "    \"Amount\": [4, 1, 2, 2, 4, 5],\n",
    "    \"City\": [\"SF\", \"SF\", \"SF\", \"Montreal\", \"Montreal\", \"Montreal\"]\n",
    "})\n",
    "fig = px.bar(df, x=\"Fruit\", y=\"Amount\", color=\"City\", barmode=\"relative\")\n",
    "\n",
    "fig.show()"
   ]
  },
  {
   "cell_type": "markdown",
   "id": "45f464d6-f345-4e48-aaca-780ed0e1d9f4",
   "metadata": {
    "tags": []
   },
   "source": [
    "## Connect to ClickHouse Database\n",
    "\n",
    "```sh\n",
    "!pip install clickhouse-driver\n",
    "```\n",
    "\n",
    "Assume that the database tables and views are defined for Ethereum data as described in [eth-track](https://github.com/open-dovetail/eth-track/blob/master/store/setup.sh), and the data is populated by using the [decoder](https://github.com/open-dovetail/eth-track/tree/master/cmd).\n",
    "\n",
    "Specify ClickHouse connection parameters:"
   ]
  },
  {
   "cell_type": "code",
   "execution_count": 5,
   "id": "4e6b5cd5-634c-44c0-aa8f-030633bcf2c4",
   "metadata": {},
   "outputs": [],
   "source": [
    "host='34.201.218.202'\n",
    "port='9000'\n",
    "db='ethdb'\n",
    "user='default'\n",
    "passwd='Tibco123!'"
   ]
  },
  {
   "cell_type": "markdown",
   "id": "34e1b897-01da-47c4-8fff-d451edcaa0a2",
   "metadata": {},
   "source": [
    "Specify SQL statement with parameters:"
   ]
  },
  {
   "cell_type": "code",
   "execution_count": 9,
   "id": "fdfb812d-8b6d-48b2-ad24-bc6e25972918",
   "metadata": {},
   "outputs": [
    {
     "name": "stdout",
     "output_type": "stream",
     "text": [
      "Date range: 2022-01-01 2022-02-03\n"
     ]
    }
   ],
   "source": [
    "sql='''\n",
    "SELECT BlockCount, Miner, BlockDate\n",
    "FROM daily_blocks_by_miner\n",
    "WHERE BlockDate >= %(start)s\n",
    "    AND BlockDate <= %(end)s\n",
    "ORDER BY BlockDate, BlockCount DESC\n",
    "'''\n",
    "\n",
    "# pick date range from start of the current month\n",
    "from datetime import date\n",
    "\n",
    "endDate = date.today()\n",
    "startDate = date(endDate.year, endDate.month-1, 1)\n",
    "print('Date range:', startDate, endDate)"
   ]
  },
  {
   "cell_type": "markdown",
   "id": "e2f0d395-7439-410f-b79e-8ebb5e49adab",
   "metadata": {},
   "source": [
    "Connect to database and execute the SQL statement.  Return the result as a dataframe."
   ]
  },
  {
   "cell_type": "code",
   "execution_count": 10,
   "id": "958a3a55-9a25-49cf-9c35-c1e161dfa036",
   "metadata": {},
   "outputs": [],
   "source": [
    "from clickhouse_driver import Client\n",
    "\n",
    "client = Client(host=host, port=port, database=db, user=user, password=passwd, settings={'use_numpy': True})\n",
    "df = client.query_dataframe(' '.join(sql.split()), {'start': startDate, 'end': endDate})"
   ]
  },
  {
   "cell_type": "code",
   "execution_count": 11,
   "id": "e5302425-1017-4b51-be78-f4abc8943c11",
   "metadata": {},
   "outputs": [
    {
     "data": {
      "text/html": [
       "<div>\n",
       "<style scoped>\n",
       "    .dataframe tbody tr th:only-of-type {\n",
       "        vertical-align: middle;\n",
       "    }\n",
       "\n",
       "    .dataframe tbody tr th {\n",
       "        vertical-align: top;\n",
       "    }\n",
       "\n",
       "    .dataframe thead th {\n",
       "        text-align: right;\n",
       "    }\n",
       "</style>\n",
       "<table border=\"1\" class=\"dataframe\">\n",
       "  <thead>\n",
       "    <tr style=\"text-align: right;\">\n",
       "      <th></th>\n",
       "      <th>BlockCount</th>\n",
       "      <th>Miner</th>\n",
       "      <th>BlockDate</th>\n",
       "    </tr>\n",
       "  </thead>\n",
       "  <tbody>\n",
       "    <tr>\n",
       "      <th>0</th>\n",
       "      <td>1973</td>\n",
       "      <td>ea674fdde714fd979de3edf0f56aa9716b898ec8</td>\n",
       "      <td>2022-01-01</td>\n",
       "    </tr>\n",
       "    <tr>\n",
       "      <th>1</th>\n",
       "      <td>867</td>\n",
       "      <td>829bd824b016326a401d083b33d092293333a830</td>\n",
       "      <td>2022-01-01</td>\n",
       "    </tr>\n",
       "    <tr>\n",
       "      <th>2</th>\n",
       "      <td>634</td>\n",
       "      <td>1ad91ee08f21be3de0ba2ba6918e714da6b45836</td>\n",
       "      <td>2022-01-01</td>\n",
       "    </tr>\n",
       "    <tr>\n",
       "      <th>3</th>\n",
       "      <td>342</td>\n",
       "      <td>7f101fe45e6649a6fb8f3f8b43ed03d353f2b90c</td>\n",
       "      <td>2022-01-01</td>\n",
       "    </tr>\n",
       "    <tr>\n",
       "      <th>4</th>\n",
       "      <td>237</td>\n",
       "      <td>45a36a8e118c37e4c47ef4ab827a7c9e579e11e2</td>\n",
       "      <td>2022-01-01</td>\n",
       "    </tr>\n",
       "  </tbody>\n",
       "</table>\n",
       "</div>"
      ],
      "text/plain": [
       "   BlockCount                                     Miner  BlockDate\n",
       "0        1973  ea674fdde714fd979de3edf0f56aa9716b898ec8 2022-01-01\n",
       "1         867  829bd824b016326a401d083b33d092293333a830 2022-01-01\n",
       "2         634  1ad91ee08f21be3de0ba2ba6918e714da6b45836 2022-01-01\n",
       "3         342  7f101fe45e6649a6fb8f3f8b43ed03d353f2b90c 2022-01-01\n",
       "4         237  45a36a8e118c37e4c47ef4ab827a7c9e579e11e2 2022-01-01"
      ]
     },
     "execution_count": 11,
     "metadata": {},
     "output_type": "execute_result"
    }
   ],
   "source": [
    "df.head()"
   ]
  },
  {
   "cell_type": "markdown",
   "id": "4922caa4-0bc8-429c-ad0e-6708b33b6e31",
   "metadata": {},
   "source": [
    "Visualize the daily block counts in stacked bar chart."
   ]
  },
  {
   "cell_type": "code",
   "execution_count": 12,
   "id": "561459cc-2de9-4888-918c-fcc47d68a2d1",
   "metadata": {},
   "outputs": [
    {
     "data": {
      "application/vnd.plotly.v1+json": {
       "config": {
        "plotlyServerURL": "https://plot.ly"
       },
       "data": [
        {
         "alignmentgroup": "True",
         "hovertemplate": "Miner=ea674fdde714fd979de3edf0f56aa9716b898ec8<br>Block Date=%{x}<br>Block Count=%{y}<extra></extra>",
         "legendgroup": "ea674fdde714fd979de3edf0f56aa9716b898ec8",
         "marker": {
          "color": "#636efa",
          "pattern": {
           "shape": ""
          }
         },
         "name": "ea674fdde714fd979de3edf0f56aa9716b898ec8",
         "offsetgroup": "ea674fdde714fd979de3edf0f56aa9716b898ec8",
         "orientation": "v",
         "showlegend": true,
         "textposition": "auto",
         "type": "bar",
         "x": [
          "2022-01-01T00:00:00",
          "2022-01-02T00:00:00",
          "2022-01-03T00:00:00",
          "2022-01-04T00:00:00",
          "2022-01-05T00:00:00",
          "2022-01-06T00:00:00",
          "2022-01-07T00:00:00",
          "2022-01-08T00:00:00",
          "2022-01-09T00:00:00",
          "2022-01-10T00:00:00",
          "2022-01-11T00:00:00",
          "2022-01-12T00:00:00",
          "2022-01-13T00:00:00",
          "2022-01-14T00:00:00",
          "2022-01-15T00:00:00",
          "2022-01-16T00:00:00",
          "2022-01-17T00:00:00",
          "2022-01-18T00:00:00",
          "2022-01-19T00:00:00",
          "2022-01-20T00:00:00",
          "2022-01-21T00:00:00",
          "2022-01-22T00:00:00",
          "2022-01-23T00:00:00",
          "2022-01-24T00:00:00",
          "2022-01-25T00:00:00",
          "2022-01-26T00:00:00",
          "2022-01-27T00:00:00",
          "2022-01-28T00:00:00",
          "2022-01-29T00:00:00",
          "2022-01-30T00:00:00",
          "2022-01-31T00:00:00",
          "2022-02-01T00:00:00",
          "2022-02-02T00:00:00",
          "2022-02-03T00:00:00"
         ],
         "xaxis": "x",
         "y": [
          1973,
          1961,
          2047,
          2014,
          1945,
          1958,
          1996,
          1947,
          2020,
          2045,
          1946,
          1949,
          1988,
          1935,
          1968,
          1977,
          1964,
          1955,
          2013,
          1996,
          2026,
          1975,
          1979,
          1954,
          1990,
          1957,
          2002,
          1980,
          2018,
          2053,
          2014,
          1954,
          1933,
          1544
         ],
         "yaxis": "y"
        },
        {
         "alignmentgroup": "True",
         "hovertemplate": "Miner=829bd824b016326a401d083b33d092293333a830<br>Block Date=%{x}<br>Block Count=%{y}<extra></extra>",
         "legendgroup": "829bd824b016326a401d083b33d092293333a830",
         "marker": {
          "color": "#EF553B",
          "pattern": {
           "shape": ""
          }
         },
         "name": "829bd824b016326a401d083b33d092293333a830",
         "offsetgroup": "829bd824b016326a401d083b33d092293333a830",
         "orientation": "v",
         "showlegend": true,
         "textposition": "auto",
         "type": "bar",
         "x": [
          "2022-01-01T00:00:00",
          "2022-01-02T00:00:00",
          "2022-01-03T00:00:00",
          "2022-01-04T00:00:00",
          "2022-01-05T00:00:00",
          "2022-01-06T00:00:00",
          "2022-01-07T00:00:00",
          "2022-01-08T00:00:00",
          "2022-01-09T00:00:00",
          "2022-01-10T00:00:00",
          "2022-01-11T00:00:00",
          "2022-01-12T00:00:00",
          "2022-01-13T00:00:00",
          "2022-01-14T00:00:00",
          "2022-01-15T00:00:00",
          "2022-01-16T00:00:00",
          "2022-01-17T00:00:00",
          "2022-01-18T00:00:00",
          "2022-01-19T00:00:00",
          "2022-01-20T00:00:00",
          "2022-01-21T00:00:00",
          "2022-01-22T00:00:00",
          "2022-01-23T00:00:00",
          "2022-01-24T00:00:00",
          "2022-01-25T00:00:00",
          "2022-01-26T00:00:00",
          "2022-01-27T00:00:00",
          "2022-01-28T00:00:00",
          "2022-01-29T00:00:00",
          "2022-01-30T00:00:00",
          "2022-01-31T00:00:00",
          "2022-02-01T00:00:00",
          "2022-02-02T00:00:00",
          "2022-02-03T00:00:00"
         ],
         "xaxis": "x",
         "y": [
          867,
          895,
          877,
          936,
          911,
          896,
          947,
          911,
          932,
          900,
          909,
          926,
          941,
          941,
          982,
          981,
          1027,
          948,
          898,
          926,
          893,
          996,
          926,
          975,
          950,
          985,
          935,
          925,
          915,
          874,
          909,
          942,
          884,
          667
         ],
         "yaxis": "y"
        },
        {
         "alignmentgroup": "True",
         "hovertemplate": "Miner=1ad91ee08f21be3de0ba2ba6918e714da6b45836<br>Block Date=%{x}<br>Block Count=%{y}<extra></extra>",
         "legendgroup": "1ad91ee08f21be3de0ba2ba6918e714da6b45836",
         "marker": {
          "color": "#00cc96",
          "pattern": {
           "shape": ""
          }
         },
         "name": "1ad91ee08f21be3de0ba2ba6918e714da6b45836",
         "offsetgroup": "1ad91ee08f21be3de0ba2ba6918e714da6b45836",
         "orientation": "v",
         "showlegend": true,
         "textposition": "auto",
         "type": "bar",
         "x": [
          "2022-01-01T00:00:00",
          "2022-01-02T00:00:00",
          "2022-01-03T00:00:00",
          "2022-01-04T00:00:00",
          "2022-01-05T00:00:00",
          "2022-01-06T00:00:00",
          "2022-01-07T00:00:00",
          "2022-01-08T00:00:00",
          "2022-01-09T00:00:00",
          "2022-01-10T00:00:00",
          "2022-01-11T00:00:00",
          "2022-01-12T00:00:00",
          "2022-01-13T00:00:00",
          "2022-01-14T00:00:00",
          "2022-01-15T00:00:00",
          "2022-01-16T00:00:00",
          "2022-01-17T00:00:00",
          "2022-01-18T00:00:00",
          "2022-01-19T00:00:00",
          "2022-01-20T00:00:00",
          "2022-01-21T00:00:00",
          "2022-01-22T00:00:00",
          "2022-01-23T00:00:00",
          "2022-01-24T00:00:00",
          "2022-01-25T00:00:00",
          "2022-01-26T00:00:00",
          "2022-01-27T00:00:00",
          "2022-01-28T00:00:00",
          "2022-01-29T00:00:00",
          "2022-01-30T00:00:00",
          "2022-01-31T00:00:00",
          "2022-02-01T00:00:00",
          "2022-02-02T00:00:00",
          "2022-02-03T00:00:00"
         ],
         "xaxis": "x",
         "y": [
          634,
          673,
          626,
          638,
          613,
          642,
          667,
          667,
          648,
          639,
          656,
          664,
          676,
          675,
          698,
          697,
          684,
          682,
          662,
          665,
          626,
          641,
          655,
          681,
          699,
          646,
          655,
          682,
          697,
          706,
          695,
          682,
          682,
          525
         ],
         "yaxis": "y"
        },
        {
         "alignmentgroup": "True",
         "hovertemplate": "Miner=7f101fe45e6649a6fb8f3f8b43ed03d353f2b90c<br>Block Date=%{x}<br>Block Count=%{y}<extra></extra>",
         "legendgroup": "7f101fe45e6649a6fb8f3f8b43ed03d353f2b90c",
         "marker": {
          "color": "#ab63fa",
          "pattern": {
           "shape": ""
          }
         },
         "name": "7f101fe45e6649a6fb8f3f8b43ed03d353f2b90c",
         "offsetgroup": "7f101fe45e6649a6fb8f3f8b43ed03d353f2b90c",
         "orientation": "v",
         "showlegend": true,
         "textposition": "auto",
         "type": "bar",
         "x": [
          "2022-01-01T00:00:00",
          "2022-01-02T00:00:00",
          "2022-01-03T00:00:00",
          "2022-01-04T00:00:00",
          "2022-01-05T00:00:00",
          "2022-01-06T00:00:00",
          "2022-01-07T00:00:00",
          "2022-01-08T00:00:00",
          "2022-01-09T00:00:00",
          "2022-01-10T00:00:00",
          "2022-01-11T00:00:00",
          "2022-01-12T00:00:00",
          "2022-01-13T00:00:00",
          "2022-01-14T00:00:00",
          "2022-01-15T00:00:00",
          "2022-01-16T00:00:00",
          "2022-01-17T00:00:00",
          "2022-01-18T00:00:00",
          "2022-01-19T00:00:00",
          "2022-01-20T00:00:00",
          "2022-01-21T00:00:00",
          "2022-01-22T00:00:00",
          "2022-01-23T00:00:00",
          "2022-01-24T00:00:00",
          "2022-01-25T00:00:00",
          "2022-01-26T00:00:00",
          "2022-01-27T00:00:00",
          "2022-01-28T00:00:00",
          "2022-01-29T00:00:00",
          "2022-01-30T00:00:00",
          "2022-01-31T00:00:00",
          "2022-02-01T00:00:00",
          "2022-02-02T00:00:00",
          "2022-02-03T00:00:00"
         ],
         "xaxis": "x",
         "y": [
          342,
          338,
          331,
          326,
          332,
          327,
          313,
          322,
          331,
          314,
          342,
          335,
          336,
          331,
          324,
          361,
          335,
          304,
          349,
          278,
          282,
          288,
          296,
          303,
          273,
          325,
          279,
          306,
          323,
          305,
          268,
          346,
          314,
          253
         ],
         "yaxis": "y"
        },
        {
         "alignmentgroup": "True",
         "hovertemplate": "Miner=45a36a8e118c37e4c47ef4ab827a7c9e579e11e2<br>Block Date=%{x}<br>Block Count=%{y}<extra></extra>",
         "legendgroup": "45a36a8e118c37e4c47ef4ab827a7c9e579e11e2",
         "marker": {
          "color": "#FFA15A",
          "pattern": {
           "shape": ""
          }
         },
         "name": "45a36a8e118c37e4c47ef4ab827a7c9e579e11e2",
         "offsetgroup": "45a36a8e118c37e4c47ef4ab827a7c9e579e11e2",
         "orientation": "v",
         "showlegend": true,
         "textposition": "auto",
         "type": "bar",
         "x": [
          "2022-01-01T00:00:00",
          "2022-01-02T00:00:00",
          "2022-01-03T00:00:00",
          "2022-01-04T00:00:00",
          "2022-01-05T00:00:00",
          "2022-01-06T00:00:00",
          "2022-01-07T00:00:00",
          "2022-01-08T00:00:00",
          "2022-01-09T00:00:00",
          "2022-01-10T00:00:00",
          "2022-01-11T00:00:00",
          "2022-01-12T00:00:00",
          "2022-01-13T00:00:00",
          "2022-01-14T00:00:00",
          "2022-01-15T00:00:00",
          "2022-01-16T00:00:00",
          "2022-01-17T00:00:00",
          "2022-01-18T00:00:00",
          "2022-01-19T00:00:00",
          "2022-01-20T00:00:00",
          "2022-01-21T00:00:00",
          "2022-01-22T00:00:00",
          "2022-01-23T00:00:00",
          "2022-01-24T00:00:00",
          "2022-01-25T00:00:00",
          "2022-01-26T00:00:00",
          "2022-01-27T00:00:00",
          "2022-01-28T00:00:00",
          "2022-01-29T00:00:00",
          "2022-01-30T00:00:00",
          "2022-01-31T00:00:00",
          "2022-02-01T00:00:00",
          "2022-02-02T00:00:00",
          "2022-02-03T00:00:00"
         ],
         "xaxis": "x",
         "y": [
          237,
          200,
          218,
          187,
          241,
          212,
          226,
          218,
          216,
          220,
          200,
          215,
          202,
          223,
          196,
          191,
          206,
          222,
          207,
          212,
          205,
          206,
          231,
          216,
          217,
          190,
          211,
          205,
          197,
          189,
          199,
          201,
          220,
          158
         ],
         "yaxis": "y"
        },
        {
         "alignmentgroup": "True",
         "hovertemplate": "Miner=00192fb10df37c9fb26829eb2cc623cd1bf599e8<br>Block Date=%{x}<br>Block Count=%{y}<extra></extra>",
         "legendgroup": "00192fb10df37c9fb26829eb2cc623cd1bf599e8",
         "marker": {
          "color": "#19d3f3",
          "pattern": {
           "shape": ""
          }
         },
         "name": "00192fb10df37c9fb26829eb2cc623cd1bf599e8",
         "offsetgroup": "00192fb10df37c9fb26829eb2cc623cd1bf599e8",
         "orientation": "v",
         "showlegend": true,
         "textposition": "auto",
         "type": "bar",
         "x": [
          "2022-01-01T00:00:00",
          "2022-01-02T00:00:00",
          "2022-01-03T00:00:00",
          "2022-01-04T00:00:00",
          "2022-01-05T00:00:00",
          "2022-01-06T00:00:00",
          "2022-01-07T00:00:00",
          "2022-01-08T00:00:00",
          "2022-01-09T00:00:00",
          "2022-01-10T00:00:00",
          "2022-01-11T00:00:00",
          "2022-01-12T00:00:00",
          "2022-01-13T00:00:00",
          "2022-01-14T00:00:00",
          "2022-01-15T00:00:00",
          "2022-01-16T00:00:00",
          "2022-01-17T00:00:00",
          "2022-01-18T00:00:00",
          "2022-01-19T00:00:00",
          "2022-01-20T00:00:00",
          "2022-01-21T00:00:00",
          "2022-01-22T00:00:00",
          "2022-01-23T00:00:00",
          "2022-01-24T00:00:00",
          "2022-01-25T00:00:00",
          "2022-01-26T00:00:00",
          "2022-01-27T00:00:00",
          "2022-01-28T00:00:00",
          "2022-01-29T00:00:00",
          "2022-01-30T00:00:00",
          "2022-01-31T00:00:00",
          "2022-02-01T00:00:00",
          "2022-02-02T00:00:00",
          "2022-02-03T00:00:00"
         ],
         "xaxis": "x",
         "y": [
          236,
          262,
          240,
          257,
          235,
          278,
          214,
          243,
          270,
          297,
          233,
          281,
          251,
          261,
          233,
          259,
          253,
          268,
          249,
          292,
          266,
          329,
          320,
          270,
          260,
          252,
          264,
          262,
          269,
          240,
          276,
          236,
          247,
          189
         ],
         "yaxis": "y"
        },
        {
         "alignmentgroup": "True",
         "hovertemplate": "Miner=52bc44d5378309ee2abf1539bf71de1b7d7be3b5<br>Block Date=%{x}<br>Block Count=%{y}<extra></extra>",
         "legendgroup": "52bc44d5378309ee2abf1539bf71de1b7d7be3b5",
         "marker": {
          "color": "#FF6692",
          "pattern": {
           "shape": ""
          }
         },
         "name": "52bc44d5378309ee2abf1539bf71de1b7d7be3b5",
         "offsetgroup": "52bc44d5378309ee2abf1539bf71de1b7d7be3b5",
         "orientation": "v",
         "showlegend": true,
         "textposition": "auto",
         "type": "bar",
         "x": [
          "2022-01-01T00:00:00",
          "2022-01-02T00:00:00",
          "2022-01-03T00:00:00",
          "2022-01-04T00:00:00",
          "2022-01-05T00:00:00",
          "2022-01-06T00:00:00",
          "2022-01-07T00:00:00",
          "2022-01-08T00:00:00",
          "2022-01-09T00:00:00",
          "2022-01-10T00:00:00",
          "2022-01-11T00:00:00",
          "2022-01-12T00:00:00",
          "2022-01-13T00:00:00",
          "2022-01-14T00:00:00",
          "2022-01-15T00:00:00",
          "2022-01-16T00:00:00",
          "2022-01-17T00:00:00",
          "2022-01-18T00:00:00",
          "2022-01-19T00:00:00",
          "2022-01-20T00:00:00",
          "2022-01-21T00:00:00",
          "2022-01-22T00:00:00",
          "2022-01-23T00:00:00",
          "2022-01-24T00:00:00",
          "2022-01-25T00:00:00",
          "2022-01-26T00:00:00",
          "2022-01-27T00:00:00",
          "2022-01-28T00:00:00",
          "2022-01-29T00:00:00",
          "2022-01-30T00:00:00",
          "2022-01-31T00:00:00",
          "2022-02-01T00:00:00",
          "2022-02-02T00:00:00",
          "2022-02-03T00:00:00"
         ],
         "xaxis": "x",
         "y": [
          209,
          191,
          176,
          187,
          187,
          179,
          175,
          181,
          200,
          171,
          203,
          165,
          167,
          182,
          169,
          140,
          186,
          164,
          192,
          191,
          157,
          199,
          149,
          187,
          158,
          160,
          158,
          184,
          192,
          180,
          150,
          191,
          186,
          132
         ],
         "yaxis": "y"
        },
        {
         "alignmentgroup": "True",
         "hovertemplate": "Miner=2a20380dca5bc24d052acfbf79ba23e988ad0050<br>Block Date=%{x}<br>Block Count=%{y}<extra></extra>",
         "legendgroup": "2a20380dca5bc24d052acfbf79ba23e988ad0050",
         "marker": {
          "color": "#B6E880",
          "pattern": {
           "shape": ""
          }
         },
         "name": "2a20380dca5bc24d052acfbf79ba23e988ad0050",
         "offsetgroup": "2a20380dca5bc24d052acfbf79ba23e988ad0050",
         "orientation": "v",
         "showlegend": true,
         "textposition": "auto",
         "type": "bar",
         "x": [
          "2022-01-01T00:00:00",
          "2022-01-02T00:00:00",
          "2022-01-03T00:00:00",
          "2022-01-04T00:00:00",
          "2022-01-05T00:00:00",
          "2022-01-06T00:00:00",
          "2022-01-07T00:00:00",
          "2022-01-08T00:00:00",
          "2022-01-09T00:00:00",
          "2022-01-10T00:00:00",
          "2022-01-11T00:00:00",
          "2022-01-12T00:00:00",
          "2022-01-13T00:00:00",
          "2022-01-14T00:00:00",
          "2022-01-15T00:00:00",
          "2022-01-16T00:00:00",
          "2022-01-17T00:00:00",
          "2022-01-18T00:00:00",
          "2022-01-19T00:00:00",
          "2022-01-20T00:00:00",
          "2022-01-21T00:00:00",
          "2022-01-22T00:00:00",
          "2022-01-23T00:00:00",
          "2022-01-24T00:00:00",
          "2022-01-25T00:00:00",
          "2022-01-26T00:00:00",
          "2022-01-27T00:00:00",
          "2022-01-28T00:00:00",
          "2022-01-29T00:00:00",
          "2022-01-30T00:00:00",
          "2022-01-31T00:00:00",
          "2022-02-01T00:00:00",
          "2022-02-02T00:00:00",
          "2022-02-03T00:00:00"
         ],
         "xaxis": "x",
         "y": [
          196,
          202,
          208,
          179,
          213,
          163,
          171,
          187,
          170,
          159,
          218,
          170,
          193,
          137,
          122,
          172,
          145,
          144,
          198,
          191,
          197,
          165,
          178,
          157,
          166,
          211,
          176,
          192,
          169,
          184,
          203,
          189,
          222,
          145
         ],
         "yaxis": "y"
        },
        {
         "alignmentgroup": "True",
         "hovertemplate": "Miner=b7e390864a90b7b923c9f9310c6f98aafe43f707<br>Block Date=%{x}<br>Block Count=%{y}<extra></extra>",
         "legendgroup": "b7e390864a90b7b923c9f9310c6f98aafe43f707",
         "marker": {
          "color": "#FF97FF",
          "pattern": {
           "shape": ""
          }
         },
         "name": "b7e390864a90b7b923c9f9310c6f98aafe43f707",
         "offsetgroup": "b7e390864a90b7b923c9f9310c6f98aafe43f707",
         "orientation": "v",
         "showlegend": true,
         "textposition": "auto",
         "type": "bar",
         "x": [
          "2022-01-01T00:00:00",
          "2022-01-02T00:00:00",
          "2022-01-03T00:00:00",
          "2022-01-04T00:00:00",
          "2022-01-05T00:00:00",
          "2022-01-06T00:00:00",
          "2022-01-07T00:00:00",
          "2022-01-08T00:00:00",
          "2022-01-09T00:00:00",
          "2022-01-10T00:00:00",
          "2022-01-11T00:00:00",
          "2022-01-12T00:00:00",
          "2022-01-13T00:00:00",
          "2022-01-14T00:00:00",
          "2022-01-15T00:00:00",
          "2022-01-16T00:00:00",
          "2022-01-17T00:00:00",
          "2022-01-18T00:00:00",
          "2022-01-19T00:00:00",
          "2022-01-20T00:00:00",
          "2022-01-21T00:00:00",
          "2022-01-22T00:00:00",
          "2022-01-23T00:00:00",
          "2022-01-24T00:00:00",
          "2022-01-25T00:00:00",
          "2022-01-26T00:00:00",
          "2022-01-27T00:00:00",
          "2022-01-28T00:00:00",
          "2022-01-29T00:00:00",
          "2022-01-30T00:00:00",
          "2022-01-31T00:00:00",
          "2022-02-01T00:00:00",
          "2022-02-02T00:00:00",
          "2022-02-03T00:00:00"
         ],
         "xaxis": "x",
         "y": [
          188,
          199,
          199,
          192,
          187,
          218,
          192,
          215,
          179,
          186,
          191,
          202,
          206,
          175,
          191,
          204,
          138,
          208,
          182,
          185,
          168,
          172,
          223,
          164,
          177,
          207,
          204,
          188,
          134,
          156,
          186,
          182,
          188,
          153
         ],
         "yaxis": "y"
        },
        {
         "alignmentgroup": "True",
         "hovertemplate": "Miner=3ecef08d0e2dad803847e052249bb4f8bff2d5bb<br>Block Date=%{x}<br>Block Count=%{y}<extra></extra>",
         "legendgroup": "3ecef08d0e2dad803847e052249bb4f8bff2d5bb",
         "marker": {
          "color": "#FECB52",
          "pattern": {
           "shape": ""
          }
         },
         "name": "3ecef08d0e2dad803847e052249bb4f8bff2d5bb",
         "offsetgroup": "3ecef08d0e2dad803847e052249bb4f8bff2d5bb",
         "orientation": "v",
         "showlegend": true,
         "textposition": "auto",
         "type": "bar",
         "x": [
          "2022-01-01T00:00:00",
          "2022-01-02T00:00:00",
          "2022-01-03T00:00:00",
          "2022-01-04T00:00:00",
          "2022-01-05T00:00:00",
          "2022-01-06T00:00:00",
          "2022-01-07T00:00:00",
          "2022-01-08T00:00:00",
          "2022-01-09T00:00:00",
          "2022-01-10T00:00:00",
          "2022-01-11T00:00:00",
          "2022-01-12T00:00:00",
          "2022-01-13T00:00:00",
          "2022-01-14T00:00:00",
          "2022-01-15T00:00:00",
          "2022-01-16T00:00:00",
          "2022-01-17T00:00:00",
          "2022-01-18T00:00:00",
          "2022-01-19T00:00:00",
          "2022-01-20T00:00:00",
          "2022-01-21T00:00:00",
          "2022-01-22T00:00:00",
          "2022-01-23T00:00:00",
          "2022-01-24T00:00:00",
          "2022-01-25T00:00:00",
          "2022-01-26T00:00:00",
          "2022-01-27T00:00:00",
          "2022-01-28T00:00:00",
          "2022-01-29T00:00:00",
          "2022-01-30T00:00:00",
          "2022-01-31T00:00:00",
          "2022-02-01T00:00:00",
          "2022-02-02T00:00:00",
          "2022-02-03T00:00:00"
         ],
         "xaxis": "x",
         "y": [
          167,
          155,
          160,
          170,
          170,
          169,
          155,
          177,
          164,
          148,
          190,
          160,
          166,
          153,
          183,
          151,
          169,
          142,
          159,
          144,
          170,
          176,
          150,
          173,
          162,
          137,
          148,
          167,
          149,
          159,
          165,
          151,
          158,
          151
         ],
         "yaxis": "y"
        },
        {
         "alignmentgroup": "True",
         "hovertemplate": "Miner=cd458d7f11023556cc9058f729831a038cb8df9c<br>Block Date=%{x}<br>Block Count=%{y}<extra></extra>",
         "legendgroup": "cd458d7f11023556cc9058f729831a038cb8df9c",
         "marker": {
          "color": "#636efa",
          "pattern": {
           "shape": ""
          }
         },
         "name": "cd458d7f11023556cc9058f729831a038cb8df9c",
         "offsetgroup": "cd458d7f11023556cc9058f729831a038cb8df9c",
         "orientation": "v",
         "showlegend": true,
         "textposition": "auto",
         "type": "bar",
         "x": [
          "2022-01-01T00:00:00",
          "2022-01-02T00:00:00",
          "2022-01-03T00:00:00",
          "2022-01-04T00:00:00",
          "2022-01-05T00:00:00",
          "2022-01-06T00:00:00",
          "2022-01-07T00:00:00",
          "2022-01-08T00:00:00",
          "2022-01-09T00:00:00",
          "2022-01-10T00:00:00",
          "2022-01-11T00:00:00",
          "2022-01-12T00:00:00",
          "2022-01-13T00:00:00",
          "2022-01-14T00:00:00",
          "2022-01-15T00:00:00",
          "2022-01-16T00:00:00",
          "2022-01-17T00:00:00",
          "2022-01-18T00:00:00",
          "2022-01-19T00:00:00",
          "2022-01-20T00:00:00",
          "2022-01-21T00:00:00",
          "2022-01-22T00:00:00",
          "2022-01-23T00:00:00",
          "2022-01-24T00:00:00",
          "2022-01-25T00:00:00",
          "2022-01-26T00:00:00",
          "2022-01-27T00:00:00",
          "2022-01-28T00:00:00",
          "2022-01-29T00:00:00",
          "2022-01-30T00:00:00",
          "2022-01-31T00:00:00",
          "2022-02-01T00:00:00",
          "2022-02-02T00:00:00",
          "2022-02-03T00:00:00"
         ],
         "xaxis": "x",
         "y": [
          156,
          153,
          158,
          164,
          160,
          156,
          144,
          147,
          166,
          155,
          157,
          185,
          153,
          148,
          191,
          167,
          170,
          181,
          143,
          165,
          152,
          122,
          128,
          117,
          147,
          126,
          148,
          122,
          118,
          153,
          124,
          129,
          157,
          84
         ],
         "yaxis": "y"
        },
        {
         "alignmentgroup": "True",
         "hovertemplate": "Miner=ab3b229eb4bcff881275e7ea2f0fd24eeac8c83a<br>Block Date=%{x}<br>Block Count=%{y}<extra></extra>",
         "legendgroup": "ab3b229eb4bcff881275e7ea2f0fd24eeac8c83a",
         "marker": {
          "color": "#EF553B",
          "pattern": {
           "shape": ""
          }
         },
         "name": "ab3b229eb4bcff881275e7ea2f0fd24eeac8c83a",
         "offsetgroup": "ab3b229eb4bcff881275e7ea2f0fd24eeac8c83a",
         "orientation": "v",
         "showlegend": true,
         "textposition": "auto",
         "type": "bar",
         "x": [
          "2022-01-01T00:00:00",
          "2022-01-02T00:00:00",
          "2022-01-03T00:00:00",
          "2022-01-04T00:00:00",
          "2022-01-05T00:00:00",
          "2022-01-06T00:00:00",
          "2022-01-07T00:00:00",
          "2022-01-08T00:00:00",
          "2022-01-09T00:00:00",
          "2022-01-10T00:00:00",
          "2022-01-11T00:00:00",
          "2022-01-12T00:00:00",
          "2022-01-13T00:00:00",
          "2022-01-14T00:00:00",
          "2022-01-15T00:00:00",
          "2022-01-16T00:00:00",
          "2022-01-17T00:00:00",
          "2022-01-18T00:00:00",
          "2022-01-19T00:00:00",
          "2022-01-20T00:00:00",
          "2022-01-21T00:00:00",
          "2022-01-22T00:00:00",
          "2022-01-23T00:00:00",
          "2022-01-24T00:00:00",
          "2022-01-25T00:00:00",
          "2022-01-26T00:00:00",
          "2022-01-27T00:00:00",
          "2022-01-28T00:00:00",
          "2022-01-29T00:00:00",
          "2022-01-30T00:00:00",
          "2022-01-31T00:00:00",
          "2022-02-01T00:00:00",
          "2022-02-02T00:00:00",
          "2022-02-03T00:00:00"
         ],
         "xaxis": "x",
         "y": [
          123,
          143,
          116,
          151,
          140,
          119,
          128,
          141,
          105,
          118,
          113,
          82,
          118,
          112,
          127,
          112,
          120,
          121,
          144,
          123,
          120,
          132,
          136,
          123,
          119,
          124,
          140,
          145,
          137,
          146,
          153,
          143,
          142,
          109
         ],
         "yaxis": "y"
        },
        {
         "alignmentgroup": "True",
         "hovertemplate": "Miner=c365c3315cf926351ccaf13fa7d19c8c4058c8e1<br>Block Date=%{x}<br>Block Count=%{y}<extra></extra>",
         "legendgroup": "c365c3315cf926351ccaf13fa7d19c8c4058c8e1",
         "marker": {
          "color": "#00cc96",
          "pattern": {
           "shape": ""
          }
         },
         "name": "c365c3315cf926351ccaf13fa7d19c8c4058c8e1",
         "offsetgroup": "c365c3315cf926351ccaf13fa7d19c8c4058c8e1",
         "orientation": "v",
         "showlegend": true,
         "textposition": "auto",
         "type": "bar",
         "x": [
          "2022-01-01T00:00:00",
          "2022-01-02T00:00:00",
          "2022-01-03T00:00:00",
          "2022-01-04T00:00:00",
          "2022-01-05T00:00:00",
          "2022-01-06T00:00:00",
          "2022-01-07T00:00:00",
          "2022-01-08T00:00:00",
          "2022-01-09T00:00:00",
          "2022-01-10T00:00:00",
          "2022-01-11T00:00:00",
          "2022-01-12T00:00:00",
          "2022-01-13T00:00:00",
          "2022-01-14T00:00:00",
          "2022-01-15T00:00:00",
          "2022-01-16T00:00:00",
          "2022-01-17T00:00:00",
          "2022-01-18T00:00:00",
          "2022-01-19T00:00:00",
          "2022-01-20T00:00:00",
          "2022-01-21T00:00:00",
          "2022-01-22T00:00:00",
          "2022-01-23T00:00:00",
          "2022-01-24T00:00:00",
          "2022-01-25T00:00:00",
          "2022-01-26T00:00:00",
          "2022-01-27T00:00:00",
          "2022-01-28T00:00:00",
          "2022-01-29T00:00:00",
          "2022-01-30T00:00:00",
          "2022-01-31T00:00:00",
          "2022-02-01T00:00:00",
          "2022-02-02T00:00:00",
          "2022-02-03T00:00:00"
         ],
         "xaxis": "x",
         "y": [
          122,
          116,
          131,
          107,
          122,
          96,
          110,
          119,
          100,
          105,
          123,
          112,
          108,
          113,
          112,
          107,
          108,
          116,
          108,
          123,
          114,
          117,
          95,
          121,
          120,
          101,
          105,
          101,
          100,
          120,
          110,
          99,
          109,
          94
         ],
         "yaxis": "y"
        },
        {
         "alignmentgroup": "True",
         "hovertemplate": "Miner=eea5b82b61424df8020f5fedd81767f2d0d25bfb<br>Block Date=%{x}<br>Block Count=%{y}<extra></extra>",
         "legendgroup": "eea5b82b61424df8020f5fedd81767f2d0d25bfb",
         "marker": {
          "color": "#ab63fa",
          "pattern": {
           "shape": ""
          }
         },
         "name": "eea5b82b61424df8020f5fedd81767f2d0d25bfb",
         "offsetgroup": "eea5b82b61424df8020f5fedd81767f2d0d25bfb",
         "orientation": "v",
         "showlegend": true,
         "textposition": "auto",
         "type": "bar",
         "x": [
          "2022-01-01T00:00:00",
          "2022-01-02T00:00:00",
          "2022-01-03T00:00:00",
          "2022-01-04T00:00:00",
          "2022-01-05T00:00:00",
          "2022-01-06T00:00:00",
          "2022-01-07T00:00:00",
          "2022-01-08T00:00:00",
          "2022-01-09T00:00:00",
          "2022-01-10T00:00:00",
          "2022-01-11T00:00:00",
          "2022-01-12T00:00:00",
          "2022-01-13T00:00:00",
          "2022-01-14T00:00:00",
          "2022-01-15T00:00:00",
          "2022-01-16T00:00:00",
          "2022-01-17T00:00:00",
          "2022-01-18T00:00:00",
          "2022-01-19T00:00:00",
          "2022-01-20T00:00:00",
          "2022-01-21T00:00:00",
          "2022-01-22T00:00:00",
          "2022-01-23T00:00:00",
          "2022-01-24T00:00:00",
          "2022-01-25T00:00:00",
          "2022-01-26T00:00:00",
          "2022-01-27T00:00:00",
          "2022-01-28T00:00:00",
          "2022-01-29T00:00:00",
          "2022-01-30T00:00:00",
          "2022-01-31T00:00:00",
          "2022-02-01T00:00:00",
          "2022-02-02T00:00:00",
          "2022-02-03T00:00:00"
         ],
         "xaxis": "x",
         "y": [
          111,
          102,
          94,
          99,
          110,
          98,
          103,
          111,
          109,
          88,
          84,
          91,
          81,
          91,
          100,
          113,
          82,
          104,
          102,
          71,
          90,
          95,
          86,
          89,
          101,
          106,
          85,
          81,
          65,
          108,
          102,
          111,
          101,
          92
         ],
         "yaxis": "y"
        },
        {
         "alignmentgroup": "True",
         "hovertemplate": "Miner=c3348b43d3881151224b490e4aa39e03d2b1cdea<br>Block Date=%{x}<br>Block Count=%{y}<extra></extra>",
         "legendgroup": "c3348b43d3881151224b490e4aa39e03d2b1cdea",
         "marker": {
          "color": "#FFA15A",
          "pattern": {
           "shape": ""
          }
         },
         "name": "c3348b43d3881151224b490e4aa39e03d2b1cdea",
         "offsetgroup": "c3348b43d3881151224b490e4aa39e03d2b1cdea",
         "orientation": "v",
         "showlegend": true,
         "textposition": "auto",
         "type": "bar",
         "x": [
          "2022-01-01T00:00:00",
          "2022-01-02T00:00:00",
          "2022-01-03T00:00:00",
          "2022-01-04T00:00:00",
          "2022-01-05T00:00:00",
          "2022-01-06T00:00:00",
          "2022-01-07T00:00:00",
          "2022-01-08T00:00:00",
          "2022-01-09T00:00:00",
          "2022-01-10T00:00:00",
          "2022-01-11T00:00:00",
          "2022-01-12T00:00:00",
          "2022-01-13T00:00:00",
          "2022-01-14T00:00:00",
          "2022-01-15T00:00:00",
          "2022-01-16T00:00:00",
          "2022-01-17T00:00:00",
          "2022-01-18T00:00:00",
          "2022-01-19T00:00:00",
          "2022-01-20T00:00:00",
          "2022-01-21T00:00:00",
          "2022-01-22T00:00:00",
          "2022-01-23T00:00:00",
          "2022-01-24T00:00:00",
          "2022-01-25T00:00:00",
          "2022-01-26T00:00:00",
          "2022-01-27T00:00:00",
          "2022-01-28T00:00:00",
          "2022-01-29T00:00:00",
          "2022-01-30T00:00:00",
          "2022-01-31T00:00:00",
          "2022-02-01T00:00:00",
          "2022-02-02T00:00:00",
          "2022-02-03T00:00:00"
         ],
         "xaxis": "x",
         "y": [
          103,
          92,
          81,
          98,
          83,
          104,
          87,
          101,
          89,
          82,
          98,
          99,
          88,
          88,
          78,
          79,
          87,
          82,
          104,
          91,
          89,
          69,
          98,
          73,
          79,
          74,
          84,
          92,
          76,
          80,
          77,
          83,
          90,
          49
         ],
         "yaxis": "y"
        },
        {
         "alignmentgroup": "True",
         "hovertemplate": "Miner=2daa35962a6d43eb54c48367b33d0b379c930e5e<br>Block Date=%{x}<br>Block Count=%{y}<extra></extra>",
         "legendgroup": "2daa35962a6d43eb54c48367b33d0b379c930e5e",
         "marker": {
          "color": "#19d3f3",
          "pattern": {
           "shape": ""
          }
         },
         "name": "2daa35962a6d43eb54c48367b33d0b379c930e5e",
         "offsetgroup": "2daa35962a6d43eb54c48367b33d0b379c930e5e",
         "orientation": "v",
         "showlegend": true,
         "textposition": "auto",
         "type": "bar",
         "x": [
          "2022-01-01T00:00:00",
          "2022-01-02T00:00:00",
          "2022-01-03T00:00:00",
          "2022-01-04T00:00:00",
          "2022-01-05T00:00:00",
          "2022-01-06T00:00:00",
          "2022-01-07T00:00:00",
          "2022-01-08T00:00:00",
          "2022-01-09T00:00:00",
          "2022-01-10T00:00:00",
          "2022-01-11T00:00:00",
          "2022-01-12T00:00:00",
          "2022-01-13T00:00:00",
          "2022-01-14T00:00:00",
          "2022-01-15T00:00:00",
          "2022-01-16T00:00:00",
          "2022-01-17T00:00:00",
          "2022-01-18T00:00:00",
          "2022-01-19T00:00:00",
          "2022-01-20T00:00:00",
          "2022-01-21T00:00:00",
          "2022-01-22T00:00:00",
          "2022-01-23T00:00:00",
          "2022-01-24T00:00:00",
          "2022-01-25T00:00:00",
          "2022-01-26T00:00:00",
          "2022-01-27T00:00:00",
          "2022-01-28T00:00:00",
          "2022-01-29T00:00:00",
          "2022-01-30T00:00:00",
          "2022-01-31T00:00:00",
          "2022-02-01T00:00:00",
          "2022-02-02T00:00:00",
          "2022-02-03T00:00:00"
         ],
         "xaxis": "x",
         "y": [
          93,
          91,
          98,
          86,
          70,
          106,
          81,
          108,
          95,
          77,
          129,
          80,
          69,
          116,
          78,
          96,
          97,
          64,
          86,
          92,
          106,
          96,
          88,
          109,
          101,
          95,
          94,
          81,
          126,
          97,
          77,
          113,
          95,
          91
         ],
         "yaxis": "y"
        },
        {
         "alignmentgroup": "True",
         "hovertemplate": "Miner=8b4de256180cfec54c436a470af50f9ee2813dbb<br>Block Date=%{x}<br>Block Count=%{y}<extra></extra>",
         "legendgroup": "8b4de256180cfec54c436a470af50f9ee2813dbb",
         "marker": {
          "color": "#FF6692",
          "pattern": {
           "shape": ""
          }
         },
         "name": "8b4de256180cfec54c436a470af50f9ee2813dbb",
         "offsetgroup": "8b4de256180cfec54c436a470af50f9ee2813dbb",
         "orientation": "v",
         "showlegend": true,
         "textposition": "auto",
         "type": "bar",
         "x": [
          "2022-01-01T00:00:00",
          "2022-01-02T00:00:00",
          "2022-01-03T00:00:00",
          "2022-01-04T00:00:00",
          "2022-01-05T00:00:00",
          "2022-01-06T00:00:00",
          "2022-01-07T00:00:00",
          "2022-01-08T00:00:00",
          "2022-01-09T00:00:00",
          "2022-01-10T00:00:00",
          "2022-01-11T00:00:00",
          "2022-01-12T00:00:00",
          "2022-01-13T00:00:00",
          "2022-01-14T00:00:00",
          "2022-01-15T00:00:00",
          "2022-01-16T00:00:00",
          "2022-01-17T00:00:00",
          "2022-01-18T00:00:00",
          "2022-01-19T00:00:00",
          "2022-01-20T00:00:00",
          "2022-01-21T00:00:00",
          "2022-01-22T00:00:00",
          "2022-01-23T00:00:00",
          "2022-01-24T00:00:00",
          "2022-01-25T00:00:00",
          "2022-01-26T00:00:00",
          "2022-01-27T00:00:00",
          "2022-01-28T00:00:00",
          "2022-01-29T00:00:00",
          "2022-01-30T00:00:00",
          "2022-01-31T00:00:00",
          "2022-02-01T00:00:00",
          "2022-02-02T00:00:00",
          "2022-02-03T00:00:00"
         ],
         "xaxis": "x",
         "y": [
          92,
          67,
          97,
          76,
          80,
          79,
          76,
          75,
          74,
          75,
          82,
          83,
          60,
          103,
          86,
          84,
          83,
          89,
          56,
          62,
          64,
          75,
          83,
          75,
          84,
          78,
          96,
          85,
          76,
          88,
          81,
          69,
          81,
          64
         ],
         "yaxis": "y"
        },
        {
         "alignmentgroup": "True",
         "hovertemplate": "Miner=8f03f1a3f10c05e7cccf75c1fd10168e06659be7<br>Block Date=%{x}<br>Block Count=%{y}<extra></extra>",
         "legendgroup": "8f03f1a3f10c05e7cccf75c1fd10168e06659be7",
         "marker": {
          "color": "#B6E880",
          "pattern": {
           "shape": ""
          }
         },
         "name": "8f03f1a3f10c05e7cccf75c1fd10168e06659be7",
         "offsetgroup": "8f03f1a3f10c05e7cccf75c1fd10168e06659be7",
         "orientation": "v",
         "showlegend": true,
         "textposition": "auto",
         "type": "bar",
         "x": [
          "2022-01-01T00:00:00",
          "2022-01-02T00:00:00",
          "2022-01-03T00:00:00",
          "2022-01-04T00:00:00",
          "2022-01-05T00:00:00",
          "2022-01-06T00:00:00",
          "2022-01-07T00:00:00",
          "2022-01-08T00:00:00",
          "2022-01-09T00:00:00",
          "2022-01-10T00:00:00",
          "2022-01-11T00:00:00",
          "2022-01-12T00:00:00",
          "2022-01-13T00:00:00",
          "2022-01-14T00:00:00",
          "2022-01-15T00:00:00",
          "2022-01-16T00:00:00",
          "2022-01-17T00:00:00",
          "2022-01-18T00:00:00",
          "2022-01-19T00:00:00",
          "2022-01-20T00:00:00",
          "2022-01-21T00:00:00",
          "2022-01-22T00:00:00",
          "2022-01-23T00:00:00",
          "2022-01-24T00:00:00",
          "2022-01-25T00:00:00",
          "2022-01-26T00:00:00",
          "2022-01-27T00:00:00",
          "2022-01-28T00:00:00",
          "2022-01-29T00:00:00",
          "2022-01-30T00:00:00",
          "2022-01-31T00:00:00",
          "2022-02-01T00:00:00",
          "2022-02-02T00:00:00",
          "2022-02-03T00:00:00"
         ],
         "xaxis": "x",
         "y": [
          90,
          107,
          95,
          101,
          127,
          93,
          113,
          111,
          106,
          125,
          96,
          112,
          112,
          103,
          107,
          104,
          98,
          106,
          111,
          107,
          93,
          118,
          95,
          113,
          99,
          99,
          115,
          107,
          117,
          131,
          123,
          93,
          99,
          108
         ],
         "yaxis": "y"
        },
        {
         "alignmentgroup": "True",
         "hovertemplate": "Miner=03e75d7dd38cce2e20ffee35ec914c57780a8e29<br>Block Date=%{x}<br>Block Count=%{y}<extra></extra>",
         "legendgroup": "03e75d7dd38cce2e20ffee35ec914c57780a8e29",
         "marker": {
          "color": "#FF97FF",
          "pattern": {
           "shape": ""
          }
         },
         "name": "03e75d7dd38cce2e20ffee35ec914c57780a8e29",
         "offsetgroup": "03e75d7dd38cce2e20ffee35ec914c57780a8e29",
         "orientation": "v",
         "showlegend": true,
         "textposition": "auto",
         "type": "bar",
         "x": [
          "2022-01-01T00:00:00",
          "2022-01-02T00:00:00",
          "2022-01-03T00:00:00",
          "2022-01-04T00:00:00",
          "2022-01-05T00:00:00",
          "2022-01-06T00:00:00",
          "2022-01-07T00:00:00",
          "2022-01-08T00:00:00",
          "2022-01-09T00:00:00",
          "2022-01-10T00:00:00",
          "2022-01-11T00:00:00",
          "2022-01-12T00:00:00",
          "2022-01-13T00:00:00",
          "2022-01-14T00:00:00",
          "2022-01-15T00:00:00",
          "2022-01-16T00:00:00",
          "2022-01-17T00:00:00",
          "2022-01-18T00:00:00",
          "2022-01-19T00:00:00",
          "2022-01-20T00:00:00",
          "2022-01-21T00:00:00",
          "2022-01-22T00:00:00",
          "2022-01-23T00:00:00",
          "2022-01-24T00:00:00",
          "2022-01-25T00:00:00",
          "2022-01-26T00:00:00",
          "2022-01-27T00:00:00",
          "2022-01-28T00:00:00",
          "2022-01-29T00:00:00",
          "2022-01-30T00:00:00",
          "2022-01-31T00:00:00",
          "2022-02-01T00:00:00",
          "2022-02-02T00:00:00",
          "2022-02-03T00:00:00"
         ],
         "xaxis": "x",
         "y": [
          60,
          76,
          63,
          50,
          69,
          82,
          70,
          75,
          69,
          52,
          66,
          75,
          69,
          81,
          66,
          62,
          78,
          62,
          77,
          80,
          71,
          73,
          59,
          76,
          69,
          82,
          81,
          68,
          64,
          62,
          84,
          70,
          79,
          42
         ],
         "yaxis": "y"
        },
        {
         "alignmentgroup": "True",
         "hovertemplate": "Miner=4069e799da927c06b430e247b2ee16c03e8b837d<br>Block Date=%{x}<br>Block Count=%{y}<extra></extra>",
         "legendgroup": "4069e799da927c06b430e247b2ee16c03e8b837d",
         "marker": {
          "color": "#FECB52",
          "pattern": {
           "shape": ""
          }
         },
         "name": "4069e799da927c06b430e247b2ee16c03e8b837d",
         "offsetgroup": "4069e799da927c06b430e247b2ee16c03e8b837d",
         "orientation": "v",
         "showlegend": true,
         "textposition": "auto",
         "type": "bar",
         "x": [
          "2022-01-01T00:00:00",
          "2022-01-02T00:00:00",
          "2022-01-03T00:00:00",
          "2022-01-04T00:00:00",
          "2022-01-05T00:00:00",
          "2022-01-06T00:00:00",
          "2022-01-07T00:00:00",
          "2022-01-08T00:00:00",
          "2022-01-09T00:00:00",
          "2022-01-10T00:00:00",
          "2022-01-11T00:00:00",
          "2022-01-12T00:00:00",
          "2022-01-13T00:00:00",
          "2022-01-14T00:00:00",
          "2022-01-15T00:00:00",
          "2022-01-16T00:00:00",
          "2022-01-17T00:00:00",
          "2022-01-18T00:00:00",
          "2022-01-19T00:00:00",
          "2022-01-20T00:00:00",
          "2022-01-21T00:00:00",
          "2022-01-22T00:00:00",
          "2022-01-23T00:00:00",
          "2022-01-24T00:00:00",
          "2022-01-25T00:00:00",
          "2022-01-26T00:00:00",
          "2022-01-27T00:00:00",
          "2022-01-28T00:00:00",
          "2022-01-29T00:00:00",
          "2022-01-30T00:00:00",
          "2022-01-31T00:00:00",
          "2022-02-01T00:00:00",
          "2022-02-02T00:00:00",
          "2022-02-03T00:00:00"
         ],
         "xaxis": "x",
         "y": [
          59,
          59,
          59,
          59,
          62,
          53,
          47,
          57,
          64,
          61,
          56,
          62,
          54,
          53,
          61,
          61,
          44,
          71,
          49,
          58,
          61,
          69,
          55,
          51,
          52,
          50,
          58,
          49,
          58,
          64,
          56,
          49,
          45,
          30
         ],
         "yaxis": "y"
        },
        {
         "alignmentgroup": "True",
         "hovertemplate": "Miner=6ebaf477f83e055589c1188bcc6ddccd8c9b131a<br>Block Date=%{x}<br>Block Count=%{y}<extra></extra>",
         "legendgroup": "6ebaf477f83e055589c1188bcc6ddccd8c9b131a",
         "marker": {
          "color": "#636efa",
          "pattern": {
           "shape": ""
          }
         },
         "name": "6ebaf477f83e055589c1188bcc6ddccd8c9b131a",
         "offsetgroup": "6ebaf477f83e055589c1188bcc6ddccd8c9b131a",
         "orientation": "v",
         "showlegend": true,
         "textposition": "auto",
         "type": "bar",
         "x": [
          "2022-01-01T00:00:00",
          "2022-01-02T00:00:00",
          "2022-01-03T00:00:00",
          "2022-01-04T00:00:00",
          "2022-01-05T00:00:00",
          "2022-01-06T00:00:00",
          "2022-01-07T00:00:00",
          "2022-01-08T00:00:00",
          "2022-01-09T00:00:00",
          "2022-01-10T00:00:00",
          "2022-01-11T00:00:00",
          "2022-01-12T00:00:00",
          "2022-01-13T00:00:00",
          "2022-01-14T00:00:00",
          "2022-01-15T00:00:00",
          "2022-01-16T00:00:00",
          "2022-01-17T00:00:00",
          "2022-01-18T00:00:00",
          "2022-01-19T00:00:00",
          "2022-01-20T00:00:00",
          "2022-01-21T00:00:00",
          "2022-01-22T00:00:00",
          "2022-01-23T00:00:00",
          "2022-01-24T00:00:00",
          "2022-01-25T00:00:00",
          "2022-01-26T00:00:00",
          "2022-01-27T00:00:00",
          "2022-01-28T00:00:00",
          "2022-01-29T00:00:00",
          "2022-01-30T00:00:00",
          "2022-01-31T00:00:00",
          "2022-02-01T00:00:00",
          "2022-02-02T00:00:00",
          "2022-02-03T00:00:00"
         ],
         "xaxis": "x",
         "y": [
          58,
          56,
          52,
          68,
          52,
          47,
          50,
          59,
          58,
          68,
          82,
          59,
          61,
          67,
          70,
          57,
          60,
          67,
          46,
          69,
          47,
          65,
          63,
          63,
          54,
          66,
          63,
          57,
          70,
          83,
          76,
          81,
          57,
          53
         ],
         "yaxis": "y"
        },
        {
         "alignmentgroup": "True",
         "hovertemplate": "Miner=0708f87a089a91c65d48721aa941084648562287<br>Block Date=%{x}<br>Block Count=%{y}<extra></extra>",
         "legendgroup": "0708f87a089a91c65d48721aa941084648562287",
         "marker": {
          "color": "#EF553B",
          "pattern": {
           "shape": ""
          }
         },
         "name": "0708f87a089a91c65d48721aa941084648562287",
         "offsetgroup": "0708f87a089a91c65d48721aa941084648562287",
         "orientation": "v",
         "showlegend": true,
         "textposition": "auto",
         "type": "bar",
         "x": [
          "2022-01-01T00:00:00",
          "2022-01-02T00:00:00",
          "2022-01-03T00:00:00",
          "2022-01-04T00:00:00",
          "2022-01-05T00:00:00",
          "2022-01-06T00:00:00",
          "2022-01-07T00:00:00"
         ],
         "xaxis": "x",
         "y": [
          55,
          48,
          57,
          55,
          51,
          40,
          24
         ],
         "yaxis": "y"
        },
        {
         "alignmentgroup": "True",
         "hovertemplate": "Miner=d757fd54b273bb1234d4d9993f27699d28d0edd2<br>Block Date=%{x}<br>Block Count=%{y}<extra></extra>",
         "legendgroup": "d757fd54b273bb1234d4d9993f27699d28d0edd2",
         "marker": {
          "color": "#00cc96",
          "pattern": {
           "shape": ""
          }
         },
         "name": "d757fd54b273bb1234d4d9993f27699d28d0edd2",
         "offsetgroup": "d757fd54b273bb1234d4d9993f27699d28d0edd2",
         "orientation": "v",
         "showlegend": true,
         "textposition": "auto",
         "type": "bar",
         "x": [
          "2022-01-01T00:00:00",
          "2022-01-02T00:00:00",
          "2022-01-03T00:00:00",
          "2022-01-04T00:00:00",
          "2022-01-05T00:00:00",
          "2022-01-06T00:00:00",
          "2022-01-07T00:00:00",
          "2022-01-08T00:00:00",
          "2022-01-09T00:00:00",
          "2022-01-10T00:00:00",
          "2022-01-11T00:00:00",
          "2022-01-12T00:00:00",
          "2022-01-13T00:00:00",
          "2022-01-14T00:00:00",
          "2022-01-15T00:00:00",
          "2022-01-16T00:00:00",
          "2022-01-17T00:00:00",
          "2022-01-18T00:00:00",
          "2022-01-19T00:00:00",
          "2022-01-20T00:00:00",
          "2022-01-21T00:00:00",
          "2022-01-22T00:00:00",
          "2022-01-23T00:00:00",
          "2022-01-24T00:00:00",
          "2022-01-25T00:00:00",
          "2022-01-26T00:00:00",
          "2022-01-27T00:00:00",
          "2022-01-28T00:00:00",
          "2022-01-29T00:00:00",
          "2022-01-30T00:00:00",
          "2022-01-31T00:00:00",
          "2022-02-01T00:00:00",
          "2022-02-02T00:00:00",
          "2022-02-03T00:00:00"
         ],
         "xaxis": "x",
         "y": [
          51,
          43,
          49,
          41,
          33,
          38,
          45,
          53,
          32,
          37,
          57,
          48,
          38,
          25,
          20,
          15,
          20,
          32,
          41,
          43,
          38,
          59,
          59,
          52,
          53,
          56,
          56,
          56,
          60,
          53,
          28,
          44,
          48,
          40
         ],
         "yaxis": "y"
        },
        {
         "alignmentgroup": "True",
         "hovertemplate": "Miner=1ca43b645886c98d7eb7d27ec16ea59f509cbe1a<br>Block Date=%{x}<br>Block Count=%{y}<extra></extra>",
         "legendgroup": "1ca43b645886c98d7eb7d27ec16ea59f509cbe1a",
         "marker": {
          "color": "#ab63fa",
          "pattern": {
           "shape": ""
          }
         },
         "name": "1ca43b645886c98d7eb7d27ec16ea59f509cbe1a",
         "offsetgroup": "1ca43b645886c98d7eb7d27ec16ea59f509cbe1a",
         "orientation": "v",
         "showlegend": true,
         "textposition": "auto",
         "type": "bar",
         "x": [
          "2022-01-01T00:00:00",
          "2022-01-02T00:00:00",
          "2022-01-03T00:00:00",
          "2022-01-04T00:00:00",
          "2022-01-05T00:00:00",
          "2022-01-06T00:00:00",
          "2022-01-07T00:00:00",
          "2022-01-08T00:00:00",
          "2022-01-09T00:00:00",
          "2022-01-10T00:00:00",
          "2022-01-11T00:00:00",
          "2022-01-12T00:00:00",
          "2022-01-13T00:00:00",
          "2022-01-14T00:00:00",
          "2022-01-15T00:00:00",
          "2022-01-16T00:00:00",
          "2022-01-17T00:00:00",
          "2022-01-18T00:00:00",
          "2022-01-19T00:00:00",
          "2022-01-20T00:00:00",
          "2022-01-21T00:00:00",
          "2022-01-22T00:00:00",
          "2022-01-23T00:00:00",
          "2022-01-24T00:00:00",
          "2022-01-25T00:00:00",
          "2022-01-26T00:00:00",
          "2022-01-27T00:00:00",
          "2022-01-28T00:00:00",
          "2022-01-29T00:00:00",
          "2022-01-30T00:00:00",
          "2022-01-31T00:00:00",
          "2022-02-01T00:00:00",
          "2022-02-02T00:00:00",
          "2022-02-03T00:00:00"
         ],
         "xaxis": "x",
         "y": [
          34,
          27,
          37,
          27,
          31,
          26,
          28,
          25,
          18,
          31,
          23,
          21,
          26,
          23,
          23,
          20,
          19,
          32,
          28,
          25,
          24,
          21,
          24,
          24,
          24,
          19,
          20,
          32,
          19,
          16,
          19,
          29,
          27,
          19
         ],
         "yaxis": "y"
        },
        {
         "alignmentgroup": "True",
         "hovertemplate": "Miner=c93452a74e596e81e4f73ca1acff532089ad4c62<br>Block Date=%{x}<br>Block Count=%{y}<extra></extra>",
         "legendgroup": "c93452a74e596e81e4f73ca1acff532089ad4c62",
         "marker": {
          "color": "#FFA15A",
          "pattern": {
           "shape": ""
          }
         },
         "name": "c93452a74e596e81e4f73ca1acff532089ad4c62",
         "offsetgroup": "c93452a74e596e81e4f73ca1acff532089ad4c62",
         "orientation": "v",
         "showlegend": true,
         "textposition": "auto",
         "type": "bar",
         "x": [
          "2022-01-01T00:00:00",
          "2022-01-02T00:00:00",
          "2022-01-03T00:00:00",
          "2022-01-04T00:00:00",
          "2022-01-05T00:00:00",
          "2022-01-06T00:00:00",
          "2022-01-07T00:00:00",
          "2022-01-08T00:00:00",
          "2022-01-09T00:00:00",
          "2022-01-10T00:00:00",
          "2022-01-11T00:00:00",
          "2022-01-12T00:00:00",
          "2022-01-13T00:00:00",
          "2022-01-14T00:00:00",
          "2022-01-15T00:00:00",
          "2022-01-16T00:00:00",
          "2022-01-17T00:00:00",
          "2022-01-18T00:00:00",
          "2022-01-19T00:00:00",
          "2022-01-20T00:00:00",
          "2022-01-21T00:00:00",
          "2022-01-22T00:00:00",
          "2022-01-23T00:00:00",
          "2022-01-24T00:00:00",
          "2022-01-25T00:00:00",
          "2022-01-26T00:00:00",
          "2022-01-27T00:00:00",
          "2022-01-28T00:00:00",
          "2022-01-29T00:00:00",
          "2022-01-30T00:00:00",
          "2022-01-31T00:00:00",
          "2022-02-01T00:00:00",
          "2022-02-02T00:00:00",
          "2022-02-03T00:00:00"
         ],
         "xaxis": "x",
         "y": [
          33,
          41,
          37,
          27,
          34,
          38,
          13,
          32,
          24,
          24,
          31,
          31,
          34,
          40,
          35,
          32,
          25,
          38,
          29,
          33,
          28,
          28,
          28,
          22,
          31,
          24,
          23,
          31,
          30,
          22,
          36,
          35,
          34,
          30
         ],
         "yaxis": "y"
        },
        {
         "alignmentgroup": "True",
         "hovertemplate": "Miner=002e08000acbbae2155fab7ac01929564949070d<br>Block Date=%{x}<br>Block Count=%{y}<extra></extra>",
         "legendgroup": "002e08000acbbae2155fab7ac01929564949070d",
         "marker": {
          "color": "#19d3f3",
          "pattern": {
           "shape": ""
          }
         },
         "name": "002e08000acbbae2155fab7ac01929564949070d",
         "offsetgroup": "002e08000acbbae2155fab7ac01929564949070d",
         "orientation": "v",
         "showlegend": true,
         "textposition": "auto",
         "type": "bar",
         "x": [
          "2022-01-01T00:00:00",
          "2022-01-02T00:00:00",
          "2022-01-03T00:00:00",
          "2022-01-04T00:00:00",
          "2022-01-05T00:00:00",
          "2022-01-06T00:00:00",
          "2022-01-07T00:00:00",
          "2022-01-08T00:00:00",
          "2022-01-09T00:00:00",
          "2022-01-10T00:00:00",
          "2022-01-11T00:00:00",
          "2022-01-12T00:00:00",
          "2022-01-13T00:00:00",
          "2022-01-14T00:00:00",
          "2022-01-15T00:00:00",
          "2022-01-16T00:00:00",
          "2022-01-17T00:00:00",
          "2022-01-18T00:00:00",
          "2022-01-19T00:00:00",
          "2022-01-20T00:00:00",
          "2022-01-21T00:00:00",
          "2022-01-22T00:00:00",
          "2022-01-23T00:00:00",
          "2022-01-24T00:00:00",
          "2022-01-25T00:00:00",
          "2022-01-26T00:00:00",
          "2022-01-27T00:00:00",
          "2022-01-28T00:00:00",
          "2022-01-29T00:00:00",
          "2022-01-30T00:00:00",
          "2022-01-31T00:00:00",
          "2022-02-01T00:00:00",
          "2022-02-02T00:00:00",
          "2022-02-03T00:00:00"
         ],
         "xaxis": "x",
         "y": [
          32,
          12,
          11,
          28,
          25,
          28,
          31,
          28,
          33,
          26,
          27,
          22,
          19,
          27,
          29,
          21,
          25,
          31,
          33,
          48,
          47,
          42,
          34,
          28,
          28,
          42,
          42,
          30,
          39,
          24,
          31,
          37,
          35,
          21
         ],
         "yaxis": "y"
        },
        {
         "alignmentgroup": "True",
         "hovertemplate": "Miner=776bb566dc299c9e722773d2a04b401e831a6dc8<br>Block Date=%{x}<br>Block Count=%{y}<extra></extra>",
         "legendgroup": "776bb566dc299c9e722773d2a04b401e831a6dc8",
         "marker": {
          "color": "#FF6692",
          "pattern": {
           "shape": ""
          }
         },
         "name": "776bb566dc299c9e722773d2a04b401e831a6dc8",
         "offsetgroup": "776bb566dc299c9e722773d2a04b401e831a6dc8",
         "orientation": "v",
         "showlegend": true,
         "textposition": "auto",
         "type": "bar",
         "x": [
          "2022-01-01T00:00:00",
          "2022-01-02T00:00:00",
          "2022-01-03T00:00:00",
          "2022-01-04T00:00:00",
          "2022-01-05T00:00:00",
          "2022-01-06T00:00:00",
          "2022-01-07T00:00:00",
          "2022-01-08T00:00:00",
          "2022-01-09T00:00:00",
          "2022-01-10T00:00:00",
          "2022-01-11T00:00:00",
          "2022-01-12T00:00:00",
          "2022-01-13T00:00:00",
          "2022-01-14T00:00:00",
          "2022-01-15T00:00:00",
          "2022-01-16T00:00:00",
          "2022-01-17T00:00:00",
          "2022-01-18T00:00:00",
          "2022-01-19T00:00:00",
          "2022-01-20T00:00:00",
          "2022-01-21T00:00:00",
          "2022-01-22T00:00:00",
          "2022-01-23T00:00:00",
          "2022-01-24T00:00:00",
          "2022-01-25T00:00:00",
          "2022-01-26T00:00:00",
          "2022-01-27T00:00:00",
          "2022-01-28T00:00:00",
          "2022-01-29T00:00:00",
          "2022-01-30T00:00:00",
          "2022-01-31T00:00:00",
          "2022-02-01T00:00:00",
          "2022-02-02T00:00:00",
          "2022-02-03T00:00:00"
         ],
         "xaxis": "x",
         "y": [
          28,
          25,
          23,
          31,
          16,
          16,
          17,
          20,
          14,
          18,
          19,
          22,
          17,
          13,
          12,
          5,
          13,
          18,
          13,
          17,
          11,
          11,
          10,
          10,
          13,
          10,
          16,
          12,
          8,
          17,
          14,
          16,
          9,
          11
         ],
         "yaxis": "y"
        },
        {
         "alignmentgroup": "True",
         "hovertemplate": "Miner=433022c4066558e7a32d850f02d2da5ca782174d<br>Block Date=%{x}<br>Block Count=%{y}<extra></extra>",
         "legendgroup": "433022c4066558e7a32d850f02d2da5ca782174d",
         "marker": {
          "color": "#B6E880",
          "pattern": {
           "shape": ""
          }
         },
         "name": "433022c4066558e7a32d850f02d2da5ca782174d",
         "offsetgroup": "433022c4066558e7a32d850f02d2da5ca782174d",
         "orientation": "v",
         "showlegend": true,
         "textposition": "auto",
         "type": "bar",
         "x": [
          "2022-01-01T00:00:00",
          "2022-01-02T00:00:00",
          "2022-01-03T00:00:00",
          "2022-01-04T00:00:00",
          "2022-01-05T00:00:00",
          "2022-01-06T00:00:00",
          "2022-01-07T00:00:00",
          "2022-01-08T00:00:00",
          "2022-01-09T00:00:00",
          "2022-01-10T00:00:00",
          "2022-01-11T00:00:00",
          "2022-01-12T00:00:00",
          "2022-01-13T00:00:00",
          "2022-01-14T00:00:00",
          "2022-01-15T00:00:00",
          "2022-01-16T00:00:00",
          "2022-01-17T00:00:00",
          "2022-01-18T00:00:00",
          "2022-01-19T00:00:00",
          "2022-01-20T00:00:00",
          "2022-01-21T00:00:00",
          "2022-01-22T00:00:00",
          "2022-01-23T00:00:00",
          "2022-01-24T00:00:00",
          "2022-01-25T00:00:00",
          "2022-01-26T00:00:00",
          "2022-01-27T00:00:00",
          "2022-01-28T00:00:00",
          "2022-01-29T00:00:00",
          "2022-01-30T00:00:00",
          "2022-01-31T00:00:00",
          "2022-02-01T00:00:00",
          "2022-02-02T00:00:00",
          "2022-02-03T00:00:00"
         ],
         "xaxis": "x",
         "y": [
          27,
          38,
          25,
          30,
          21,
          21,
          43,
          33,
          35,
          35,
          29,
          28,
          28,
          48,
          41,
          30,
          26,
          36,
          35,
          38,
          29,
          34,
          37,
          42,
          40,
          33,
          42,
          42,
          47,
          44,
          32,
          37,
          25,
          35
         ],
         "yaxis": "y"
        },
        {
         "alignmentgroup": "True",
         "hovertemplate": "Miner=5b56f09e7d6272fc014f8526a5290700c5bb302b<br>Block Date=%{x}<br>Block Count=%{y}<extra></extra>",
         "legendgroup": "5b56f09e7d6272fc014f8526a5290700c5bb302b",
         "marker": {
          "color": "#FF97FF",
          "pattern": {
           "shape": ""
          }
         },
         "name": "5b56f09e7d6272fc014f8526a5290700c5bb302b",
         "offsetgroup": "5b56f09e7d6272fc014f8526a5290700c5bb302b",
         "orientation": "v",
         "showlegend": true,
         "textposition": "auto",
         "type": "bar",
         "x": [
          "2022-01-01T00:00:00",
          "2022-01-02T00:00:00",
          "2022-01-03T00:00:00",
          "2022-01-04T00:00:00",
          "2022-01-05T00:00:00",
          "2022-01-06T00:00:00",
          "2022-01-07T00:00:00",
          "2022-01-08T00:00:00",
          "2022-01-09T00:00:00",
          "2022-01-10T00:00:00",
          "2022-01-11T00:00:00",
          "2022-01-12T00:00:00",
          "2022-01-13T00:00:00",
          "2022-01-14T00:00:00",
          "2022-01-15T00:00:00",
          "2022-01-16T00:00:00",
          "2022-01-17T00:00:00",
          "2022-01-18T00:00:00",
          "2022-01-19T00:00:00",
          "2022-01-20T00:00:00",
          "2022-01-21T00:00:00",
          "2022-01-22T00:00:00",
          "2022-01-23T00:00:00",
          "2022-01-24T00:00:00",
          "2022-01-25T00:00:00",
          "2022-01-26T00:00:00",
          "2022-01-27T00:00:00",
          "2022-01-28T00:00:00",
          "2022-01-29T00:00:00",
          "2022-01-30T00:00:00",
          "2022-01-31T00:00:00",
          "2022-02-01T00:00:00",
          "2022-02-02T00:00:00",
          "2022-02-03T00:00:00"
         ],
         "xaxis": "x",
         "y": [
          20,
          28,
          17,
          21,
          20,
          24,
          24,
          21,
          21,
          29,
          21,
          30,
          28,
          17,
          20,
          16,
          20,
          21,
          20,
          22,
          21,
          23,
          9,
          21,
          13,
          14,
          15,
          20,
          16,
          18,
          19,
          20,
          17,
          15
         ],
         "yaxis": "y"
        },
        {
         "alignmentgroup": "True",
         "hovertemplate": "Miner=249bdb4499bd7c683664c149276c1d86108e2137<br>Block Date=%{x}<br>Block Count=%{y}<extra></extra>",
         "legendgroup": "249bdb4499bd7c683664c149276c1d86108e2137",
         "marker": {
          "color": "#FECB52",
          "pattern": {
           "shape": ""
          }
         },
         "name": "249bdb4499bd7c683664c149276c1d86108e2137",
         "offsetgroup": "249bdb4499bd7c683664c149276c1d86108e2137",
         "orientation": "v",
         "showlegend": true,
         "textposition": "auto",
         "type": "bar",
         "x": [
          "2022-01-01T00:00:00",
          "2022-01-02T00:00:00",
          "2022-01-03T00:00:00",
          "2022-01-04T00:00:00",
          "2022-01-05T00:00:00",
          "2022-01-06T00:00:00",
          "2022-01-07T00:00:00",
          "2022-01-08T00:00:00",
          "2022-01-09T00:00:00",
          "2022-01-10T00:00:00",
          "2022-01-11T00:00:00",
          "2022-01-12T00:00:00",
          "2022-01-13T00:00:00",
          "2022-01-14T00:00:00",
          "2022-01-15T00:00:00",
          "2022-01-16T00:00:00",
          "2022-01-17T00:00:00",
          "2022-01-18T00:00:00",
          "2022-01-19T00:00:00",
          "2022-01-20T00:00:00",
          "2022-01-21T00:00:00",
          "2022-01-22T00:00:00",
          "2022-01-23T00:00:00",
          "2022-01-24T00:00:00",
          "2022-01-25T00:00:00",
          "2022-01-26T00:00:00",
          "2022-01-27T00:00:00",
          "2022-01-28T00:00:00",
          "2022-01-29T00:00:00",
          "2022-01-30T00:00:00",
          "2022-01-31T00:00:00",
          "2022-02-01T00:00:00",
          "2022-02-02T00:00:00",
          "2022-02-03T00:00:00"
         ],
         "xaxis": "x",
         "y": [
          17,
          11,
          5,
          8,
          17,
          4,
          5,
          6,
          15,
          19,
          8,
          11,
          9,
          14,
          11,
          12,
          15,
          13,
          5,
          13,
          21,
          12,
          14,
          2,
          21,
          11,
          33,
          17,
          14,
          19,
          8,
          16,
          14,
          8
         ],
         "yaxis": "y"
        },
        {
         "alignmentgroup": "True",
         "hovertemplate": "Miner=4f9bebe3adc3c7f647c0023c60f91ac9dffa52d5<br>Block Date=%{x}<br>Block Count=%{y}<extra></extra>",
         "legendgroup": "4f9bebe3adc3c7f647c0023c60f91ac9dffa52d5",
         "marker": {
          "color": "#636efa",
          "pattern": {
           "shape": ""
          }
         },
         "name": "4f9bebe3adc3c7f647c0023c60f91ac9dffa52d5",
         "offsetgroup": "4f9bebe3adc3c7f647c0023c60f91ac9dffa52d5",
         "orientation": "v",
         "showlegend": true,
         "textposition": "auto",
         "type": "bar",
         "x": [
          "2022-01-01T00:00:00",
          "2022-01-02T00:00:00",
          "2022-01-03T00:00:00",
          "2022-01-04T00:00:00",
          "2022-01-05T00:00:00",
          "2022-01-06T00:00:00",
          "2022-01-07T00:00:00",
          "2022-01-08T00:00:00",
          "2022-01-09T00:00:00",
          "2022-01-10T00:00:00",
          "2022-01-11T00:00:00",
          "2022-01-12T00:00:00",
          "2022-01-13T00:00:00",
          "2022-01-14T00:00:00",
          "2022-01-15T00:00:00",
          "2022-01-16T00:00:00",
          "2022-01-17T00:00:00",
          "2022-01-18T00:00:00",
          "2022-01-19T00:00:00",
          "2022-01-20T00:00:00",
          "2022-01-21T00:00:00",
          "2022-01-22T00:00:00",
          "2022-01-23T00:00:00",
          "2022-01-24T00:00:00",
          "2022-01-25T00:00:00",
          "2022-01-26T00:00:00",
          "2022-01-27T00:00:00",
          "2022-01-28T00:00:00",
          "2022-01-29T00:00:00",
          "2022-01-30T00:00:00",
          "2022-01-31T00:00:00",
          "2022-02-01T00:00:00",
          "2022-02-02T00:00:00",
          "2022-02-03T00:00:00"
         ],
         "xaxis": "x",
         "y": [
          16,
          15,
          14,
          11,
          12,
          8,
          15,
          15,
          10,
          7,
          11,
          12,
          9,
          14,
          7,
          10,
          10,
          9,
          16,
          11,
          19,
          9,
          17,
          12,
          19,
          8,
          10,
          12,
          14,
          4,
          11,
          13,
          20,
          10
         ],
         "yaxis": "y"
        },
        {
         "alignmentgroup": "True",
         "hovertemplate": "Miner=aee98861388af1d6323b95f78adf3dda102a276c<br>Block Date=%{x}<br>Block Count=%{y}<extra></extra>",
         "legendgroup": "aee98861388af1d6323b95f78adf3dda102a276c",
         "marker": {
          "color": "#EF553B",
          "pattern": {
           "shape": ""
          }
         },
         "name": "aee98861388af1d6323b95f78adf3dda102a276c",
         "offsetgroup": "aee98861388af1d6323b95f78adf3dda102a276c",
         "orientation": "v",
         "showlegend": true,
         "textposition": "auto",
         "type": "bar",
         "x": [
          "2022-01-01T00:00:00",
          "2022-01-02T00:00:00",
          "2022-01-03T00:00:00",
          "2022-01-04T00:00:00",
          "2022-01-05T00:00:00",
          "2022-01-06T00:00:00",
          "2022-01-07T00:00:00",
          "2022-01-08T00:00:00",
          "2022-01-09T00:00:00",
          "2022-01-10T00:00:00",
          "2022-01-11T00:00:00",
          "2022-01-12T00:00:00",
          "2022-01-13T00:00:00",
          "2022-01-14T00:00:00",
          "2022-01-15T00:00:00",
          "2022-01-16T00:00:00",
          "2022-01-17T00:00:00",
          "2022-01-18T00:00:00",
          "2022-01-19T00:00:00",
          "2022-01-20T00:00:00",
          "2022-01-21T00:00:00",
          "2022-01-22T00:00:00",
          "2022-01-23T00:00:00",
          "2022-01-24T00:00:00",
          "2022-01-25T00:00:00",
          "2022-01-26T00:00:00",
          "2022-01-27T00:00:00",
          "2022-01-28T00:00:00",
          "2022-01-29T00:00:00",
          "2022-01-30T00:00:00",
          "2022-01-31T00:00:00",
          "2022-02-01T00:00:00",
          "2022-02-02T00:00:00",
          "2022-02-03T00:00:00"
         ],
         "xaxis": "x",
         "y": [
          12,
          6,
          6,
          7,
          9,
          6,
          6,
          8,
          6,
          9,
          6,
          4,
          9,
          4,
          9,
          6,
          7,
          5,
          7,
          4,
          3,
          4,
          10,
          7,
          4,
          6,
          7,
          4,
          1,
          3,
          7,
          5,
          7,
          6
         ],
         "yaxis": "y"
        },
        {
         "alignmentgroup": "True",
         "hovertemplate": "Miner=26b3eea1cd34a4aff7ce828a5f71daac042d38e0<br>Block Date=%{x}<br>Block Count=%{y}<extra></extra>",
         "legendgroup": "26b3eea1cd34a4aff7ce828a5f71daac042d38e0",
         "marker": {
          "color": "#00cc96",
          "pattern": {
           "shape": ""
          }
         },
         "name": "26b3eea1cd34a4aff7ce828a5f71daac042d38e0",
         "offsetgroup": "26b3eea1cd34a4aff7ce828a5f71daac042d38e0",
         "orientation": "v",
         "showlegend": true,
         "textposition": "auto",
         "type": "bar",
         "x": [
          "2022-01-01T00:00:00",
          "2022-01-02T00:00:00",
          "2022-01-03T00:00:00",
          "2022-01-04T00:00:00",
          "2022-01-05T00:00:00",
          "2022-01-06T00:00:00",
          "2022-01-07T00:00:00",
          "2022-01-08T00:00:00",
          "2022-01-09T00:00:00",
          "2022-01-10T00:00:00",
          "2022-01-11T00:00:00",
          "2022-01-12T00:00:00",
          "2022-01-13T00:00:00",
          "2022-01-14T00:00:00",
          "2022-01-15T00:00:00",
          "2022-01-16T00:00:00",
          "2022-01-17T00:00:00",
          "2022-01-18T00:00:00",
          "2022-01-19T00:00:00",
          "2022-01-20T00:00:00",
          "2022-01-21T00:00:00",
          "2022-01-22T00:00:00",
          "2022-01-23T00:00:00",
          "2022-01-24T00:00:00",
          "2022-01-25T00:00:00",
          "2022-01-26T00:00:00",
          "2022-01-27T00:00:00",
          "2022-01-28T00:00:00",
          "2022-01-29T00:00:00",
          "2022-01-30T00:00:00",
          "2022-01-31T00:00:00",
          "2022-02-01T00:00:00",
          "2022-02-02T00:00:00",
          "2022-02-03T00:00:00"
         ],
         "xaxis": "x",
         "y": [
          12,
          15,
          11,
          11,
          12,
          11,
          15,
          13,
          30,
          19,
          13,
          13,
          17,
          18,
          25,
          23,
          22,
          15,
          17,
          11,
          18,
          12,
          15,
          18,
          20,
          19,
          13,
          12,
          13,
          18,
          16,
          17,
          14,
          11
         ],
         "yaxis": "y"
        },
        {
         "alignmentgroup": "True",
         "hovertemplate": "Miner=5dcb78343780e1b1e578ae0590dc1e868792a435<br>Block Date=%{x}<br>Block Count=%{y}<extra></extra>",
         "legendgroup": "5dcb78343780e1b1e578ae0590dc1e868792a435",
         "marker": {
          "color": "#ab63fa",
          "pattern": {
           "shape": ""
          }
         },
         "name": "5dcb78343780e1b1e578ae0590dc1e868792a435",
         "offsetgroup": "5dcb78343780e1b1e578ae0590dc1e868792a435",
         "orientation": "v",
         "showlegend": true,
         "textposition": "auto",
         "type": "bar",
         "x": [
          "2022-01-01T00:00:00",
          "2022-01-02T00:00:00",
          "2022-01-03T00:00:00",
          "2022-01-04T00:00:00",
          "2022-01-05T00:00:00",
          "2022-01-06T00:00:00",
          "2022-01-07T00:00:00",
          "2022-01-08T00:00:00",
          "2022-01-09T00:00:00",
          "2022-01-10T00:00:00",
          "2022-01-11T00:00:00",
          "2022-01-12T00:00:00",
          "2022-01-13T00:00:00",
          "2022-01-14T00:00:00",
          "2022-01-15T00:00:00",
          "2022-01-16T00:00:00",
          "2022-01-17T00:00:00",
          "2022-01-18T00:00:00",
          "2022-01-19T00:00:00",
          "2022-01-20T00:00:00",
          "2022-01-21T00:00:00",
          "2022-01-22T00:00:00",
          "2022-01-23T00:00:00",
          "2022-01-24T00:00:00",
          "2022-01-25T00:00:00",
          "2022-01-26T00:00:00",
          "2022-01-27T00:00:00",
          "2022-01-28T00:00:00",
          "2022-01-29T00:00:00",
          "2022-01-30T00:00:00",
          "2022-01-31T00:00:00",
          "2022-02-01T00:00:00",
          "2022-02-02T00:00:00",
          "2022-02-03T00:00:00"
         ],
         "xaxis": "x",
         "y": [
          11,
          9,
          10,
          11,
          15,
          13,
          10,
          8,
          16,
          16,
          12,
          10,
          7,
          12,
          11,
          16,
          11,
          14,
          10,
          8,
          11,
          10,
          9,
          11,
          9,
          9,
          10,
          10,
          7,
          13,
          6,
          11,
          7,
          12
         ],
         "yaxis": "y"
        },
        {
         "alignmentgroup": "True",
         "hovertemplate": "Miner=09ab1303d3ccaf5f018cd511146b07a240c70294<br>Block Date=%{x}<br>Block Count=%{y}<extra></extra>",
         "legendgroup": "09ab1303d3ccaf5f018cd511146b07a240c70294",
         "marker": {
          "color": "#FFA15A",
          "pattern": {
           "shape": ""
          }
         },
         "name": "09ab1303d3ccaf5f018cd511146b07a240c70294",
         "offsetgroup": "09ab1303d3ccaf5f018cd511146b07a240c70294",
         "orientation": "v",
         "showlegend": true,
         "textposition": "auto",
         "type": "bar",
         "x": [
          "2022-01-01T00:00:00",
          "2022-01-02T00:00:00",
          "2022-01-03T00:00:00",
          "2022-01-04T00:00:00",
          "2022-01-05T00:00:00",
          "2022-01-06T00:00:00",
          "2022-01-07T00:00:00",
          "2022-01-08T00:00:00",
          "2022-01-09T00:00:00",
          "2022-01-10T00:00:00",
          "2022-01-11T00:00:00",
          "2022-01-12T00:00:00",
          "2022-01-13T00:00:00",
          "2022-01-14T00:00:00",
          "2022-01-15T00:00:00",
          "2022-01-16T00:00:00",
          "2022-01-17T00:00:00",
          "2022-01-18T00:00:00",
          "2022-01-19T00:00:00",
          "2022-01-20T00:00:00",
          "2022-01-21T00:00:00",
          "2022-01-22T00:00:00",
          "2022-01-23T00:00:00",
          "2022-01-24T00:00:00",
          "2022-01-25T00:00:00",
          "2022-01-26T00:00:00",
          "2022-01-27T00:00:00",
          "2022-01-28T00:00:00",
          "2022-01-29T00:00:00",
          "2022-01-30T00:00:00",
          "2022-01-31T00:00:00",
          "2022-02-01T00:00:00",
          "2022-02-02T00:00:00",
          "2022-02-03T00:00:00"
         ],
         "xaxis": "x",
         "y": [
          11,
          6,
          7,
          9,
          11,
          7,
          7,
          17,
          8,
          6,
          6,
          8,
          11,
          11,
          6,
          13,
          7,
          9,
          8,
          3,
          12,
          6,
          5,
          8,
          6,
          8,
          9,
          13,
          8,
          7,
          9,
          11,
          8,
          7
         ],
         "yaxis": "y"
        },
        {
         "alignmentgroup": "True",
         "hovertemplate": "Miner=537b6bd3caeb0d41540ac1fd406b9acda5670aad<br>Block Date=%{x}<br>Block Count=%{y}<extra></extra>",
         "legendgroup": "537b6bd3caeb0d41540ac1fd406b9acda5670aad",
         "marker": {
          "color": "#19d3f3",
          "pattern": {
           "shape": ""
          }
         },
         "name": "537b6bd3caeb0d41540ac1fd406b9acda5670aad",
         "offsetgroup": "537b6bd3caeb0d41540ac1fd406b9acda5670aad",
         "orientation": "v",
         "showlegend": true,
         "textposition": "auto",
         "type": "bar",
         "x": [
          "2022-01-01T00:00:00",
          "2022-01-02T00:00:00",
          "2022-01-03T00:00:00",
          "2022-01-04T00:00:00",
          "2022-01-05T00:00:00",
          "2022-01-06T00:00:00",
          "2022-01-07T00:00:00",
          "2022-01-08T00:00:00",
          "2022-01-09T00:00:00",
          "2022-01-10T00:00:00",
          "2022-01-11T00:00:00",
          "2022-01-12T00:00:00",
          "2022-01-13T00:00:00",
          "2022-01-14T00:00:00",
          "2022-01-15T00:00:00",
          "2022-01-16T00:00:00",
          "2022-01-17T00:00:00",
          "2022-01-18T00:00:00",
          "2022-01-19T00:00:00",
          "2022-01-20T00:00:00",
          "2022-01-21T00:00:00",
          "2022-01-22T00:00:00",
          "2022-01-23T00:00:00",
          "2022-01-24T00:00:00",
          "2022-01-25T00:00:00",
          "2022-01-26T00:00:00",
          "2022-01-27T00:00:00",
          "2022-01-28T00:00:00",
          "2022-01-29T00:00:00",
          "2022-01-30T00:00:00",
          "2022-01-31T00:00:00",
          "2022-02-01T00:00:00",
          "2022-02-02T00:00:00",
          "2022-02-03T00:00:00"
         ],
         "xaxis": "x",
         "y": [
          10,
          5,
          7,
          5,
          10,
          11,
          7,
          11,
          8,
          4,
          10,
          14,
          5,
          5,
          10,
          11,
          12,
          6,
          8,
          6,
          15,
          4,
          11,
          10,
          7,
          4,
          3,
          7,
          10,
          9,
          13,
          4,
          9,
          5
         ],
         "yaxis": "y"
        },
        {
         "alignmentgroup": "True",
         "hovertemplate": "Miner=f35074bbd0a9aee46f4ea137971feec024ab704e<br>Block Date=%{x}<br>Block Count=%{y}<extra></extra>",
         "legendgroup": "f35074bbd0a9aee46f4ea137971feec024ab704e",
         "marker": {
          "color": "#FF6692",
          "pattern": {
           "shape": ""
          }
         },
         "name": "f35074bbd0a9aee46f4ea137971feec024ab704e",
         "offsetgroup": "f35074bbd0a9aee46f4ea137971feec024ab704e",
         "orientation": "v",
         "showlegend": true,
         "textposition": "auto",
         "type": "bar",
         "x": [
          "2022-01-01T00:00:00",
          "2022-01-03T00:00:00",
          "2022-01-04T00:00:00",
          "2022-01-05T00:00:00",
          "2022-01-07T00:00:00",
          "2022-01-08T00:00:00",
          "2022-01-09T00:00:00",
          "2022-01-10T00:00:00",
          "2022-01-11T00:00:00",
          "2022-01-14T00:00:00",
          "2022-01-16T00:00:00",
          "2022-01-21T00:00:00",
          "2022-01-23T00:00:00",
          "2022-01-24T00:00:00",
          "2022-01-25T00:00:00",
          "2022-01-27T00:00:00",
          "2022-01-28T00:00:00",
          "2022-01-29T00:00:00",
          "2022-01-30T00:00:00",
          "2022-01-31T00:00:00",
          "2022-02-01T00:00:00",
          "2022-02-02T00:00:00",
          "2022-02-03T00:00:00"
         ],
         "xaxis": "x",
         "y": [
          7,
          2,
          3,
          1,
          6,
          2,
          7,
          1,
          4,
          2,
          1,
          2,
          1,
          6,
          2,
          4,
          6,
          7,
          6,
          3,
          2,
          1,
          1
         ],
         "yaxis": "y"
        },
        {
         "alignmentgroup": "True",
         "hovertemplate": "Miner=7777788200b672a42421017f65ede4fc759564c8<br>Block Date=%{x}<br>Block Count=%{y}<extra></extra>",
         "legendgroup": "7777788200b672a42421017f65ede4fc759564c8",
         "marker": {
          "color": "#B6E880",
          "pattern": {
           "shape": ""
          }
         },
         "name": "7777788200b672a42421017f65ede4fc759564c8",
         "offsetgroup": "7777788200b672a42421017f65ede4fc759564c8",
         "orientation": "v",
         "showlegend": true,
         "textposition": "auto",
         "type": "bar",
         "x": [
          "2022-01-01T00:00:00",
          "2022-01-02T00:00:00",
          "2022-01-03T00:00:00",
          "2022-01-04T00:00:00",
          "2022-01-05T00:00:00",
          "2022-01-06T00:00:00",
          "2022-01-07T00:00:00",
          "2022-01-08T00:00:00",
          "2022-01-09T00:00:00",
          "2022-01-10T00:00:00",
          "2022-01-11T00:00:00",
          "2022-01-12T00:00:00",
          "2022-01-13T00:00:00",
          "2022-01-14T00:00:00",
          "2022-01-15T00:00:00",
          "2022-01-16T00:00:00",
          "2022-01-17T00:00:00",
          "2022-01-18T00:00:00",
          "2022-01-19T00:00:00",
          "2022-01-20T00:00:00",
          "2022-01-21T00:00:00",
          "2022-01-22T00:00:00",
          "2022-01-23T00:00:00",
          "2022-01-24T00:00:00",
          "2022-01-25T00:00:00",
          "2022-01-26T00:00:00",
          "2022-01-27T00:00:00",
          "2022-01-28T00:00:00",
          "2022-01-29T00:00:00",
          "2022-01-30T00:00:00",
          "2022-01-31T00:00:00",
          "2022-02-01T00:00:00",
          "2022-02-02T00:00:00",
          "2022-02-03T00:00:00"
         ],
         "xaxis": "x",
         "y": [
          6,
          10,
          5,
          11,
          6,
          9,
          11,
          14,
          11,
          11,
          11,
          11,
          12,
          6,
          13,
          20,
          19,
          10,
          9,
          6,
          23,
          13,
          9,
          8,
          13,
          10,
          12,
          9,
          7,
          3,
          8,
          12,
          16,
          8
         ],
         "yaxis": "y"
        },
        {
         "alignmentgroup": "True",
         "hovertemplate": "Miner=21479eb8cb1a27861c902f07a952b72b10fd53ef<br>Block Date=%{x}<br>Block Count=%{y}<extra></extra>",
         "legendgroup": "21479eb8cb1a27861c902f07a952b72b10fd53ef",
         "marker": {
          "color": "#FF97FF",
          "pattern": {
           "shape": ""
          }
         },
         "name": "21479eb8cb1a27861c902f07a952b72b10fd53ef",
         "offsetgroup": "21479eb8cb1a27861c902f07a952b72b10fd53ef",
         "orientation": "v",
         "showlegend": true,
         "textposition": "auto",
         "type": "bar",
         "x": [
          "2022-01-01T00:00:00",
          "2022-01-02T00:00:00",
          "2022-01-03T00:00:00",
          "2022-01-04T00:00:00",
          "2022-01-05T00:00:00",
          "2022-01-06T00:00:00",
          "2022-01-08T00:00:00",
          "2022-01-10T00:00:00",
          "2022-01-11T00:00:00",
          "2022-01-12T00:00:00",
          "2022-01-13T00:00:00",
          "2022-01-14T00:00:00",
          "2022-01-15T00:00:00",
          "2022-01-16T00:00:00",
          "2022-01-17T00:00:00",
          "2022-01-18T00:00:00",
          "2022-01-19T00:00:00",
          "2022-01-20T00:00:00",
          "2022-01-21T00:00:00",
          "2022-01-22T00:00:00",
          "2022-01-23T00:00:00",
          "2022-01-24T00:00:00",
          "2022-01-25T00:00:00",
          "2022-01-26T00:00:00",
          "2022-01-27T00:00:00",
          "2022-01-28T00:00:00",
          "2022-01-29T00:00:00",
          "2022-01-30T00:00:00",
          "2022-01-31T00:00:00",
          "2022-02-01T00:00:00",
          "2022-02-02T00:00:00",
          "2022-02-03T00:00:00"
         ],
         "xaxis": "x",
         "y": [
          2,
          7,
          3,
          7,
          17,
          4,
          3,
          2,
          3,
          9,
          4,
          3,
          8,
          4,
          13,
          12,
          1,
          10,
          5,
          15,
          2,
          2,
          8,
          6,
          6,
          4,
          4,
          5,
          4,
          6,
          2,
          6
         ],
         "yaxis": "y"
        },
        {
         "alignmentgroup": "True",
         "hovertemplate": "Miner=c7fabfd21f0b3254686337b63b4f1282c29aadd8<br>Block Date=%{x}<br>Block Count=%{y}<extra></extra>",
         "legendgroup": "c7fabfd21f0b3254686337b63b4f1282c29aadd8",
         "marker": {
          "color": "#FECB52",
          "pattern": {
           "shape": ""
          }
         },
         "name": "c7fabfd21f0b3254686337b63b4f1282c29aadd8",
         "offsetgroup": "c7fabfd21f0b3254686337b63b4f1282c29aadd8",
         "orientation": "v",
         "showlegend": true,
         "textposition": "auto",
         "type": "bar",
         "x": [
          "2022-01-01T00:00:00",
          "2022-01-02T00:00:00",
          "2022-01-03T00:00:00",
          "2022-01-04T00:00:00",
          "2022-01-05T00:00:00",
          "2022-01-06T00:00:00",
          "2022-01-07T00:00:00",
          "2022-01-09T00:00:00",
          "2022-01-10T00:00:00",
          "2022-01-12T00:00:00",
          "2022-01-13T00:00:00",
          "2022-01-14T00:00:00",
          "2022-01-16T00:00:00",
          "2022-01-17T00:00:00",
          "2022-01-22T00:00:00",
          "2022-01-23T00:00:00",
          "2022-01-24T00:00:00",
          "2022-01-25T00:00:00",
          "2022-01-26T00:00:00",
          "2022-01-27T00:00:00",
          "2022-01-28T00:00:00",
          "2022-01-29T00:00:00",
          "2022-02-01T00:00:00",
          "2022-02-02T00:00:00",
          "2022-02-03T00:00:00"
         ],
         "xaxis": "x",
         "y": [
          2,
          1,
          1,
          1,
          1,
          2,
          1,
          1,
          3,
          2,
          1,
          2,
          1,
          1,
          1,
          1,
          1,
          1,
          3,
          3,
          1,
          4,
          3,
          2,
          5
         ],
         "yaxis": "y"
        },
        {
         "alignmentgroup": "True",
         "hovertemplate": "Miner=a1b7326d90a4d796ef0992a3fb4ef0702bf372ea<br>Block Date=%{x}<br>Block Count=%{y}<extra></extra>",
         "legendgroup": "a1b7326d90a4d796ef0992a3fb4ef0702bf372ea",
         "marker": {
          "color": "#636efa",
          "pattern": {
           "shape": ""
          }
         },
         "name": "a1b7326d90a4d796ef0992a3fb4ef0702bf372ea",
         "offsetgroup": "a1b7326d90a4d796ef0992a3fb4ef0702bf372ea",
         "orientation": "v",
         "showlegend": true,
         "textposition": "auto",
         "type": "bar",
         "x": [
          "2022-01-01T00:00:00",
          "2022-01-03T00:00:00",
          "2022-01-14T00:00:00",
          "2022-01-16T00:00:00",
          "2022-01-19T00:00:00",
          "2022-01-23T00:00:00",
          "2022-01-31T00:00:00"
         ],
         "xaxis": "x",
         "y": [
          1,
          1,
          1,
          1,
          1,
          1,
          1
         ],
         "yaxis": "y"
        },
        {
         "alignmentgroup": "True",
         "hovertemplate": "Miner=bd5cdd2b3d04ce42605aaea7e8355ac0e0a12710<br>Block Date=%{x}<br>Block Count=%{y}<extra></extra>",
         "legendgroup": "bd5cdd2b3d04ce42605aaea7e8355ac0e0a12710",
         "marker": {
          "color": "#EF553B",
          "pattern": {
           "shape": ""
          }
         },
         "name": "bd5cdd2b3d04ce42605aaea7e8355ac0e0a12710",
         "offsetgroup": "bd5cdd2b3d04ce42605aaea7e8355ac0e0a12710",
         "orientation": "v",
         "showlegend": true,
         "textposition": "auto",
         "type": "bar",
         "x": [
          "2022-01-01T00:00:00",
          "2022-01-03T00:00:00",
          "2022-01-06T00:00:00",
          "2022-01-07T00:00:00",
          "2022-01-11T00:00:00",
          "2022-01-12T00:00:00",
          "2022-01-14T00:00:00",
          "2022-01-15T00:00:00",
          "2022-01-16T00:00:00",
          "2022-01-20T00:00:00",
          "2022-01-22T00:00:00",
          "2022-01-24T00:00:00",
          "2022-01-25T00:00:00",
          "2022-01-27T00:00:00",
          "2022-01-28T00:00:00",
          "2022-01-30T00:00:00",
          "2022-01-31T00:00:00",
          "2022-02-02T00:00:00",
          "2022-02-03T00:00:00"
         ],
         "xaxis": "x",
         "y": [
          1,
          3,
          2,
          3,
          2,
          1,
          1,
          4,
          3,
          3,
          1,
          2,
          1,
          4,
          6,
          3,
          1,
          2,
          1
         ],
         "yaxis": "y"
        },
        {
         "alignmentgroup": "True",
         "hovertemplate": "Miner=11905bd0863ba579023f662d1935e39d0c671933<br>Block Date=%{x}<br>Block Count=%{y}<extra></extra>",
         "legendgroup": "11905bd0863ba579023f662d1935e39d0c671933",
         "marker": {
          "color": "#00cc96",
          "pattern": {
           "shape": ""
          }
         },
         "name": "11905bd0863ba579023f662d1935e39d0c671933",
         "offsetgroup": "11905bd0863ba579023f662d1935e39d0c671933",
         "orientation": "v",
         "showlegend": true,
         "textposition": "auto",
         "type": "bar",
         "x": [
          "2022-01-01T00:00:00",
          "2022-01-02T00:00:00",
          "2022-01-23T00:00:00"
         ],
         "xaxis": "x",
         "y": [
          1,
          1,
          1
         ],
         "yaxis": "y"
        },
        {
         "alignmentgroup": "True",
         "hovertemplate": "Miner=6a851246689eb8fc77a9bf68df5860f13f679fa0<br>Block Date=%{x}<br>Block Count=%{y}<extra></extra>",
         "legendgroup": "6a851246689eb8fc77a9bf68df5860f13f679fa0",
         "marker": {
          "color": "#ab63fa",
          "pattern": {
           "shape": ""
          }
         },
         "name": "6a851246689eb8fc77a9bf68df5860f13f679fa0",
         "offsetgroup": "6a851246689eb8fc77a9bf68df5860f13f679fa0",
         "orientation": "v",
         "showlegend": true,
         "textposition": "auto",
         "type": "bar",
         "x": [
          "2022-01-01T00:00:00",
          "2022-01-02T00:00:00",
          "2022-01-03T00:00:00",
          "2022-01-04T00:00:00",
          "2022-01-05T00:00:00",
          "2022-01-06T00:00:00",
          "2022-01-07T00:00:00",
          "2022-01-09T00:00:00",
          "2022-01-11T00:00:00",
          "2022-01-12T00:00:00",
          "2022-01-13T00:00:00",
          "2022-01-14T00:00:00",
          "2022-01-15T00:00:00",
          "2022-01-16T00:00:00",
          "2022-01-17T00:00:00",
          "2022-01-18T00:00:00",
          "2022-01-19T00:00:00",
          "2022-01-20T00:00:00",
          "2022-01-21T00:00:00",
          "2022-01-22T00:00:00",
          "2022-01-26T00:00:00",
          "2022-01-27T00:00:00",
          "2022-01-28T00:00:00",
          "2022-01-30T00:00:00",
          "2022-01-31T00:00:00",
          "2022-02-01T00:00:00",
          "2022-02-02T00:00:00"
         ],
         "xaxis": "x",
         "y": [
          1,
          3,
          1,
          1,
          3,
          2,
          1,
          4,
          2,
          1,
          1,
          3,
          2,
          1,
          1,
          1,
          2,
          1,
          4,
          2,
          1,
          4,
          1,
          1,
          1,
          2,
          1
         ],
         "yaxis": "y"
        },
        {
         "alignmentgroup": "True",
         "hovertemplate": "Miner=d60267809d21b6da73cd0bd04bc589eeef791dfe<br>Block Date=%{x}<br>Block Count=%{y}<extra></extra>",
         "legendgroup": "d60267809d21b6da73cd0bd04bc589eeef791dfe",
         "marker": {
          "color": "#FFA15A",
          "pattern": {
           "shape": ""
          }
         },
         "name": "d60267809d21b6da73cd0bd04bc589eeef791dfe",
         "offsetgroup": "d60267809d21b6da73cd0bd04bc589eeef791dfe",
         "orientation": "v",
         "showlegend": true,
         "textposition": "auto",
         "type": "bar",
         "x": [
          "2022-01-02T00:00:00",
          "2022-01-17T00:00:00"
         ],
         "xaxis": "x",
         "y": [
          2,
          1
         ],
         "yaxis": "y"
        },
        {
         "alignmentgroup": "True",
         "hovertemplate": "Miner=a59ea72e4c4f1560467f15298cd83874e9af1c09<br>Block Date=%{x}<br>Block Count=%{y}<extra></extra>",
         "legendgroup": "a59ea72e4c4f1560467f15298cd83874e9af1c09",
         "marker": {
          "color": "#19d3f3",
          "pattern": {
           "shape": ""
          }
         },
         "name": "a59ea72e4c4f1560467f15298cd83874e9af1c09",
         "offsetgroup": "a59ea72e4c4f1560467f15298cd83874e9af1c09",
         "orientation": "v",
         "showlegend": true,
         "textposition": "auto",
         "type": "bar",
         "x": [
          "2022-01-02T00:00:00",
          "2022-01-03T00:00:00",
          "2022-01-04T00:00:00",
          "2022-01-05T00:00:00",
          "2022-01-06T00:00:00",
          "2022-01-07T00:00:00",
          "2022-01-08T00:00:00",
          "2022-01-09T00:00:00",
          "2022-02-01T00:00:00",
          "2022-02-02T00:00:00"
         ],
         "xaxis": "x",
         "y": [
          1,
          1,
          2,
          2,
          2,
          4,
          2,
          2,
          2,
          3
         ],
         "yaxis": "y"
        },
        {
         "alignmentgroup": "True",
         "hovertemplate": "Miner=bc78d75867b04f996ef1050d8090b8ccb91f09af<br>Block Date=%{x}<br>Block Count=%{y}<extra></extra>",
         "legendgroup": "bc78d75867b04f996ef1050d8090b8ccb91f09af",
         "marker": {
          "color": "#FF6692",
          "pattern": {
           "shape": ""
          }
         },
         "name": "bc78d75867b04f996ef1050d8090b8ccb91f09af",
         "offsetgroup": "bc78d75867b04f996ef1050d8090b8ccb91f09af",
         "orientation": "v",
         "showlegend": true,
         "textposition": "auto",
         "type": "bar",
         "x": [
          "2022-01-02T00:00:00",
          "2022-01-04T00:00:00",
          "2022-01-05T00:00:00",
          "2022-01-06T00:00:00",
          "2022-01-07T00:00:00",
          "2022-01-10T00:00:00",
          "2022-01-11T00:00:00",
          "2022-01-19T00:00:00",
          "2022-01-21T00:00:00",
          "2022-01-23T00:00:00"
         ],
         "xaxis": "x",
         "y": [
          1,
          1,
          1,
          2,
          2,
          1,
          1,
          1,
          4,
          1
         ],
         "yaxis": "y"
        },
        {
         "alignmentgroup": "True",
         "hovertemplate": "Miner=f3a71cc1be5ce833c471e3f25aa391f9cd56e1aa<br>Block Date=%{x}<br>Block Count=%{y}<extra></extra>",
         "legendgroup": "f3a71cc1be5ce833c471e3f25aa391f9cd56e1aa",
         "marker": {
          "color": "#B6E880",
          "pattern": {
           "shape": ""
          }
         },
         "name": "f3a71cc1be5ce833c471e3f25aa391f9cd56e1aa",
         "offsetgroup": "f3a71cc1be5ce833c471e3f25aa391f9cd56e1aa",
         "orientation": "v",
         "showlegend": true,
         "textposition": "auto",
         "type": "bar",
         "x": [
          "2022-01-02T00:00:00",
          "2022-01-03T00:00:00",
          "2022-01-04T00:00:00",
          "2022-01-05T00:00:00",
          "2022-01-06T00:00:00",
          "2022-01-07T00:00:00",
          "2022-01-08T00:00:00",
          "2022-01-09T00:00:00",
          "2022-01-10T00:00:00",
          "2022-01-11T00:00:00",
          "2022-01-12T00:00:00",
          "2022-01-13T00:00:00",
          "2022-01-14T00:00:00",
          "2022-01-15T00:00:00",
          "2022-01-16T00:00:00",
          "2022-01-17T00:00:00",
          "2022-01-18T00:00:00",
          "2022-01-19T00:00:00",
          "2022-01-20T00:00:00",
          "2022-01-21T00:00:00",
          "2022-01-22T00:00:00",
          "2022-01-23T00:00:00",
          "2022-01-24T00:00:00",
          "2022-01-26T00:00:00",
          "2022-01-28T00:00:00",
          "2022-01-29T00:00:00",
          "2022-01-31T00:00:00",
          "2022-02-01T00:00:00",
          "2022-02-02T00:00:00",
          "2022-02-03T00:00:00"
         ],
         "xaxis": "x",
         "y": [
          1,
          1,
          1,
          3,
          2,
          3,
          3,
          2,
          2,
          2,
          1,
          2,
          2,
          3,
          2,
          2,
          5,
          7,
          2,
          3,
          3,
          3,
          4,
          5,
          1,
          2,
          1,
          3,
          5,
          1
         ],
         "yaxis": "y"
        },
        {
         "alignmentgroup": "True",
         "hovertemplate": "Miner=fad45a9ab2c408f7e6f8d4786f0708171169c2c3<br>Block Date=%{x}<br>Block Count=%{y}<extra></extra>",
         "legendgroup": "fad45a9ab2c408f7e6f8d4786f0708171169c2c3",
         "marker": {
          "color": "#FF97FF",
          "pattern": {
           "shape": ""
          }
         },
         "name": "fad45a9ab2c408f7e6f8d4786f0708171169c2c3",
         "offsetgroup": "fad45a9ab2c408f7e6f8d4786f0708171169c2c3",
         "orientation": "v",
         "showlegend": true,
         "textposition": "auto",
         "type": "bar",
         "x": [
          "2022-01-02T00:00:00",
          "2022-01-06T00:00:00",
          "2022-01-18T00:00:00",
          "2022-01-19T00:00:00",
          "2022-01-20T00:00:00",
          "2022-01-23T00:00:00",
          "2022-01-25T00:00:00",
          "2022-01-28T00:00:00"
         ],
         "xaxis": "x",
         "y": [
          1,
          1,
          1,
          1,
          1,
          1,
          1,
          2
         ],
         "yaxis": "y"
        },
        {
         "alignmentgroup": "True",
         "hovertemplate": "Miner=b8d2628452744ef47c83bd9a323df37ee35bbd20<br>Block Date=%{x}<br>Block Count=%{y}<extra></extra>",
         "legendgroup": "b8d2628452744ef47c83bd9a323df37ee35bbd20",
         "marker": {
          "color": "#FECB52",
          "pattern": {
           "shape": ""
          }
         },
         "name": "b8d2628452744ef47c83bd9a323df37ee35bbd20",
         "offsetgroup": "b8d2628452744ef47c83bd9a323df37ee35bbd20",
         "orientation": "v",
         "showlegend": true,
         "textposition": "auto",
         "type": "bar",
         "x": [
          "2022-01-03T00:00:00",
          "2022-01-10T00:00:00",
          "2022-01-11T00:00:00",
          "2022-01-12T00:00:00",
          "2022-01-13T00:00:00",
          "2022-01-15T00:00:00",
          "2022-01-16T00:00:00",
          "2022-01-17T00:00:00",
          "2022-01-18T00:00:00",
          "2022-01-19T00:00:00",
          "2022-01-20T00:00:00",
          "2022-01-21T00:00:00",
          "2022-01-22T00:00:00",
          "2022-01-23T00:00:00",
          "2022-01-24T00:00:00",
          "2022-01-25T00:00:00",
          "2022-01-26T00:00:00",
          "2022-01-28T00:00:00",
          "2022-01-29T00:00:00",
          "2022-01-30T00:00:00",
          "2022-02-02T00:00:00"
         ],
         "xaxis": "x",
         "y": [
          1,
          1,
          1,
          1,
          2,
          2,
          2,
          2,
          2,
          3,
          5,
          2,
          2,
          2,
          4,
          2,
          2,
          1,
          1,
          1,
          2
         ],
         "yaxis": "y"
        },
        {
         "alignmentgroup": "True",
         "hovertemplate": "Miner=28846f1ec065eea239152213373bb58b1c9fc93b<br>Block Date=%{x}<br>Block Count=%{y}<extra></extra>",
         "legendgroup": "28846f1ec065eea239152213373bb58b1c9fc93b",
         "marker": {
          "color": "#636efa",
          "pattern": {
           "shape": ""
          }
         },
         "name": "28846f1ec065eea239152213373bb58b1c9fc93b",
         "offsetgroup": "28846f1ec065eea239152213373bb58b1c9fc93b",
         "orientation": "v",
         "showlegend": true,
         "textposition": "auto",
         "type": "bar",
         "x": [
          "2022-01-07T00:00:00",
          "2022-01-08T00:00:00",
          "2022-01-09T00:00:00",
          "2022-01-10T00:00:00",
          "2022-01-11T00:00:00",
          "2022-01-12T00:00:00",
          "2022-01-13T00:00:00",
          "2022-01-14T00:00:00",
          "2022-01-15T00:00:00",
          "2022-01-16T00:00:00",
          "2022-01-17T00:00:00",
          "2022-01-18T00:00:00",
          "2022-01-19T00:00:00",
          "2022-01-20T00:00:00",
          "2022-01-21T00:00:00",
          "2022-01-22T00:00:00",
          "2022-01-23T00:00:00",
          "2022-01-24T00:00:00",
          "2022-01-25T00:00:00",
          "2022-01-26T00:00:00",
          "2022-01-27T00:00:00",
          "2022-01-28T00:00:00",
          "2022-01-29T00:00:00",
          "2022-01-30T00:00:00",
          "2022-01-31T00:00:00",
          "2022-02-01T00:00:00",
          "2022-02-02T00:00:00",
          "2022-02-03T00:00:00"
         ],
         "xaxis": "x",
         "y": [
          37,
          38,
          41,
          36,
          49,
          41,
          53,
          54,
          48,
          60,
          60,
          50,
          43,
          58,
          55,
          64,
          55,
          62,
          43,
          56,
          55,
          56,
          61,
          48,
          56,
          59,
          54,
          44
         ],
         "yaxis": "y"
        },
        {
         "alignmentgroup": "True",
         "hovertemplate": "Miner=289dd50b19ffc2317af7b40bc779775cbcc0c83c<br>Block Date=%{x}<br>Block Count=%{y}<extra></extra>",
         "legendgroup": "289dd50b19ffc2317af7b40bc779775cbcc0c83c",
         "marker": {
          "color": "#EF553B",
          "pattern": {
           "shape": ""
          }
         },
         "name": "289dd50b19ffc2317af7b40bc779775cbcc0c83c",
         "offsetgroup": "289dd50b19ffc2317af7b40bc779775cbcc0c83c",
         "orientation": "v",
         "showlegend": true,
         "textposition": "auto",
         "type": "bar",
         "x": [
          "2022-01-08T00:00:00",
          "2022-01-09T00:00:00",
          "2022-01-28T00:00:00",
          "2022-01-31T00:00:00",
          "2022-02-03T00:00:00"
         ],
         "xaxis": "x",
         "y": [
          1,
          1,
          1,
          1,
          1
         ],
         "yaxis": "y"
        },
        {
         "alignmentgroup": "True",
         "hovertemplate": "Miner=d8b851a78b7aea4865b4ce5fb422eb70a6e5c8dc<br>Block Date=%{x}<br>Block Count=%{y}<extra></extra>",
         "legendgroup": "d8b851a78b7aea4865b4ce5fb422eb70a6e5c8dc",
         "marker": {
          "color": "#00cc96",
          "pattern": {
           "shape": ""
          }
         },
         "name": "d8b851a78b7aea4865b4ce5fb422eb70a6e5c8dc",
         "offsetgroup": "d8b851a78b7aea4865b4ce5fb422eb70a6e5c8dc",
         "orientation": "v",
         "showlegend": true,
         "textposition": "auto",
         "type": "bar",
         "x": [
          "2022-01-09T00:00:00",
          "2022-01-15T00:00:00",
          "2022-01-16T00:00:00",
          "2022-01-17T00:00:00",
          "2022-01-23T00:00:00",
          "2022-01-27T00:00:00"
         ],
         "xaxis": "x",
         "y": [
          1,
          1,
          1,
          1,
          1,
          1
         ],
         "yaxis": "y"
        },
        {
         "alignmentgroup": "True",
         "hovertemplate": "Miner=d7ad8e2a17800a2c413f331d334f83f5da8d5dba<br>Block Date=%{x}<br>Block Count=%{y}<extra></extra>",
         "legendgroup": "d7ad8e2a17800a2c413f331d334f83f5da8d5dba",
         "marker": {
          "color": "#ab63fa",
          "pattern": {
           "shape": ""
          }
         },
         "name": "d7ad8e2a17800a2c413f331d334f83f5da8d5dba",
         "offsetgroup": "d7ad8e2a17800a2c413f331d334f83f5da8d5dba",
         "orientation": "v",
         "showlegend": true,
         "textposition": "auto",
         "type": "bar",
         "x": [
          "2022-01-11T00:00:00",
          "2022-01-13T00:00:00",
          "2022-01-31T00:00:00"
         ],
         "xaxis": "x",
         "y": [
          2,
          1,
          1
         ],
         "yaxis": "y"
        },
        {
         "alignmentgroup": "True",
         "hovertemplate": "Miner=5a9d10f2bef8b76d21aa3f9b4088d55e1a6b5fb5<br>Block Date=%{x}<br>Block Count=%{y}<extra></extra>",
         "legendgroup": "5a9d10f2bef8b76d21aa3f9b4088d55e1a6b5fb5",
         "marker": {
          "color": "#FFA15A",
          "pattern": {
           "shape": ""
          }
         },
         "name": "5a9d10f2bef8b76d21aa3f9b4088d55e1a6b5fb5",
         "offsetgroup": "5a9d10f2bef8b76d21aa3f9b4088d55e1a6b5fb5",
         "orientation": "v",
         "showlegend": true,
         "textposition": "auto",
         "type": "bar",
         "x": [
          "2022-01-11T00:00:00"
         ],
         "xaxis": "x",
         "y": [
          1
         ],
         "yaxis": "y"
        },
        {
         "alignmentgroup": "True",
         "hovertemplate": "Miner=50f75c2b4e6fb4580cdd570b33276057a28dc425<br>Block Date=%{x}<br>Block Count=%{y}<extra></extra>",
         "legendgroup": "50f75c2b4e6fb4580cdd570b33276057a28dc425",
         "marker": {
          "color": "#19d3f3",
          "pattern": {
           "shape": ""
          }
         },
         "name": "50f75c2b4e6fb4580cdd570b33276057a28dc425",
         "offsetgroup": "50f75c2b4e6fb4580cdd570b33276057a28dc425",
         "orientation": "v",
         "showlegend": true,
         "textposition": "auto",
         "type": "bar",
         "x": [
          "2022-01-11T00:00:00",
          "2022-01-12T00:00:00",
          "2022-01-13T00:00:00",
          "2022-01-14T00:00:00",
          "2022-01-15T00:00:00",
          "2022-01-17T00:00:00",
          "2022-01-18T00:00:00",
          "2022-01-21T00:00:00"
         ],
         "xaxis": "x",
         "y": [
          1,
          2,
          3,
          1,
          2,
          1,
          2,
          1
         ],
         "yaxis": "y"
        },
        {
         "alignmentgroup": "True",
         "hovertemplate": "Miner=27c95706f0bbd978aeeca1e984c6618d61240bf8<br>Block Date=%{x}<br>Block Count=%{y}<extra></extra>",
         "legendgroup": "27c95706f0bbd978aeeca1e984c6618d61240bf8",
         "marker": {
          "color": "#FF6692",
          "pattern": {
           "shape": ""
          }
         },
         "name": "27c95706f0bbd978aeeca1e984c6618d61240bf8",
         "offsetgroup": "27c95706f0bbd978aeeca1e984c6618d61240bf8",
         "orientation": "v",
         "showlegend": true,
         "textposition": "auto",
         "type": "bar",
         "x": [
          "2022-01-11T00:00:00",
          "2022-01-14T00:00:00"
         ],
         "xaxis": "x",
         "y": [
          1,
          1
         ],
         "yaxis": "y"
        },
        {
         "alignmentgroup": "True",
         "hovertemplate": "Miner=9c7d68166fd224f8dcb78d5a470658e679de3a8d<br>Block Date=%{x}<br>Block Count=%{y}<extra></extra>",
         "legendgroup": "9c7d68166fd224f8dcb78d5a470658e679de3a8d",
         "marker": {
          "color": "#B6E880",
          "pattern": {
           "shape": ""
          }
         },
         "name": "9c7d68166fd224f8dcb78d5a470658e679de3a8d",
         "offsetgroup": "9c7d68166fd224f8dcb78d5a470658e679de3a8d",
         "orientation": "v",
         "showlegend": true,
         "textposition": "auto",
         "type": "bar",
         "x": [
          "2022-01-12T00:00:00",
          "2022-01-25T00:00:00",
          "2022-01-26T00:00:00",
          "2022-01-27T00:00:00"
         ],
         "xaxis": "x",
         "y": [
          1,
          1,
          1,
          1
         ],
         "yaxis": "y"
        },
        {
         "alignmentgroup": "True",
         "hovertemplate": "Miner=b0d876f178274d2d0f568dbb35a2e1b6c7423622<br>Block Date=%{x}<br>Block Count=%{y}<extra></extra>",
         "legendgroup": "b0d876f178274d2d0f568dbb35a2e1b6c7423622",
         "marker": {
          "color": "#FF97FF",
          "pattern": {
           "shape": ""
          }
         },
         "name": "b0d876f178274d2d0f568dbb35a2e1b6c7423622",
         "offsetgroup": "b0d876f178274d2d0f568dbb35a2e1b6c7423622",
         "orientation": "v",
         "showlegend": true,
         "textposition": "auto",
         "type": "bar",
         "x": [
          "2022-01-12T00:00:00"
         ],
         "xaxis": "x",
         "y": [
          1
         ],
         "yaxis": "y"
        },
        {
         "alignmentgroup": "True",
         "hovertemplate": "Miner=4bb96091ee9d802ed039c4d1a5f6216f90f81b01<br>Block Date=%{x}<br>Block Count=%{y}<extra></extra>",
         "legendgroup": "4bb96091ee9d802ed039c4d1a5f6216f90f81b01",
         "marker": {
          "color": "#FECB52",
          "pattern": {
           "shape": ""
          }
         },
         "name": "4bb96091ee9d802ed039c4d1a5f6216f90f81b01",
         "offsetgroup": "4bb96091ee9d802ed039c4d1a5f6216f90f81b01",
         "orientation": "v",
         "showlegend": true,
         "textposition": "auto",
         "type": "bar",
         "x": [
          "2022-01-12T00:00:00"
         ],
         "xaxis": "x",
         "y": [
          1
         ],
         "yaxis": "y"
        },
        {
         "alignmentgroup": "True",
         "hovertemplate": "Miner=2431b37ca9f516aad592a2aa4aca4f4532b78bff<br>Block Date=%{x}<br>Block Count=%{y}<extra></extra>",
         "legendgroup": "2431b37ca9f516aad592a2aa4aca4f4532b78bff",
         "marker": {
          "color": "#636efa",
          "pattern": {
           "shape": ""
          }
         },
         "name": "2431b37ca9f516aad592a2aa4aca4f4532b78bff",
         "offsetgroup": "2431b37ca9f516aad592a2aa4aca4f4532b78bff",
         "orientation": "v",
         "showlegend": true,
         "textposition": "auto",
         "type": "bar",
         "x": [
          "2022-01-12T00:00:00",
          "2022-01-14T00:00:00",
          "2022-01-15T00:00:00",
          "2022-01-16T00:00:00",
          "2022-01-17T00:00:00"
         ],
         "xaxis": "x",
         "y": [
          1,
          1,
          1,
          2,
          1
         ],
         "yaxis": "y"
        },
        {
         "alignmentgroup": "True",
         "hovertemplate": "Miner=22c99f914330ce1608952f50c187f0b602645585<br>Block Date=%{x}<br>Block Count=%{y}<extra></extra>",
         "legendgroup": "22c99f914330ce1608952f50c187f0b602645585",
         "marker": {
          "color": "#EF553B",
          "pattern": {
           "shape": ""
          }
         },
         "name": "22c99f914330ce1608952f50c187f0b602645585",
         "offsetgroup": "22c99f914330ce1608952f50c187f0b602645585",
         "orientation": "v",
         "showlegend": true,
         "textposition": "auto",
         "type": "bar",
         "x": [
          "2022-01-12T00:00:00"
         ],
         "xaxis": "x",
         "y": [
          1
         ],
         "yaxis": "y"
        },
        {
         "alignmentgroup": "True",
         "hovertemplate": "Miner=cf6ce585cb4a78a6f96e6c8722927161a696f337<br>Block Date=%{x}<br>Block Count=%{y}<extra></extra>",
         "legendgroup": "cf6ce585cb4a78a6f96e6c8722927161a696f337",
         "marker": {
          "color": "#00cc96",
          "pattern": {
           "shape": ""
          }
         },
         "name": "cf6ce585cb4a78a6f96e6c8722927161a696f337",
         "offsetgroup": "cf6ce585cb4a78a6f96e6c8722927161a696f337",
         "orientation": "v",
         "showlegend": true,
         "textposition": "auto",
         "type": "bar",
         "x": [
          "2022-01-12T00:00:00"
         ],
         "xaxis": "x",
         "y": [
          1
         ],
         "yaxis": "y"
        },
        {
         "alignmentgroup": "True",
         "hovertemplate": "Miner=036179f021089441f9897fed7904831c90c52a80<br>Block Date=%{x}<br>Block Count=%{y}<extra></extra>",
         "legendgroup": "036179f021089441f9897fed7904831c90c52a80",
         "marker": {
          "color": "#ab63fa",
          "pattern": {
           "shape": ""
          }
         },
         "name": "036179f021089441f9897fed7904831c90c52a80",
         "offsetgroup": "036179f021089441f9897fed7904831c90c52a80",
         "orientation": "v",
         "showlegend": true,
         "textposition": "auto",
         "type": "bar",
         "x": [
          "2022-01-12T00:00:00"
         ],
         "xaxis": "x",
         "y": [
          1
         ],
         "yaxis": "y"
        },
        {
         "alignmentgroup": "True",
         "hovertemplate": "Miner=db1059fa7697e31cabb27f1ecf7c79a96eb18080<br>Block Date=%{x}<br>Block Count=%{y}<extra></extra>",
         "legendgroup": "db1059fa7697e31cabb27f1ecf7c79a96eb18080",
         "marker": {
          "color": "#FFA15A",
          "pattern": {
           "shape": ""
          }
         },
         "name": "db1059fa7697e31cabb27f1ecf7c79a96eb18080",
         "offsetgroup": "db1059fa7697e31cabb27f1ecf7c79a96eb18080",
         "orientation": "v",
         "showlegend": true,
         "textposition": "auto",
         "type": "bar",
         "x": [
          "2022-01-13T00:00:00"
         ],
         "xaxis": "x",
         "y": [
          2
         ],
         "yaxis": "y"
        },
        {
         "alignmentgroup": "True",
         "hovertemplate": "Miner=cd7b9e2b957c819000b1a8107130f786636c5ccc<br>Block Date=%{x}<br>Block Count=%{y}<extra></extra>",
         "legendgroup": "cd7b9e2b957c819000b1a8107130f786636c5ccc",
         "marker": {
          "color": "#19d3f3",
          "pattern": {
           "shape": ""
          }
         },
         "name": "cd7b9e2b957c819000b1a8107130f786636c5ccc",
         "offsetgroup": "cd7b9e2b957c819000b1a8107130f786636c5ccc",
         "orientation": "v",
         "showlegend": true,
         "textposition": "auto",
         "type": "bar",
         "x": [
          "2022-01-13T00:00:00",
          "2022-01-14T00:00:00",
          "2022-01-23T00:00:00",
          "2022-01-25T00:00:00",
          "2022-01-31T00:00:00"
         ],
         "xaxis": "x",
         "y": [
          1,
          1,
          1,
          1,
          2
         ],
         "yaxis": "y"
        },
        {
         "alignmentgroup": "True",
         "hovertemplate": "Miner=dabd8e47787639c4ba2ec46b3a1ad207ba27125e<br>Block Date=%{x}<br>Block Count=%{y}<extra></extra>",
         "legendgroup": "dabd8e47787639c4ba2ec46b3a1ad207ba27125e",
         "marker": {
          "color": "#FF6692",
          "pattern": {
           "shape": ""
          }
         },
         "name": "dabd8e47787639c4ba2ec46b3a1ad207ba27125e",
         "offsetgroup": "dabd8e47787639c4ba2ec46b3a1ad207ba27125e",
         "orientation": "v",
         "showlegend": true,
         "textposition": "auto",
         "type": "bar",
         "x": [
          "2022-01-14T00:00:00"
         ],
         "xaxis": "x",
         "y": [
          1
         ],
         "yaxis": "y"
        },
        {
         "alignmentgroup": "True",
         "hovertemplate": "Miner=534cb1d3812c92894f051999dd393f1bdbdc6c87<br>Block Date=%{x}<br>Block Count=%{y}<extra></extra>",
         "legendgroup": "534cb1d3812c92894f051999dd393f1bdbdc6c87",
         "marker": {
          "color": "#B6E880",
          "pattern": {
           "shape": ""
          }
         },
         "name": "534cb1d3812c92894f051999dd393f1bdbdc6c87",
         "offsetgroup": "534cb1d3812c92894f051999dd393f1bdbdc6c87",
         "orientation": "v",
         "showlegend": true,
         "textposition": "auto",
         "type": "bar",
         "x": [
          "2022-01-14T00:00:00",
          "2022-01-30T00:00:00"
         ],
         "xaxis": "x",
         "y": [
          1,
          1
         ],
         "yaxis": "y"
        },
        {
         "alignmentgroup": "True",
         "hovertemplate": "Miner=3a6f08fe30e33d6183ce024bb78a74e7a3592b0b<br>Block Date=%{x}<br>Block Count=%{y}<extra></extra>",
         "legendgroup": "3a6f08fe30e33d6183ce024bb78a74e7a3592b0b",
         "marker": {
          "color": "#FF97FF",
          "pattern": {
           "shape": ""
          }
         },
         "name": "3a6f08fe30e33d6183ce024bb78a74e7a3592b0b",
         "offsetgroup": "3a6f08fe30e33d6183ce024bb78a74e7a3592b0b",
         "orientation": "v",
         "showlegend": true,
         "textposition": "auto",
         "type": "bar",
         "x": [
          "2022-01-15T00:00:00"
         ],
         "xaxis": "x",
         "y": [
          1
         ],
         "yaxis": "y"
        },
        {
         "alignmentgroup": "True",
         "hovertemplate": "Miner=ef6164d2029be2df580d6b0066e30b92e9eff672<br>Block Date=%{x}<br>Block Count=%{y}<extra></extra>",
         "legendgroup": "ef6164d2029be2df580d6b0066e30b92e9eff672",
         "marker": {
          "color": "#FECB52",
          "pattern": {
           "shape": ""
          }
         },
         "name": "ef6164d2029be2df580d6b0066e30b92e9eff672",
         "offsetgroup": "ef6164d2029be2df580d6b0066e30b92e9eff672",
         "orientation": "v",
         "showlegend": true,
         "textposition": "auto",
         "type": "bar",
         "x": [
          "2022-01-16T00:00:00"
         ],
         "xaxis": "x",
         "y": [
          1
         ],
         "yaxis": "y"
        },
        {
         "alignmentgroup": "True",
         "hovertemplate": "Miner=2c49d502dc4d9aee47c26441d7d90794c18243ed<br>Block Date=%{x}<br>Block Count=%{y}<extra></extra>",
         "legendgroup": "2c49d502dc4d9aee47c26441d7d90794c18243ed",
         "marker": {
          "color": "#636efa",
          "pattern": {
           "shape": ""
          }
         },
         "name": "2c49d502dc4d9aee47c26441d7d90794c18243ed",
         "offsetgroup": "2c49d502dc4d9aee47c26441d7d90794c18243ed",
         "orientation": "v",
         "showlegend": true,
         "textposition": "auto",
         "type": "bar",
         "x": [
          "2022-01-22T00:00:00",
          "2022-01-24T00:00:00",
          "2022-01-25T00:00:00",
          "2022-01-26T00:00:00",
          "2022-01-27T00:00:00",
          "2022-01-28T00:00:00",
          "2022-01-29T00:00:00",
          "2022-01-30T00:00:00",
          "2022-01-31T00:00:00",
          "2022-02-01T00:00:00",
          "2022-02-02T00:00:00",
          "2022-02-03T00:00:00"
         ],
         "xaxis": "x",
         "y": [
          1,
          1,
          2,
          4,
          2,
          3,
          4,
          3,
          2,
          1,
          3,
          2
         ],
         "yaxis": "y"
        },
        {
         "alignmentgroup": "True",
         "hovertemplate": "Miner=fc8430d9c04ddc8bb2b549ecf2f42b230e9375de<br>Block Date=%{x}<br>Block Count=%{y}<extra></extra>",
         "legendgroup": "fc8430d9c04ddc8bb2b549ecf2f42b230e9375de",
         "marker": {
          "color": "#EF553B",
          "pattern": {
           "shape": ""
          }
         },
         "name": "fc8430d9c04ddc8bb2b549ecf2f42b230e9375de",
         "offsetgroup": "fc8430d9c04ddc8bb2b549ecf2f42b230e9375de",
         "orientation": "v",
         "showlegend": true,
         "textposition": "auto",
         "type": "bar",
         "x": [
          "2022-01-22T00:00:00",
          "2022-01-23T00:00:00",
          "2022-01-24T00:00:00",
          "2022-01-25T00:00:00",
          "2022-01-26T00:00:00",
          "2022-01-27T00:00:00",
          "2022-01-28T00:00:00",
          "2022-01-29T00:00:00"
         ],
         "xaxis": "x",
         "y": [
          1,
          1,
          2,
          2,
          1,
          2,
          3,
          2
         ],
         "yaxis": "y"
        },
        {
         "alignmentgroup": "True",
         "hovertemplate": "Miner=5be1bfc0b1f01f32178d46abf70bb5ff5c4e425a<br>Block Date=%{x}<br>Block Count=%{y}<extra></extra>",
         "legendgroup": "5be1bfc0b1f01f32178d46abf70bb5ff5c4e425a",
         "marker": {
          "color": "#00cc96",
          "pattern": {
           "shape": ""
          }
         },
         "name": "5be1bfc0b1f01f32178d46abf70bb5ff5c4e425a",
         "offsetgroup": "5be1bfc0b1f01f32178d46abf70bb5ff5c4e425a",
         "orientation": "v",
         "showlegend": true,
         "textposition": "auto",
         "type": "bar",
         "x": [
          "2022-01-23T00:00:00"
         ],
         "xaxis": "x",
         "y": [
          1
         ],
         "yaxis": "y"
        },
        {
         "alignmentgroup": "True",
         "hovertemplate": "Miner=bbbbbbbb49459e69878219f906e73aa325ff2f0c<br>Block Date=%{x}<br>Block Count=%{y}<extra></extra>",
         "legendgroup": "bbbbbbbb49459e69878219f906e73aa325ff2f0c",
         "marker": {
          "color": "#ab63fa",
          "pattern": {
           "shape": ""
          }
         },
         "name": "bbbbbbbb49459e69878219f906e73aa325ff2f0c",
         "offsetgroup": "bbbbbbbb49459e69878219f906e73aa325ff2f0c",
         "orientation": "v",
         "showlegend": true,
         "textposition": "auto",
         "type": "bar",
         "x": [
          "2022-01-25T00:00:00",
          "2022-01-26T00:00:00",
          "2022-01-28T00:00:00",
          "2022-01-29T00:00:00",
          "2022-01-30T00:00:00"
         ],
         "xaxis": "x",
         "y": [
          18,
          4,
          1,
          10,
          18
         ],
         "yaxis": "y"
        },
        {
         "alignmentgroup": "True",
         "hovertemplate": "Miner=ae8b1711934d97d8e9d76c238b79679b4399282d<br>Block Date=%{x}<br>Block Count=%{y}<extra></extra>",
         "legendgroup": "ae8b1711934d97d8e9d76c238b79679b4399282d",
         "marker": {
          "color": "#FFA15A",
          "pattern": {
           "shape": ""
          }
         },
         "name": "ae8b1711934d97d8e9d76c238b79679b4399282d",
         "offsetgroup": "ae8b1711934d97d8e9d76c238b79679b4399282d",
         "orientation": "v",
         "showlegend": true,
         "textposition": "auto",
         "type": "bar",
         "x": [
          "2022-01-29T00:00:00",
          "2022-02-01T00:00:00"
         ],
         "xaxis": "x",
         "y": [
          1,
          1
         ],
         "yaxis": "y"
        },
        {
         "alignmentgroup": "True",
         "hovertemplate": "Miner=6952ba7e413bb4b2a488801cd340584b634c1008<br>Block Date=%{x}<br>Block Count=%{y}<extra></extra>",
         "legendgroup": "6952ba7e413bb4b2a488801cd340584b634c1008",
         "marker": {
          "color": "#19d3f3",
          "pattern": {
           "shape": ""
          }
         },
         "name": "6952ba7e413bb4b2a488801cd340584b634c1008",
         "offsetgroup": "6952ba7e413bb4b2a488801cd340584b634c1008",
         "orientation": "v",
         "showlegend": true,
         "textposition": "auto",
         "type": "bar",
         "x": [
          "2022-01-29T00:00:00"
         ],
         "xaxis": "x",
         "y": [
          1
         ],
         "yaxis": "y"
        },
        {
         "alignmentgroup": "True",
         "hovertemplate": "Miner=6486a3f7849734d0ea333eaf9244a4a34dca17f6<br>Block Date=%{x}<br>Block Count=%{y}<extra></extra>",
         "legendgroup": "6486a3f7849734d0ea333eaf9244a4a34dca17f6",
         "marker": {
          "color": "#FF6692",
          "pattern": {
           "shape": ""
          }
         },
         "name": "6486a3f7849734d0ea333eaf9244a4a34dca17f6",
         "offsetgroup": "6486a3f7849734d0ea333eaf9244a4a34dca17f6",
         "orientation": "v",
         "showlegend": true,
         "textposition": "auto",
         "type": "bar",
         "x": [
          "2022-01-29T00:00:00",
          "2022-01-30T00:00:00",
          "2022-01-31T00:00:00",
          "2022-02-01T00:00:00"
         ],
         "xaxis": "x",
         "y": [
          1,
          4,
          4,
          1
         ],
         "yaxis": "y"
        },
        {
         "alignmentgroup": "True",
         "hovertemplate": "Miner=886be08886fa12d3a0981a8e557b74f7937b42e7<br>Block Date=%{x}<br>Block Count=%{y}<extra></extra>",
         "legendgroup": "886be08886fa12d3a0981a8e557b74f7937b42e7",
         "marker": {
          "color": "#B6E880",
          "pattern": {
           "shape": ""
          }
         },
         "name": "886be08886fa12d3a0981a8e557b74f7937b42e7",
         "offsetgroup": "886be08886fa12d3a0981a8e557b74f7937b42e7",
         "orientation": "v",
         "showlegend": true,
         "textposition": "auto",
         "type": "bar",
         "x": [
          "2022-01-30T00:00:00",
          "2022-02-03T00:00:00"
         ],
         "xaxis": "x",
         "y": [
          1,
          2
         ],
         "yaxis": "y"
        },
        {
         "alignmentgroup": "True",
         "hovertemplate": "Miner=ac34420c1a657273bba4927be3f2552a082ca918<br>Block Date=%{x}<br>Block Count=%{y}<extra></extra>",
         "legendgroup": "ac34420c1a657273bba4927be3f2552a082ca918",
         "marker": {
          "color": "#FF97FF",
          "pattern": {
           "shape": ""
          }
         },
         "name": "ac34420c1a657273bba4927be3f2552a082ca918",
         "offsetgroup": "ac34420c1a657273bba4927be3f2552a082ca918",
         "orientation": "v",
         "showlegend": true,
         "textposition": "auto",
         "type": "bar",
         "x": [
          "2022-02-03T00:00:00"
         ],
         "xaxis": "x",
         "y": [
          1
         ],
         "yaxis": "y"
        }
       ],
       "layout": {
        "autosize": true,
        "barmode": "relative",
        "legend": {
         "title": {
          "text": "Miner"
         },
         "tracegroupgap": 0
        },
        "showlegend": false,
        "template": {
         "data": {
          "bar": [
           {
            "error_x": {
             "color": "#2a3f5f"
            },
            "error_y": {
             "color": "#2a3f5f"
            },
            "marker": {
             "line": {
              "color": "#E5ECF6",
              "width": 0.5
             },
             "pattern": {
              "fillmode": "overlay",
              "size": 10,
              "solidity": 0.2
             }
            },
            "type": "bar"
           }
          ],
          "barpolar": [
           {
            "marker": {
             "line": {
              "color": "#E5ECF6",
              "width": 0.5
             },
             "pattern": {
              "fillmode": "overlay",
              "size": 10,
              "solidity": 0.2
             }
            },
            "type": "barpolar"
           }
          ],
          "carpet": [
           {
            "aaxis": {
             "endlinecolor": "#2a3f5f",
             "gridcolor": "white",
             "linecolor": "white",
             "minorgridcolor": "white",
             "startlinecolor": "#2a3f5f"
            },
            "baxis": {
             "endlinecolor": "#2a3f5f",
             "gridcolor": "white",
             "linecolor": "white",
             "minorgridcolor": "white",
             "startlinecolor": "#2a3f5f"
            },
            "type": "carpet"
           }
          ],
          "choropleth": [
           {
            "colorbar": {
             "outlinewidth": 0,
             "ticks": ""
            },
            "type": "choropleth"
           }
          ],
          "contour": [
           {
            "colorbar": {
             "outlinewidth": 0,
             "ticks": ""
            },
            "colorscale": [
             [
              0,
              "#0d0887"
             ],
             [
              0.1111111111111111,
              "#46039f"
             ],
             [
              0.2222222222222222,
              "#7201a8"
             ],
             [
              0.3333333333333333,
              "#9c179e"
             ],
             [
              0.4444444444444444,
              "#bd3786"
             ],
             [
              0.5555555555555556,
              "#d8576b"
             ],
             [
              0.6666666666666666,
              "#ed7953"
             ],
             [
              0.7777777777777778,
              "#fb9f3a"
             ],
             [
              0.8888888888888888,
              "#fdca26"
             ],
             [
              1,
              "#f0f921"
             ]
            ],
            "type": "contour"
           }
          ],
          "contourcarpet": [
           {
            "colorbar": {
             "outlinewidth": 0,
             "ticks": ""
            },
            "type": "contourcarpet"
           }
          ],
          "heatmap": [
           {
            "colorbar": {
             "outlinewidth": 0,
             "ticks": ""
            },
            "colorscale": [
             [
              0,
              "#0d0887"
             ],
             [
              0.1111111111111111,
              "#46039f"
             ],
             [
              0.2222222222222222,
              "#7201a8"
             ],
             [
              0.3333333333333333,
              "#9c179e"
             ],
             [
              0.4444444444444444,
              "#bd3786"
             ],
             [
              0.5555555555555556,
              "#d8576b"
             ],
             [
              0.6666666666666666,
              "#ed7953"
             ],
             [
              0.7777777777777778,
              "#fb9f3a"
             ],
             [
              0.8888888888888888,
              "#fdca26"
             ],
             [
              1,
              "#f0f921"
             ]
            ],
            "type": "heatmap"
           }
          ],
          "heatmapgl": [
           {
            "colorbar": {
             "outlinewidth": 0,
             "ticks": ""
            },
            "colorscale": [
             [
              0,
              "#0d0887"
             ],
             [
              0.1111111111111111,
              "#46039f"
             ],
             [
              0.2222222222222222,
              "#7201a8"
             ],
             [
              0.3333333333333333,
              "#9c179e"
             ],
             [
              0.4444444444444444,
              "#bd3786"
             ],
             [
              0.5555555555555556,
              "#d8576b"
             ],
             [
              0.6666666666666666,
              "#ed7953"
             ],
             [
              0.7777777777777778,
              "#fb9f3a"
             ],
             [
              0.8888888888888888,
              "#fdca26"
             ],
             [
              1,
              "#f0f921"
             ]
            ],
            "type": "heatmapgl"
           }
          ],
          "histogram": [
           {
            "marker": {
             "pattern": {
              "fillmode": "overlay",
              "size": 10,
              "solidity": 0.2
             }
            },
            "type": "histogram"
           }
          ],
          "histogram2d": [
           {
            "colorbar": {
             "outlinewidth": 0,
             "ticks": ""
            },
            "colorscale": [
             [
              0,
              "#0d0887"
             ],
             [
              0.1111111111111111,
              "#46039f"
             ],
             [
              0.2222222222222222,
              "#7201a8"
             ],
             [
              0.3333333333333333,
              "#9c179e"
             ],
             [
              0.4444444444444444,
              "#bd3786"
             ],
             [
              0.5555555555555556,
              "#d8576b"
             ],
             [
              0.6666666666666666,
              "#ed7953"
             ],
             [
              0.7777777777777778,
              "#fb9f3a"
             ],
             [
              0.8888888888888888,
              "#fdca26"
             ],
             [
              1,
              "#f0f921"
             ]
            ],
            "type": "histogram2d"
           }
          ],
          "histogram2dcontour": [
           {
            "colorbar": {
             "outlinewidth": 0,
             "ticks": ""
            },
            "colorscale": [
             [
              0,
              "#0d0887"
             ],
             [
              0.1111111111111111,
              "#46039f"
             ],
             [
              0.2222222222222222,
              "#7201a8"
             ],
             [
              0.3333333333333333,
              "#9c179e"
             ],
             [
              0.4444444444444444,
              "#bd3786"
             ],
             [
              0.5555555555555556,
              "#d8576b"
             ],
             [
              0.6666666666666666,
              "#ed7953"
             ],
             [
              0.7777777777777778,
              "#fb9f3a"
             ],
             [
              0.8888888888888888,
              "#fdca26"
             ],
             [
              1,
              "#f0f921"
             ]
            ],
            "type": "histogram2dcontour"
           }
          ],
          "mesh3d": [
           {
            "colorbar": {
             "outlinewidth": 0,
             "ticks": ""
            },
            "type": "mesh3d"
           }
          ],
          "parcoords": [
           {
            "line": {
             "colorbar": {
              "outlinewidth": 0,
              "ticks": ""
             }
            },
            "type": "parcoords"
           }
          ],
          "pie": [
           {
            "automargin": true,
            "type": "pie"
           }
          ],
          "scatter": [
           {
            "marker": {
             "colorbar": {
              "outlinewidth": 0,
              "ticks": ""
             }
            },
            "type": "scatter"
           }
          ],
          "scatter3d": [
           {
            "line": {
             "colorbar": {
              "outlinewidth": 0,
              "ticks": ""
             }
            },
            "marker": {
             "colorbar": {
              "outlinewidth": 0,
              "ticks": ""
             }
            },
            "type": "scatter3d"
           }
          ],
          "scattercarpet": [
           {
            "marker": {
             "colorbar": {
              "outlinewidth": 0,
              "ticks": ""
             }
            },
            "type": "scattercarpet"
           }
          ],
          "scattergeo": [
           {
            "marker": {
             "colorbar": {
              "outlinewidth": 0,
              "ticks": ""
             }
            },
            "type": "scattergeo"
           }
          ],
          "scattergl": [
           {
            "marker": {
             "colorbar": {
              "outlinewidth": 0,
              "ticks": ""
             }
            },
            "type": "scattergl"
           }
          ],
          "scattermapbox": [
           {
            "marker": {
             "colorbar": {
              "outlinewidth": 0,
              "ticks": ""
             }
            },
            "type": "scattermapbox"
           }
          ],
          "scatterpolar": [
           {
            "marker": {
             "colorbar": {
              "outlinewidth": 0,
              "ticks": ""
             }
            },
            "type": "scatterpolar"
           }
          ],
          "scatterpolargl": [
           {
            "marker": {
             "colorbar": {
              "outlinewidth": 0,
              "ticks": ""
             }
            },
            "type": "scatterpolargl"
           }
          ],
          "scatterternary": [
           {
            "marker": {
             "colorbar": {
              "outlinewidth": 0,
              "ticks": ""
             }
            },
            "type": "scatterternary"
           }
          ],
          "surface": [
           {
            "colorbar": {
             "outlinewidth": 0,
             "ticks": ""
            },
            "colorscale": [
             [
              0,
              "#0d0887"
             ],
             [
              0.1111111111111111,
              "#46039f"
             ],
             [
              0.2222222222222222,
              "#7201a8"
             ],
             [
              0.3333333333333333,
              "#9c179e"
             ],
             [
              0.4444444444444444,
              "#bd3786"
             ],
             [
              0.5555555555555556,
              "#d8576b"
             ],
             [
              0.6666666666666666,
              "#ed7953"
             ],
             [
              0.7777777777777778,
              "#fb9f3a"
             ],
             [
              0.8888888888888888,
              "#fdca26"
             ],
             [
              1,
              "#f0f921"
             ]
            ],
            "type": "surface"
           }
          ],
          "table": [
           {
            "cells": {
             "fill": {
              "color": "#EBF0F8"
             },
             "line": {
              "color": "white"
             }
            },
            "header": {
             "fill": {
              "color": "#C8D4E3"
             },
             "line": {
              "color": "white"
             }
            },
            "type": "table"
           }
          ]
         },
         "layout": {
          "annotationdefaults": {
           "arrowcolor": "#2a3f5f",
           "arrowhead": 0,
           "arrowwidth": 1
          },
          "autotypenumbers": "strict",
          "coloraxis": {
           "colorbar": {
            "outlinewidth": 0,
            "ticks": ""
           }
          },
          "colorscale": {
           "diverging": [
            [
             0,
             "#8e0152"
            ],
            [
             0.1,
             "#c51b7d"
            ],
            [
             0.2,
             "#de77ae"
            ],
            [
             0.3,
             "#f1b6da"
            ],
            [
             0.4,
             "#fde0ef"
            ],
            [
             0.5,
             "#f7f7f7"
            ],
            [
             0.6,
             "#e6f5d0"
            ],
            [
             0.7,
             "#b8e186"
            ],
            [
             0.8,
             "#7fbc41"
            ],
            [
             0.9,
             "#4d9221"
            ],
            [
             1,
             "#276419"
            ]
           ],
           "sequential": [
            [
             0,
             "#0d0887"
            ],
            [
             0.1111111111111111,
             "#46039f"
            ],
            [
             0.2222222222222222,
             "#7201a8"
            ],
            [
             0.3333333333333333,
             "#9c179e"
            ],
            [
             0.4444444444444444,
             "#bd3786"
            ],
            [
             0.5555555555555556,
             "#d8576b"
            ],
            [
             0.6666666666666666,
             "#ed7953"
            ],
            [
             0.7777777777777778,
             "#fb9f3a"
            ],
            [
             0.8888888888888888,
             "#fdca26"
            ],
            [
             1,
             "#f0f921"
            ]
           ],
           "sequentialminus": [
            [
             0,
             "#0d0887"
            ],
            [
             0.1111111111111111,
             "#46039f"
            ],
            [
             0.2222222222222222,
             "#7201a8"
            ],
            [
             0.3333333333333333,
             "#9c179e"
            ],
            [
             0.4444444444444444,
             "#bd3786"
            ],
            [
             0.5555555555555556,
             "#d8576b"
            ],
            [
             0.6666666666666666,
             "#ed7953"
            ],
            [
             0.7777777777777778,
             "#fb9f3a"
            ],
            [
             0.8888888888888888,
             "#fdca26"
            ],
            [
             1,
             "#f0f921"
            ]
           ]
          },
          "colorway": [
           "#636efa",
           "#EF553B",
           "#00cc96",
           "#ab63fa",
           "#FFA15A",
           "#19d3f3",
           "#FF6692",
           "#B6E880",
           "#FF97FF",
           "#FECB52"
          ],
          "font": {
           "color": "#2a3f5f"
          },
          "geo": {
           "bgcolor": "white",
           "lakecolor": "white",
           "landcolor": "#E5ECF6",
           "showlakes": true,
           "showland": true,
           "subunitcolor": "white"
          },
          "hoverlabel": {
           "align": "left"
          },
          "hovermode": "closest",
          "mapbox": {
           "style": "light"
          },
          "paper_bgcolor": "white",
          "plot_bgcolor": "#E5ECF6",
          "polar": {
           "angularaxis": {
            "gridcolor": "white",
            "linecolor": "white",
            "ticks": ""
           },
           "bgcolor": "#E5ECF6",
           "radialaxis": {
            "gridcolor": "white",
            "linecolor": "white",
            "ticks": ""
           }
          },
          "scene": {
           "xaxis": {
            "backgroundcolor": "#E5ECF6",
            "gridcolor": "white",
            "gridwidth": 2,
            "linecolor": "white",
            "showbackground": true,
            "ticks": "",
            "zerolinecolor": "white"
           },
           "yaxis": {
            "backgroundcolor": "#E5ECF6",
            "gridcolor": "white",
            "gridwidth": 2,
            "linecolor": "white",
            "showbackground": true,
            "ticks": "",
            "zerolinecolor": "white"
           },
           "zaxis": {
            "backgroundcolor": "#E5ECF6",
            "gridcolor": "white",
            "gridwidth": 2,
            "linecolor": "white",
            "showbackground": true,
            "ticks": "",
            "zerolinecolor": "white"
           }
          },
          "shapedefaults": {
           "line": {
            "color": "#2a3f5f"
           }
          },
          "ternary": {
           "aaxis": {
            "gridcolor": "white",
            "linecolor": "white",
            "ticks": ""
           },
           "baxis": {
            "gridcolor": "white",
            "linecolor": "white",
            "ticks": ""
           },
           "bgcolor": "#E5ECF6",
           "caxis": {
            "gridcolor": "white",
            "linecolor": "white",
            "ticks": ""
           }
          },
          "title": {
           "x": 0.05
          },
          "xaxis": {
           "automargin": true,
           "gridcolor": "white",
           "linecolor": "white",
           "ticks": "",
           "title": {
            "standoff": 15
           },
           "zerolinecolor": "white",
           "zerolinewidth": 2
          },
          "yaxis": {
           "automargin": true,
           "gridcolor": "white",
           "linecolor": "white",
           "ticks": "",
           "title": {
            "standoff": 15
           },
           "zerolinecolor": "white",
           "zerolinewidth": 2
          }
         }
        },
        "title": {
         "text": "Daily Block Count per Miner"
        },
        "xaxis": {
         "anchor": "y",
         "autorange": true,
         "domain": [
          0,
          1
         ],
         "range": [
          "2021-12-31 12:00",
          "2022-02-03 12:00"
         ],
         "title": {
          "text": "Block Date"
         },
         "type": "date"
        },
        "yaxis": {
         "anchor": "x",
         "autorange": true,
         "domain": [
          0,
          1
         ],
         "range": [
          0,
          6901.0526315789475
         ],
         "title": {
          "text": "Block Count"
         },
         "type": "linear"
        }
       }
      },
      "image/png": "[encoded data removed]",
      "text/html": [
       "<div>                            <div id=\"2c51e427-7b69-415a-b942-e8420a68dfbb\" class=\"plotly-graph-div\" style=\"height:500px; width:100%;\"></div>            <script type=\"text/javascript\">                require([\"plotly\"], function(Plotly) {                    window.PLOTLYENV=window.PLOTLYENV || {};                                    if (document.getElementById(\"2c51e427-7b69-415a-b942-e8420a68dfbb\")) {                    Plotly.newPlot(                        \"2c51e427-7b69-415a-b942-e8420a68dfbb\",                        [{\"alignmentgroup\":\"True\",\"hovertemplate\":\"Miner=ea674fdde714fd979de3edf0f56aa9716b898ec8<br>Block Date=%{x}<br>Block Count=%{y}<extra></extra>\",\"legendgroup\":\"ea674fdde714fd979de3edf0f56aa9716b898ec8\",\"marker\":{\"color\":\"#636efa\",\"pattern\":{\"shape\":\"\"}},\"name\":\"ea674fdde714fd979de3edf0f56aa9716b898ec8\",\"offsetgroup\":\"ea674fdde714fd979de3edf0f56aa9716b898ec8\",\"orientation\":\"v\",\"showlegend\":true,\"textposition\":\"auto\",\"x\":[\"2022-01-01T00:00:00\",\"2022-01-02T00:00:00\",\"2022-01-03T00:00:00\",\"2022-01-04T00:00:00\",\"2022-01-05T00:00:00\",\"2022-01-06T00:00:00\",\"2022-01-07T00:00:00\",\"2022-01-08T00:00:00\",\"2022-01-09T00:00:00\",\"2022-01-10T00:00:00\",\"2022-01-11T00:00:00\",\"2022-01-12T00:00:00\",\"2022-01-13T00:00:00\",\"2022-01-14T00:00:00\",\"2022-01-15T00:00:00\",\"2022-01-16T00:00:00\",\"2022-01-17T00:00:00\",\"2022-01-18T00:00:00\",\"2022-01-19T00:00:00\",\"2022-01-20T00:00:00\",\"2022-01-21T00:00:00\",\"2022-01-22T00:00:00\",\"2022-01-23T00:00:00\",\"2022-01-24T00:00:00\",\"2022-01-25T00:00:00\",\"2022-01-26T00:00:00\",\"2022-01-27T00:00:00\",\"2022-01-28T00:00:00\",\"2022-01-29T00:00:00\",\"2022-01-30T00:00:00\",\"2022-01-31T00:00:00\",\"2022-02-01T00:00:00\",\"2022-02-02T00:00:00\",\"2022-02-03T00:00:00\"],\"xaxis\":\"x\",\"y\":[1973,1961,2047,2014,1945,1958,1996,1947,2020,2045,1946,1949,1988,1935,1968,1977,1964,1955,2013,1996,2026,1975,1979,1954,1990,1957,2002,1980,2018,2053,2014,1954,1933,1544],\"yaxis\":\"y\",\"type\":\"bar\"},{\"alignmentgroup\":\"True\",\"hovertemplate\":\"Miner=829bd824b016326a401d083b33d092293333a830<br>Block Date=%{x}<br>Block Count=%{y}<extra></extra>\",\"legendgroup\":\"829bd824b016326a401d083b33d092293333a830\",\"marker\":{\"color\":\"#EF553B\",\"pattern\":{\"shape\":\"\"}},\"name\":\"829bd824b016326a401d083b33d092293333a830\",\"offsetgroup\":\"829bd824b016326a401d083b33d092293333a830\",\"orientation\":\"v\",\"showlegend\":true,\"textposition\":\"auto\",\"x\":[\"2022-01-01T00:00:00\",\"2022-01-02T00:00:00\",\"2022-01-03T00:00:00\",\"2022-01-04T00:00:00\",\"2022-01-05T00:00:00\",\"2022-01-06T00:00:00\",\"2022-01-07T00:00:00\",\"2022-01-08T00:00:00\",\"2022-01-09T00:00:00\",\"2022-01-10T00:00:00\",\"2022-01-11T00:00:00\",\"2022-01-12T00:00:00\",\"2022-01-13T00:00:00\",\"2022-01-14T00:00:00\",\"2022-01-15T00:00:00\",\"2022-01-16T00:00:00\",\"2022-01-17T00:00:00\",\"2022-01-18T00:00:00\",\"2022-01-19T00:00:00\",\"2022-01-20T00:00:00\",\"2022-01-21T00:00:00\",\"2022-01-22T00:00:00\",\"2022-01-23T00:00:00\",\"2022-01-24T00:00:00\",\"2022-01-25T00:00:00\",\"2022-01-26T00:00:00\",\"2022-01-27T00:00:00\",\"2022-01-28T00:00:00\",\"2022-01-29T00:00:00\",\"2022-01-30T00:00:00\",\"2022-01-31T00:00:00\",\"2022-02-01T00:00:00\",\"2022-02-02T00:00:00\",\"2022-02-03T00:00:00\"],\"xaxis\":\"x\",\"y\":[867,895,877,936,911,896,947,911,932,900,909,926,941,941,982,981,1027,948,898,926,893,996,926,975,950,985,935,925,915,874,909,942,884,667],\"yaxis\":\"y\",\"type\":\"bar\"},{\"alignmentgroup\":\"True\",\"hovertemplate\":\"Miner=1ad91ee08f21be3de0ba2ba6918e714da6b45836<br>Block Date=%{x}<br>Block Count=%{y}<extra></extra>\",\"legendgroup\":\"1ad91ee08f21be3de0ba2ba6918e714da6b45836\",\"marker\":{\"color\":\"#00cc96\",\"pattern\":{\"shape\":\"\"}},\"name\":\"1ad91ee08f21be3de0ba2ba6918e714da6b45836\",\"offsetgroup\":\"1ad91ee08f21be3de0ba2ba6918e714da6b45836\",\"orientation\":\"v\",\"showlegend\":true,\"textposition\":\"auto\",\"x\":[\"2022-01-01T00:00:00\",\"2022-01-02T00:00:00\",\"2022-01-03T00:00:00\",\"2022-01-04T00:00:00\",\"2022-01-05T00:00:00\",\"2022-01-06T00:00:00\",\"2022-01-07T00:00:00\",\"2022-01-08T00:00:00\",\"2022-01-09T00:00:00\",\"2022-01-10T00:00:00\",\"2022-01-11T00:00:00\",\"2022-01-12T00:00:00\",\"2022-01-13T00:00:00\",\"2022-01-14T00:00:00\",\"2022-01-15T00:00:00\",\"2022-01-16T00:00:00\",\"2022-01-17T00:00:00\",\"2022-01-18T00:00:00\",\"2022-01-19T00:00:00\",\"2022-01-20T00:00:00\",\"2022-01-21T00:00:00\",\"2022-01-22T00:00:00\",\"2022-01-23T00:00:00\",\"2022-01-24T00:00:00\",\"2022-01-25T00:00:00\",\"2022-01-26T00:00:00\",\"2022-01-27T00:00:00\",\"2022-01-28T00:00:00\",\"2022-01-29T00:00:00\",\"2022-01-30T00:00:00\",\"2022-01-31T00:00:00\",\"2022-02-01T00:00:00\",\"2022-02-02T00:00:00\",\"2022-02-03T00:00:00\"],\"xaxis\":\"x\",\"y\":[634,673,626,638,613,642,667,667,648,639,656,664,676,675,698,697,684,682,662,665,626,641,655,681,699,646,655,682,697,706,695,682,682,525],\"yaxis\":\"y\",\"type\":\"bar\"},{\"alignmentgroup\":\"True\",\"hovertemplate\":\"Miner=7f101fe45e6649a6fb8f3f8b43ed03d353f2b90c<br>Block Date=%{x}<br>Block Count=%{y}<extra></extra>\",\"legendgroup\":\"7f101fe45e6649a6fb8f3f8b43ed03d353f2b90c\",\"marker\":{\"color\":\"#ab63fa\",\"pattern\":{\"shape\":\"\"}},\"name\":\"7f101fe45e6649a6fb8f3f8b43ed03d353f2b90c\",\"offsetgroup\":\"7f101fe45e6649a6fb8f3f8b43ed03d353f2b90c\",\"orientation\":\"v\",\"showlegend\":true,\"textposition\":\"auto\",\"x\":[\"2022-01-01T00:00:00\",\"2022-01-02T00:00:00\",\"2022-01-03T00:00:00\",\"2022-01-04T00:00:00\",\"2022-01-05T00:00:00\",\"2022-01-06T00:00:00\",\"2022-01-07T00:00:00\",\"2022-01-08T00:00:00\",\"2022-01-09T00:00:00\",\"2022-01-10T00:00:00\",\"2022-01-11T00:00:00\",\"2022-01-12T00:00:00\",\"2022-01-13T00:00:00\",\"2022-01-14T00:00:00\",\"2022-01-15T00:00:00\",\"2022-01-16T00:00:00\",\"2022-01-17T00:00:00\",\"2022-01-18T00:00:00\",\"2022-01-19T00:00:00\",\"2022-01-20T00:00:00\",\"2022-01-21T00:00:00\",\"2022-01-22T00:00:00\",\"2022-01-23T00:00:00\",\"2022-01-24T00:00:00\",\"2022-01-25T00:00:00\",\"2022-01-26T00:00:00\",\"2022-01-27T00:00:00\",\"2022-01-28T00:00:00\",\"2022-01-29T00:00:00\",\"2022-01-30T00:00:00\",\"2022-01-31T00:00:00\",\"2022-02-01T00:00:00\",\"2022-02-02T00:00:00\",\"2022-02-03T00:00:00\"],\"xaxis\":\"x\",\"y\":[342,338,331,326,332,327,313,322,331,314,342,335,336,331,324,361,335,304,349,278,282,288,296,303,273,325,279,306,323,305,268,346,314,253],\"yaxis\":\"y\",\"type\":\"bar\"},{\"alignmentgroup\":\"True\",\"hovertemplate\":\"Miner=45a36a8e118c37e4c47ef4ab827a7c9e579e11e2<br>Block Date=%{x}<br>Block Count=%{y}<extra></extra>\",\"legendgroup\":\"45a36a8e118c37e4c47ef4ab827a7c9e579e11e2\",\"marker\":{\"color\":\"#FFA15A\",\"pattern\":{\"shape\":\"\"}},\"name\":\"45a36a8e118c37e4c47ef4ab827a7c9e579e11e2\",\"offsetgroup\":\"45a36a8e118c37e4c47ef4ab827a7c9e579e11e2\",\"orientation\":\"v\",\"showlegend\":true,\"textposition\":\"auto\",\"x\":[\"2022-01-01T00:00:00\",\"2022-01-02T00:00:00\",\"2022-01-03T00:00:00\",\"2022-01-04T00:00:00\",\"2022-01-05T00:00:00\",\"2022-01-06T00:00:00\",\"2022-01-07T00:00:00\",\"2022-01-08T00:00:00\",\"2022-01-09T00:00:00\",\"2022-01-10T00:00:00\",\"2022-01-11T00:00:00\",\"2022-01-12T00:00:00\",\"2022-01-13T00:00:00\",\"2022-01-14T00:00:00\",\"2022-01-15T00:00:00\",\"2022-01-16T00:00:00\",\"2022-01-17T00:00:00\",\"2022-01-18T00:00:00\",\"2022-01-19T00:00:00\",\"2022-01-20T00:00:00\",\"2022-01-21T00:00:00\",\"2022-01-22T00:00:00\",\"2022-01-23T00:00:00\",\"2022-01-24T00:00:00\",\"2022-01-25T00:00:00\",\"2022-01-26T00:00:00\",\"2022-01-27T00:00:00\",\"2022-01-28T00:00:00\",\"2022-01-29T00:00:00\",\"2022-01-30T00:00:00\",\"2022-01-31T00:00:00\",\"2022-02-01T00:00:00\",\"2022-02-02T00:00:00\",\"2022-02-03T00:00:00\"],\"xaxis\":\"x\",\"y\":[237,200,218,187,241,212,226,218,216,220,200,215,202,223,196,191,206,222,207,212,205,206,231,216,217,190,211,205,197,189,199,201,220,158],\"yaxis\":\"y\",\"type\":\"bar\"},{\"alignmentgroup\":\"True\",\"hovertemplate\":\"Miner=00192fb10df37c9fb26829eb2cc623cd1bf599e8<br>Block Date=%{x}<br>Block Count=%{y}<extra></extra>\",\"legendgroup\":\"00192fb10df37c9fb26829eb2cc623cd1bf599e8\",\"marker\":{\"color\":\"#19d3f3\",\"pattern\":{\"shape\":\"\"}},\"name\":\"00192fb10df37c9fb26829eb2cc623cd1bf599e8\",\"offsetgroup\":\"00192fb10df37c9fb26829eb2cc623cd1bf599e8\",\"orientation\":\"v\",\"showlegend\":true,\"textposition\":\"auto\",\"x\":[\"2022-01-01T00:00:00\",\"2022-01-02T00:00:00\",\"2022-01-03T00:00:00\",\"2022-01-04T00:00:00\",\"2022-01-05T00:00:00\",\"2022-01-06T00:00:00\",\"2022-01-07T00:00:00\",\"2022-01-08T00:00:00\",\"2022-01-09T00:00:00\",\"2022-01-10T00:00:00\",\"2022-01-11T00:00:00\",\"2022-01-12T00:00:00\",\"2022-01-13T00:00:00\",\"2022-01-14T00:00:00\",\"2022-01-15T00:00:00\",\"2022-01-16T00:00:00\",\"2022-01-17T00:00:00\",\"2022-01-18T00:00:00\",\"2022-01-19T00:00:00\",\"2022-01-20T00:00:00\",\"2022-01-21T00:00:00\",\"2022-01-22T00:00:00\",\"2022-01-23T00:00:00\",\"2022-01-24T00:00:00\",\"2022-01-25T00:00:00\",\"2022-01-26T00:00:00\",\"2022-01-27T00:00:00\",\"2022-01-28T00:00:00\",\"2022-01-29T00:00:00\",\"2022-01-30T00:00:00\",\"2022-01-31T00:00:00\",\"2022-02-01T00:00:00\",\"2022-02-02T00:00:00\",\"2022-02-03T00:00:00\"],\"xaxis\":\"x\",\"y\":[236,262,240,257,235,278,214,243,270,297,233,281,251,261,233,259,253,268,249,292,266,329,320,270,260,252,264,262,269,240,276,236,247,189],\"yaxis\":\"y\",\"type\":\"bar\"},{\"alignmentgroup\":\"True\",\"hovertemplate\":\"Miner=52bc44d5378309ee2abf1539bf71de1b7d7be3b5<br>Block Date=%{x}<br>Block Count=%{y}<extra></extra>\",\"legendgroup\":\"52bc44d5378309ee2abf1539bf71de1b7d7be3b5\",\"marker\":{\"color\":\"#FF6692\",\"pattern\":{\"shape\":\"\"}},\"name\":\"52bc44d5378309ee2abf1539bf71de1b7d7be3b5\",\"offsetgroup\":\"52bc44d5378309ee2abf1539bf71de1b7d7be3b5\",\"orientation\":\"v\",\"showlegend\":true,\"textposition\":\"auto\",\"x\":[\"2022-01-01T00:00:00\",\"2022-01-02T00:00:00\",\"2022-01-03T00:00:00\",\"2022-01-04T00:00:00\",\"2022-01-05T00:00:00\",\"2022-01-06T00:00:00\",\"2022-01-07T00:00:00\",\"2022-01-08T00:00:00\",\"2022-01-09T00:00:00\",\"2022-01-10T00:00:00\",\"2022-01-11T00:00:00\",\"2022-01-12T00:00:00\",\"2022-01-13T00:00:00\",\"2022-01-14T00:00:00\",\"2022-01-15T00:00:00\",\"2022-01-16T00:00:00\",\"2022-01-17T00:00:00\",\"2022-01-18T00:00:00\",\"2022-01-19T00:00:00\",\"2022-01-20T00:00:00\",\"2022-01-21T00:00:00\",\"2022-01-22T00:00:00\",\"2022-01-23T00:00:00\",\"2022-01-24T00:00:00\",\"2022-01-25T00:00:00\",\"2022-01-26T00:00:00\",\"2022-01-27T00:00:00\",\"2022-01-28T00:00:00\",\"2022-01-29T00:00:00\",\"2022-01-30T00:00:00\",\"2022-01-31T00:00:00\",\"2022-02-01T00:00:00\",\"2022-02-02T00:00:00\",\"2022-02-03T00:00:00\"],\"xaxis\":\"x\",\"y\":[209,191,176,187,187,179,175,181,200,171,203,165,167,182,169,140,186,164,192,191,157,199,149,187,158,160,158,184,192,180,150,191,186,132],\"yaxis\":\"y\",\"type\":\"bar\"},{\"alignmentgroup\":\"True\",\"hovertemplate\":\"Miner=2a20380dca5bc24d052acfbf79ba23e988ad0050<br>Block Date=%{x}<br>Block Count=%{y}<extra></extra>\",\"legendgroup\":\"2a20380dca5bc24d052acfbf79ba23e988ad0050\",\"marker\":{\"color\":\"#B6E880\",\"pattern\":{\"shape\":\"\"}},\"name\":\"2a20380dca5bc24d052acfbf79ba23e988ad0050\",\"offsetgroup\":\"2a20380dca5bc24d052acfbf79ba23e988ad0050\",\"orientation\":\"v\",\"showlegend\":true,\"textposition\":\"auto\",\"x\":[\"2022-01-01T00:00:00\",\"2022-01-02T00:00:00\",\"2022-01-03T00:00:00\",\"2022-01-04T00:00:00\",\"2022-01-05T00:00:00\",\"2022-01-06T00:00:00\",\"2022-01-07T00:00:00\",\"2022-01-08T00:00:00\",\"2022-01-09T00:00:00\",\"2022-01-10T00:00:00\",\"2022-01-11T00:00:00\",\"2022-01-12T00:00:00\",\"2022-01-13T00:00:00\",\"2022-01-14T00:00:00\",\"2022-01-15T00:00:00\",\"2022-01-16T00:00:00\",\"2022-01-17T00:00:00\",\"2022-01-18T00:00:00\",\"2022-01-19T00:00:00\",\"2022-01-20T00:00:00\",\"2022-01-21T00:00:00\",\"2022-01-22T00:00:00\",\"2022-01-23T00:00:00\",\"2022-01-24T00:00:00\",\"2022-01-25T00:00:00\",\"2022-01-26T00:00:00\",\"2022-01-27T00:00:00\",\"2022-01-28T00:00:00\",\"2022-01-29T00:00:00\",\"2022-01-30T00:00:00\",\"2022-01-31T00:00:00\",\"2022-02-01T00:00:00\",\"2022-02-02T00:00:00\",\"2022-02-03T00:00:00\"],\"xaxis\":\"x\",\"y\":[196,202,208,179,213,163,171,187,170,159,218,170,193,137,122,172,145,144,198,191,197,165,178,157,166,211,176,192,169,184,203,189,222,145],\"yaxis\":\"y\",\"type\":\"bar\"},{\"alignmentgroup\":\"True\",\"hovertemplate\":\"Miner=b7e390864a90b7b923c9f9310c6f98aafe43f707<br>Block Date=%{x}<br>Block Count=%{y}<extra></extra>\",\"legendgroup\":\"b7e390864a90b7b923c9f9310c6f98aafe43f707\",\"marker\":{\"color\":\"#FF97FF\",\"pattern\":{\"shape\":\"\"}},\"name\":\"b7e390864a90b7b923c9f9310c6f98aafe43f707\",\"offsetgroup\":\"b7e390864a90b7b923c9f9310c6f98aafe43f707\",\"orientation\":\"v\",\"showlegend\":true,\"textposition\":\"auto\",\"x\":[\"2022-01-01T00:00:00\",\"2022-01-02T00:00:00\",\"2022-01-03T00:00:00\",\"2022-01-04T00:00:00\",\"2022-01-05T00:00:00\",\"2022-01-06T00:00:00\",\"2022-01-07T00:00:00\",\"2022-01-08T00:00:00\",\"2022-01-09T00:00:00\",\"2022-01-10T00:00:00\",\"2022-01-11T00:00:00\",\"2022-01-12T00:00:00\",\"2022-01-13T00:00:00\",\"2022-01-14T00:00:00\",\"2022-01-15T00:00:00\",\"2022-01-16T00:00:00\",\"2022-01-17T00:00:00\",\"2022-01-18T00:00:00\",\"2022-01-19T00:00:00\",\"2022-01-20T00:00:00\",\"2022-01-21T00:00:00\",\"2022-01-22T00:00:00\",\"2022-01-23T00:00:00\",\"2022-01-24T00:00:00\",\"2022-01-25T00:00:00\",\"2022-01-26T00:00:00\",\"2022-01-27T00:00:00\",\"2022-01-28T00:00:00\",\"2022-01-29T00:00:00\",\"2022-01-30T00:00:00\",\"2022-01-31T00:00:00\",\"2022-02-01T00:00:00\",\"2022-02-02T00:00:00\",\"2022-02-03T00:00:00\"],\"xaxis\":\"x\",\"y\":[188,199,199,192,187,218,192,215,179,186,191,202,206,175,191,204,138,208,182,185,168,172,223,164,177,207,204,188,134,156,186,182,188,153],\"yaxis\":\"y\",\"type\":\"bar\"},{\"alignmentgroup\":\"True\",\"hovertemplate\":\"Miner=3ecef08d0e2dad803847e052249bb4f8bff2d5bb<br>Block Date=%{x}<br>Block Count=%{y}<extra></extra>\",\"legendgroup\":\"3ecef08d0e2dad803847e052249bb4f8bff2d5bb\",\"marker\":{\"color\":\"#FECB52\",\"pattern\":{\"shape\":\"\"}},\"name\":\"3ecef08d0e2dad803847e052249bb4f8bff2d5bb\",\"offsetgroup\":\"3ecef08d0e2dad803847e052249bb4f8bff2d5bb\",\"orientation\":\"v\",\"showlegend\":true,\"textposition\":\"auto\",\"x\":[\"2022-01-01T00:00:00\",\"2022-01-02T00:00:00\",\"2022-01-03T00:00:00\",\"2022-01-04T00:00:00\",\"2022-01-05T00:00:00\",\"2022-01-06T00:00:00\",\"2022-01-07T00:00:00\",\"2022-01-08T00:00:00\",\"2022-01-09T00:00:00\",\"2022-01-10T00:00:00\",\"2022-01-11T00:00:00\",\"2022-01-12T00:00:00\",\"2022-01-13T00:00:00\",\"2022-01-14T00:00:00\",\"2022-01-15T00:00:00\",\"2022-01-16T00:00:00\",\"2022-01-17T00:00:00\",\"2022-01-18T00:00:00\",\"2022-01-19T00:00:00\",\"2022-01-20T00:00:00\",\"2022-01-21T00:00:00\",\"2022-01-22T00:00:00\",\"2022-01-23T00:00:00\",\"2022-01-24T00:00:00\",\"2022-01-25T00:00:00\",\"2022-01-26T00:00:00\",\"2022-01-27T00:00:00\",\"2022-01-28T00:00:00\",\"2022-01-29T00:00:00\",\"2022-01-30T00:00:00\",\"2022-01-31T00:00:00\",\"2022-02-01T00:00:00\",\"2022-02-02T00:00:00\",\"2022-02-03T00:00:00\"],\"xaxis\":\"x\",\"y\":[167,155,160,170,170,169,155,177,164,148,190,160,166,153,183,151,169,142,159,144,170,176,150,173,162,137,148,167,149,159,165,151,158,151],\"yaxis\":\"y\",\"type\":\"bar\"},{\"alignmentgroup\":\"True\",\"hovertemplate\":\"Miner=cd458d7f11023556cc9058f729831a038cb8df9c<br>Block Date=%{x}<br>Block Count=%{y}<extra></extra>\",\"legendgroup\":\"cd458d7f11023556cc9058f729831a038cb8df9c\",\"marker\":{\"color\":\"#636efa\",\"pattern\":{\"shape\":\"\"}},\"name\":\"cd458d7f11023556cc9058f729831a038cb8df9c\",\"offsetgroup\":\"cd458d7f11023556cc9058f729831a038cb8df9c\",\"orientation\":\"v\",\"showlegend\":true,\"textposition\":\"auto\",\"x\":[\"2022-01-01T00:00:00\",\"2022-01-02T00:00:00\",\"2022-01-03T00:00:00\",\"2022-01-04T00:00:00\",\"2022-01-05T00:00:00\",\"2022-01-06T00:00:00\",\"2022-01-07T00:00:00\",\"2022-01-08T00:00:00\",\"2022-01-09T00:00:00\",\"2022-01-10T00:00:00\",\"2022-01-11T00:00:00\",\"2022-01-12T00:00:00\",\"2022-01-13T00:00:00\",\"2022-01-14T00:00:00\",\"2022-01-15T00:00:00\",\"2022-01-16T00:00:00\",\"2022-01-17T00:00:00\",\"2022-01-18T00:00:00\",\"2022-01-19T00:00:00\",\"2022-01-20T00:00:00\",\"2022-01-21T00:00:00\",\"2022-01-22T00:00:00\",\"2022-01-23T00:00:00\",\"2022-01-24T00:00:00\",\"2022-01-25T00:00:00\",\"2022-01-26T00:00:00\",\"2022-01-27T00:00:00\",\"2022-01-28T00:00:00\",\"2022-01-29T00:00:00\",\"2022-01-30T00:00:00\",\"2022-01-31T00:00:00\",\"2022-02-01T00:00:00\",\"2022-02-02T00:00:00\",\"2022-02-03T00:00:00\"],\"xaxis\":\"x\",\"y\":[156,153,158,164,160,156,144,147,166,155,157,185,153,148,191,167,170,181,143,165,152,122,128,117,147,126,148,122,118,153,124,129,157,84],\"yaxis\":\"y\",\"type\":\"bar\"},{\"alignmentgroup\":\"True\",\"hovertemplate\":\"Miner=ab3b229eb4bcff881275e7ea2f0fd24eeac8c83a<br>Block Date=%{x}<br>Block Count=%{y}<extra></extra>\",\"legendgroup\":\"ab3b229eb4bcff881275e7ea2f0fd24eeac8c83a\",\"marker\":{\"color\":\"#EF553B\",\"pattern\":{\"shape\":\"\"}},\"name\":\"ab3b229eb4bcff881275e7ea2f0fd24eeac8c83a\",\"offsetgroup\":\"ab3b229eb4bcff881275e7ea2f0fd24eeac8c83a\",\"orientation\":\"v\",\"showlegend\":true,\"textposition\":\"auto\",\"x\":[\"2022-01-01T00:00:00\",\"2022-01-02T00:00:00\",\"2022-01-03T00:00:00\",\"2022-01-04T00:00:00\",\"2022-01-05T00:00:00\",\"2022-01-06T00:00:00\",\"2022-01-07T00:00:00\",\"2022-01-08T00:00:00\",\"2022-01-09T00:00:00\",\"2022-01-10T00:00:00\",\"2022-01-11T00:00:00\",\"2022-01-12T00:00:00\",\"2022-01-13T00:00:00\",\"2022-01-14T00:00:00\",\"2022-01-15T00:00:00\",\"2022-01-16T00:00:00\",\"2022-01-17T00:00:00\",\"2022-01-18T00:00:00\",\"2022-01-19T00:00:00\",\"2022-01-20T00:00:00\",\"2022-01-21T00:00:00\",\"2022-01-22T00:00:00\",\"2022-01-23T00:00:00\",\"2022-01-24T00:00:00\",\"2022-01-25T00:00:00\",\"2022-01-26T00:00:00\",\"2022-01-27T00:00:00\",\"2022-01-28T00:00:00\",\"2022-01-29T00:00:00\",\"2022-01-30T00:00:00\",\"2022-01-31T00:00:00\",\"2022-02-01T00:00:00\",\"2022-02-02T00:00:00\",\"2022-02-03T00:00:00\"],\"xaxis\":\"x\",\"y\":[123,143,116,151,140,119,128,141,105,118,113,82,118,112,127,112,120,121,144,123,120,132,136,123,119,124,140,145,137,146,153,143,142,109],\"yaxis\":\"y\",\"type\":\"bar\"},{\"alignmentgroup\":\"True\",\"hovertemplate\":\"Miner=c365c3315cf926351ccaf13fa7d19c8c4058c8e1<br>Block Date=%{x}<br>Block Count=%{y}<extra></extra>\",\"legendgroup\":\"c365c3315cf926351ccaf13fa7d19c8c4058c8e1\",\"marker\":{\"color\":\"#00cc96\",\"pattern\":{\"shape\":\"\"}},\"name\":\"c365c3315cf926351ccaf13fa7d19c8c4058c8e1\",\"offsetgroup\":\"c365c3315cf926351ccaf13fa7d19c8c4058c8e1\",\"orientation\":\"v\",\"showlegend\":true,\"textposition\":\"auto\",\"x\":[\"2022-01-01T00:00:00\",\"2022-01-02T00:00:00\",\"2022-01-03T00:00:00\",\"2022-01-04T00:00:00\",\"2022-01-05T00:00:00\",\"2022-01-06T00:00:00\",\"2022-01-07T00:00:00\",\"2022-01-08T00:00:00\",\"2022-01-09T00:00:00\",\"2022-01-10T00:00:00\",\"2022-01-11T00:00:00\",\"2022-01-12T00:00:00\",\"2022-01-13T00:00:00\",\"2022-01-14T00:00:00\",\"2022-01-15T00:00:00\",\"2022-01-16T00:00:00\",\"2022-01-17T00:00:00\",\"2022-01-18T00:00:00\",\"2022-01-19T00:00:00\",\"2022-01-20T00:00:00\",\"2022-01-21T00:00:00\",\"2022-01-22T00:00:00\",\"2022-01-23T00:00:00\",\"2022-01-24T00:00:00\",\"2022-01-25T00:00:00\",\"2022-01-26T00:00:00\",\"2022-01-27T00:00:00\",\"2022-01-28T00:00:00\",\"2022-01-29T00:00:00\",\"2022-01-30T00:00:00\",\"2022-01-31T00:00:00\",\"2022-02-01T00:00:00\",\"2022-02-02T00:00:00\",\"2022-02-03T00:00:00\"],\"xaxis\":\"x\",\"y\":[122,116,131,107,122,96,110,119,100,105,123,112,108,113,112,107,108,116,108,123,114,117,95,121,120,101,105,101,100,120,110,99,109,94],\"yaxis\":\"y\",\"type\":\"bar\"},{\"alignmentgroup\":\"True\",\"hovertemplate\":\"Miner=eea5b82b61424df8020f5fedd81767f2d0d25bfb<br>Block Date=%{x}<br>Block Count=%{y}<extra></extra>\",\"legendgroup\":\"eea5b82b61424df8020f5fedd81767f2d0d25bfb\",\"marker\":{\"color\":\"#ab63fa\",\"pattern\":{\"shape\":\"\"}},\"name\":\"eea5b82b61424df8020f5fedd81767f2d0d25bfb\",\"offsetgroup\":\"eea5b82b61424df8020f5fedd81767f2d0d25bfb\",\"orientation\":\"v\",\"showlegend\":true,\"textposition\":\"auto\",\"x\":[\"2022-01-01T00:00:00\",\"2022-01-02T00:00:00\",\"2022-01-03T00:00:00\",\"2022-01-04T00:00:00\",\"2022-01-05T00:00:00\",\"2022-01-06T00:00:00\",\"2022-01-07T00:00:00\",\"2022-01-08T00:00:00\",\"2022-01-09T00:00:00\",\"2022-01-10T00:00:00\",\"2022-01-11T00:00:00\",\"2022-01-12T00:00:00\",\"2022-01-13T00:00:00\",\"2022-01-14T00:00:00\",\"2022-01-15T00:00:00\",\"2022-01-16T00:00:00\",\"2022-01-17T00:00:00\",\"2022-01-18T00:00:00\",\"2022-01-19T00:00:00\",\"2022-01-20T00:00:00\",\"2022-01-21T00:00:00\",\"2022-01-22T00:00:00\",\"2022-01-23T00:00:00\",\"2022-01-24T00:00:00\",\"2022-01-25T00:00:00\",\"2022-01-26T00:00:00\",\"2022-01-27T00:00:00\",\"2022-01-28T00:00:00\",\"2022-01-29T00:00:00\",\"2022-01-30T00:00:00\",\"2022-01-31T00:00:00\",\"2022-02-01T00:00:00\",\"2022-02-02T00:00:00\",\"2022-02-03T00:00:00\"],\"xaxis\":\"x\",\"y\":[111,102,94,99,110,98,103,111,109,88,84,91,81,91,100,113,82,104,102,71,90,95,86,89,101,106,85,81,65,108,102,111,101,92],\"yaxis\":\"y\",\"type\":\"bar\"},{\"alignmentgroup\":\"True\",\"hovertemplate\":\"Miner=c3348b43d3881151224b490e4aa39e03d2b1cdea<br>Block Date=%{x}<br>Block Count=%{y}<extra></extra>\",\"legendgroup\":\"c3348b43d3881151224b490e4aa39e03d2b1cdea\",\"marker\":{\"color\":\"#FFA15A\",\"pattern\":{\"shape\":\"\"}},\"name\":\"c3348b43d3881151224b490e4aa39e03d2b1cdea\",\"offsetgroup\":\"c3348b43d3881151224b490e4aa39e03d2b1cdea\",\"orientation\":\"v\",\"showlegend\":true,\"textposition\":\"auto\",\"x\":[\"2022-01-01T00:00:00\",\"2022-01-02T00:00:00\",\"2022-01-03T00:00:00\",\"2022-01-04T00:00:00\",\"2022-01-05T00:00:00\",\"2022-01-06T00:00:00\",\"2022-01-07T00:00:00\",\"2022-01-08T00:00:00\",\"2022-01-09T00:00:00\",\"2022-01-10T00:00:00\",\"2022-01-11T00:00:00\",\"2022-01-12T00:00:00\",\"2022-01-13T00:00:00\",\"2022-01-14T00:00:00\",\"2022-01-15T00:00:00\",\"2022-01-16T00:00:00\",\"2022-01-17T00:00:00\",\"2022-01-18T00:00:00\",\"2022-01-19T00:00:00\",\"2022-01-20T00:00:00\",\"2022-01-21T00:00:00\",\"2022-01-22T00:00:00\",\"2022-01-23T00:00:00\",\"2022-01-24T00:00:00\",\"2022-01-25T00:00:00\",\"2022-01-26T00:00:00\",\"2022-01-27T00:00:00\",\"2022-01-28T00:00:00\",\"2022-01-29T00:00:00\",\"2022-01-30T00:00:00\",\"2022-01-31T00:00:00\",\"2022-02-01T00:00:00\",\"2022-02-02T00:00:00\",\"2022-02-03T00:00:00\"],\"xaxis\":\"x\",\"y\":[103,92,81,98,83,104,87,101,89,82,98,99,88,88,78,79,87,82,104,91,89,69,98,73,79,74,84,92,76,80,77,83,90,49],\"yaxis\":\"y\",\"type\":\"bar\"},{\"alignmentgroup\":\"True\",\"hovertemplate\":\"Miner=2daa35962a6d43eb54c48367b33d0b379c930e5e<br>Block Date=%{x}<br>Block Count=%{y}<extra></extra>\",\"legendgroup\":\"2daa35962a6d43eb54c48367b33d0b379c930e5e\",\"marker\":{\"color\":\"#19d3f3\",\"pattern\":{\"shape\":\"\"}},\"name\":\"2daa35962a6d43eb54c48367b33d0b379c930e5e\",\"offsetgroup\":\"2daa35962a6d43eb54c48367b33d0b379c930e5e\",\"orientation\":\"v\",\"showlegend\":true,\"textposition\":\"auto\",\"x\":[\"2022-01-01T00:00:00\",\"2022-01-02T00:00:00\",\"2022-01-03T00:00:00\",\"2022-01-04T00:00:00\",\"2022-01-05T00:00:00\",\"2022-01-06T00:00:00\",\"2022-01-07T00:00:00\",\"2022-01-08T00:00:00\",\"2022-01-09T00:00:00\",\"2022-01-10T00:00:00\",\"2022-01-11T00:00:00\",\"2022-01-12T00:00:00\",\"2022-01-13T00:00:00\",\"2022-01-14T00:00:00\",\"2022-01-15T00:00:00\",\"2022-01-16T00:00:00\",\"2022-01-17T00:00:00\",\"2022-01-18T00:00:00\",\"2022-01-19T00:00:00\",\"2022-01-20T00:00:00\",\"2022-01-21T00:00:00\",\"2022-01-22T00:00:00\",\"2022-01-23T00:00:00\",\"2022-01-24T00:00:00\",\"2022-01-25T00:00:00\",\"2022-01-26T00:00:00\",\"2022-01-27T00:00:00\",\"2022-01-28T00:00:00\",\"2022-01-29T00:00:00\",\"2022-01-30T00:00:00\",\"2022-01-31T00:00:00\",\"2022-02-01T00:00:00\",\"2022-02-02T00:00:00\",\"2022-02-03T00:00:00\"],\"xaxis\":\"x\",\"y\":[93,91,98,86,70,106,81,108,95,77,129,80,69,116,78,96,97,64,86,92,106,96,88,109,101,95,94,81,126,97,77,113,95,91],\"yaxis\":\"y\",\"type\":\"bar\"},{\"alignmentgroup\":\"True\",\"hovertemplate\":\"Miner=8b4de256180cfec54c436a470af50f9ee2813dbb<br>Block Date=%{x}<br>Block Count=%{y}<extra></extra>\",\"legendgroup\":\"8b4de256180cfec54c436a470af50f9ee2813dbb\",\"marker\":{\"color\":\"#FF6692\",\"pattern\":{\"shape\":\"\"}},\"name\":\"8b4de256180cfec54c436a470af50f9ee2813dbb\",\"offsetgroup\":\"8b4de256180cfec54c436a470af50f9ee2813dbb\",\"orientation\":\"v\",\"showlegend\":true,\"textposition\":\"auto\",\"x\":[\"2022-01-01T00:00:00\",\"2022-01-02T00:00:00\",\"2022-01-03T00:00:00\",\"2022-01-04T00:00:00\",\"2022-01-05T00:00:00\",\"2022-01-06T00:00:00\",\"2022-01-07T00:00:00\",\"2022-01-08T00:00:00\",\"2022-01-09T00:00:00\",\"2022-01-10T00:00:00\",\"2022-01-11T00:00:00\",\"2022-01-12T00:00:00\",\"2022-01-13T00:00:00\",\"2022-01-14T00:00:00\",\"2022-01-15T00:00:00\",\"2022-01-16T00:00:00\",\"2022-01-17T00:00:00\",\"2022-01-18T00:00:00\",\"2022-01-19T00:00:00\",\"2022-01-20T00:00:00\",\"2022-01-21T00:00:00\",\"2022-01-22T00:00:00\",\"2022-01-23T00:00:00\",\"2022-01-24T00:00:00\",\"2022-01-25T00:00:00\",\"2022-01-26T00:00:00\",\"2022-01-27T00:00:00\",\"2022-01-28T00:00:00\",\"2022-01-29T00:00:00\",\"2022-01-30T00:00:00\",\"2022-01-31T00:00:00\",\"2022-02-01T00:00:00\",\"2022-02-02T00:00:00\",\"2022-02-03T00:00:00\"],\"xaxis\":\"x\",\"y\":[92,67,97,76,80,79,76,75,74,75,82,83,60,103,86,84,83,89,56,62,64,75,83,75,84,78,96,85,76,88,81,69,81,64],\"yaxis\":\"y\",\"type\":\"bar\"},{\"alignmentgroup\":\"True\",\"hovertemplate\":\"Miner=8f03f1a3f10c05e7cccf75c1fd10168e06659be7<br>Block Date=%{x}<br>Block Count=%{y}<extra></extra>\",\"legendgroup\":\"8f03f1a3f10c05e7cccf75c1fd10168e06659be7\",\"marker\":{\"color\":\"#B6E880\",\"pattern\":{\"shape\":\"\"}},\"name\":\"8f03f1a3f10c05e7cccf75c1fd10168e06659be7\",\"offsetgroup\":\"8f03f1a3f10c05e7cccf75c1fd10168e06659be7\",\"orientation\":\"v\",\"showlegend\":true,\"textposition\":\"auto\",\"x\":[\"2022-01-01T00:00:00\",\"2022-01-02T00:00:00\",\"2022-01-03T00:00:00\",\"2022-01-04T00:00:00\",\"2022-01-05T00:00:00\",\"2022-01-06T00:00:00\",\"2022-01-07T00:00:00\",\"2022-01-08T00:00:00\",\"2022-01-09T00:00:00\",\"2022-01-10T00:00:00\",\"2022-01-11T00:00:00\",\"2022-01-12T00:00:00\",\"2022-01-13T00:00:00\",\"2022-01-14T00:00:00\",\"2022-01-15T00:00:00\",\"2022-01-16T00:00:00\",\"2022-01-17T00:00:00\",\"2022-01-18T00:00:00\",\"2022-01-19T00:00:00\",\"2022-01-20T00:00:00\",\"2022-01-21T00:00:00\",\"2022-01-22T00:00:00\",\"2022-01-23T00:00:00\",\"2022-01-24T00:00:00\",\"2022-01-25T00:00:00\",\"2022-01-26T00:00:00\",\"2022-01-27T00:00:00\",\"2022-01-28T00:00:00\",\"2022-01-29T00:00:00\",\"2022-01-30T00:00:00\",\"2022-01-31T00:00:00\",\"2022-02-01T00:00:00\",\"2022-02-02T00:00:00\",\"2022-02-03T00:00:00\"],\"xaxis\":\"x\",\"y\":[90,107,95,101,127,93,113,111,106,125,96,112,112,103,107,104,98,106,111,107,93,118,95,113,99,99,115,107,117,131,123,93,99,108],\"yaxis\":\"y\",\"type\":\"bar\"},{\"alignmentgroup\":\"True\",\"hovertemplate\":\"Miner=03e75d7dd38cce2e20ffee35ec914c57780a8e29<br>Block Date=%{x}<br>Block Count=%{y}<extra></extra>\",\"legendgroup\":\"03e75d7dd38cce2e20ffee35ec914c57780a8e29\",\"marker\":{\"color\":\"#FF97FF\",\"pattern\":{\"shape\":\"\"}},\"name\":\"03e75d7dd38cce2e20ffee35ec914c57780a8e29\",\"offsetgroup\":\"03e75d7dd38cce2e20ffee35ec914c57780a8e29\",\"orientation\":\"v\",\"showlegend\":true,\"textposition\":\"auto\",\"x\":[\"2022-01-01T00:00:00\",\"2022-01-02T00:00:00\",\"2022-01-03T00:00:00\",\"2022-01-04T00:00:00\",\"2022-01-05T00:00:00\",\"2022-01-06T00:00:00\",\"2022-01-07T00:00:00\",\"2022-01-08T00:00:00\",\"2022-01-09T00:00:00\",\"2022-01-10T00:00:00\",\"2022-01-11T00:00:00\",\"2022-01-12T00:00:00\",\"2022-01-13T00:00:00\",\"2022-01-14T00:00:00\",\"2022-01-15T00:00:00\",\"2022-01-16T00:00:00\",\"2022-01-17T00:00:00\",\"2022-01-18T00:00:00\",\"2022-01-19T00:00:00\",\"2022-01-20T00:00:00\",\"2022-01-21T00:00:00\",\"2022-01-22T00:00:00\",\"2022-01-23T00:00:00\",\"2022-01-24T00:00:00\",\"2022-01-25T00:00:00\",\"2022-01-26T00:00:00\",\"2022-01-27T00:00:00\",\"2022-01-28T00:00:00\",\"2022-01-29T00:00:00\",\"2022-01-30T00:00:00\",\"2022-01-31T00:00:00\",\"2022-02-01T00:00:00\",\"2022-02-02T00:00:00\",\"2022-02-03T00:00:00\"],\"xaxis\":\"x\",\"y\":[60,76,63,50,69,82,70,75,69,52,66,75,69,81,66,62,78,62,77,80,71,73,59,76,69,82,81,68,64,62,84,70,79,42],\"yaxis\":\"y\",\"type\":\"bar\"},{\"alignmentgroup\":\"True\",\"hovertemplate\":\"Miner=4069e799da927c06b430e247b2ee16c03e8b837d<br>Block Date=%{x}<br>Block Count=%{y}<extra></extra>\",\"legendgroup\":\"4069e799da927c06b430e247b2ee16c03e8b837d\",\"marker\":{\"color\":\"#FECB52\",\"pattern\":{\"shape\":\"\"}},\"name\":\"4069e799da927c06b430e247b2ee16c03e8b837d\",\"offsetgroup\":\"4069e799da927c06b430e247b2ee16c03e8b837d\",\"orientation\":\"v\",\"showlegend\":true,\"textposition\":\"auto\",\"x\":[\"2022-01-01T00:00:00\",\"2022-01-02T00:00:00\",\"2022-01-03T00:00:00\",\"2022-01-04T00:00:00\",\"2022-01-05T00:00:00\",\"2022-01-06T00:00:00\",\"2022-01-07T00:00:00\",\"2022-01-08T00:00:00\",\"2022-01-09T00:00:00\",\"2022-01-10T00:00:00\",\"2022-01-11T00:00:00\",\"2022-01-12T00:00:00\",\"2022-01-13T00:00:00\",\"2022-01-14T00:00:00\",\"2022-01-15T00:00:00\",\"2022-01-16T00:00:00\",\"2022-01-17T00:00:00\",\"2022-01-18T00:00:00\",\"2022-01-19T00:00:00\",\"2022-01-20T00:00:00\",\"2022-01-21T00:00:00\",\"2022-01-22T00:00:00\",\"2022-01-23T00:00:00\",\"2022-01-24T00:00:00\",\"2022-01-25T00:00:00\",\"2022-01-26T00:00:00\",\"2022-01-27T00:00:00\",\"2022-01-28T00:00:00\",\"2022-01-29T00:00:00\",\"2022-01-30T00:00:00\",\"2022-01-31T00:00:00\",\"2022-02-01T00:00:00\",\"2022-02-02T00:00:00\",\"2022-02-03T00:00:00\"],\"xaxis\":\"x\",\"y\":[59,59,59,59,62,53,47,57,64,61,56,62,54,53,61,61,44,71,49,58,61,69,55,51,52,50,58,49,58,64,56,49,45,30],\"yaxis\":\"y\",\"type\":\"bar\"},{\"alignmentgroup\":\"True\",\"hovertemplate\":\"Miner=6ebaf477f83e055589c1188bcc6ddccd8c9b131a<br>Block Date=%{x}<br>Block Count=%{y}<extra></extra>\",\"legendgroup\":\"6ebaf477f83e055589c1188bcc6ddccd8c9b131a\",\"marker\":{\"color\":\"#636efa\",\"pattern\":{\"shape\":\"\"}},\"name\":\"6ebaf477f83e055589c1188bcc6ddccd8c9b131a\",\"offsetgroup\":\"6ebaf477f83e055589c1188bcc6ddccd8c9b131a\",\"orientation\":\"v\",\"showlegend\":true,\"textposition\":\"auto\",\"x\":[\"2022-01-01T00:00:00\",\"2022-01-02T00:00:00\",\"2022-01-03T00:00:00\",\"2022-01-04T00:00:00\",\"2022-01-05T00:00:00\",\"2022-01-06T00:00:00\",\"2022-01-07T00:00:00\",\"2022-01-08T00:00:00\",\"2022-01-09T00:00:00\",\"2022-01-10T00:00:00\",\"2022-01-11T00:00:00\",\"2022-01-12T00:00:00\",\"2022-01-13T00:00:00\",\"2022-01-14T00:00:00\",\"2022-01-15T00:00:00\",\"2022-01-16T00:00:00\",\"2022-01-17T00:00:00\",\"2022-01-18T00:00:00\",\"2022-01-19T00:00:00\",\"2022-01-20T00:00:00\",\"2022-01-21T00:00:00\",\"2022-01-22T00:00:00\",\"2022-01-23T00:00:00\",\"2022-01-24T00:00:00\",\"2022-01-25T00:00:00\",\"2022-01-26T00:00:00\",\"2022-01-27T00:00:00\",\"2022-01-28T00:00:00\",\"2022-01-29T00:00:00\",\"2022-01-30T00:00:00\",\"2022-01-31T00:00:00\",\"2022-02-01T00:00:00\",\"2022-02-02T00:00:00\",\"2022-02-03T00:00:00\"],\"xaxis\":\"x\",\"y\":[58,56,52,68,52,47,50,59,58,68,82,59,61,67,70,57,60,67,46,69,47,65,63,63,54,66,63,57,70,83,76,81,57,53],\"yaxis\":\"y\",\"type\":\"bar\"},{\"alignmentgroup\":\"True\",\"hovertemplate\":\"Miner=0708f87a089a91c65d48721aa941084648562287<br>Block Date=%{x}<br>Block Count=%{y}<extra></extra>\",\"legendgroup\":\"0708f87a089a91c65d48721aa941084648562287\",\"marker\":{\"color\":\"#EF553B\",\"pattern\":{\"shape\":\"\"}},\"name\":\"0708f87a089a91c65d48721aa941084648562287\",\"offsetgroup\":\"0708f87a089a91c65d48721aa941084648562287\",\"orientation\":\"v\",\"showlegend\":true,\"textposition\":\"auto\",\"x\":[\"2022-01-01T00:00:00\",\"2022-01-02T00:00:00\",\"2022-01-03T00:00:00\",\"2022-01-04T00:00:00\",\"2022-01-05T00:00:00\",\"2022-01-06T00:00:00\",\"2022-01-07T00:00:00\"],\"xaxis\":\"x\",\"y\":[55,48,57,55,51,40,24],\"yaxis\":\"y\",\"type\":\"bar\"},{\"alignmentgroup\":\"True\",\"hovertemplate\":\"Miner=d757fd54b273bb1234d4d9993f27699d28d0edd2<br>Block Date=%{x}<br>Block Count=%{y}<extra></extra>\",\"legendgroup\":\"d757fd54b273bb1234d4d9993f27699d28d0edd2\",\"marker\":{\"color\":\"#00cc96\",\"pattern\":{\"shape\":\"\"}},\"name\":\"d757fd54b273bb1234d4d9993f27699d28d0edd2\",\"offsetgroup\":\"d757fd54b273bb1234d4d9993f27699d28d0edd2\",\"orientation\":\"v\",\"showlegend\":true,\"textposition\":\"auto\",\"x\":[\"2022-01-01T00:00:00\",\"2022-01-02T00:00:00\",\"2022-01-03T00:00:00\",\"2022-01-04T00:00:00\",\"2022-01-05T00:00:00\",\"2022-01-06T00:00:00\",\"2022-01-07T00:00:00\",\"2022-01-08T00:00:00\",\"2022-01-09T00:00:00\",\"2022-01-10T00:00:00\",\"2022-01-11T00:00:00\",\"2022-01-12T00:00:00\",\"2022-01-13T00:00:00\",\"2022-01-14T00:00:00\",\"2022-01-15T00:00:00\",\"2022-01-16T00:00:00\",\"2022-01-17T00:00:00\",\"2022-01-18T00:00:00\",\"2022-01-19T00:00:00\",\"2022-01-20T00:00:00\",\"2022-01-21T00:00:00\",\"2022-01-22T00:00:00\",\"2022-01-23T00:00:00\",\"2022-01-24T00:00:00\",\"2022-01-25T00:00:00\",\"2022-01-26T00:00:00\",\"2022-01-27T00:00:00\",\"2022-01-28T00:00:00\",\"2022-01-29T00:00:00\",\"2022-01-30T00:00:00\",\"2022-01-31T00:00:00\",\"2022-02-01T00:00:00\",\"2022-02-02T00:00:00\",\"2022-02-03T00:00:00\"],\"xaxis\":\"x\",\"y\":[51,43,49,41,33,38,45,53,32,37,57,48,38,25,20,15,20,32,41,43,38,59,59,52,53,56,56,56,60,53,28,44,48,40],\"yaxis\":\"y\",\"type\":\"bar\"},{\"alignmentgroup\":\"True\",\"hovertemplate\":\"Miner=1ca43b645886c98d7eb7d27ec16ea59f509cbe1a<br>Block Date=%{x}<br>Block Count=%{y}<extra></extra>\",\"legendgroup\":\"1ca43b645886c98d7eb7d27ec16ea59f509cbe1a\",\"marker\":{\"color\":\"#ab63fa\",\"pattern\":{\"shape\":\"\"}},\"name\":\"1ca43b645886c98d7eb7d27ec16ea59f509cbe1a\",\"offsetgroup\":\"1ca43b645886c98d7eb7d27ec16ea59f509cbe1a\",\"orientation\":\"v\",\"showlegend\":true,\"textposition\":\"auto\",\"x\":[\"2022-01-01T00:00:00\",\"2022-01-02T00:00:00\",\"2022-01-03T00:00:00\",\"2022-01-04T00:00:00\",\"2022-01-05T00:00:00\",\"2022-01-06T00:00:00\",\"2022-01-07T00:00:00\",\"2022-01-08T00:00:00\",\"2022-01-09T00:00:00\",\"2022-01-10T00:00:00\",\"2022-01-11T00:00:00\",\"2022-01-12T00:00:00\",\"2022-01-13T00:00:00\",\"2022-01-14T00:00:00\",\"2022-01-15T00:00:00\",\"2022-01-16T00:00:00\",\"2022-01-17T00:00:00\",\"2022-01-18T00:00:00\",\"2022-01-19T00:00:00\",\"2022-01-20T00:00:00\",\"2022-01-21T00:00:00\",\"2022-01-22T00:00:00\",\"2022-01-23T00:00:00\",\"2022-01-24T00:00:00\",\"2022-01-25T00:00:00\",\"2022-01-26T00:00:00\",\"2022-01-27T00:00:00\",\"2022-01-28T00:00:00\",\"2022-01-29T00:00:00\",\"2022-01-30T00:00:00\",\"2022-01-31T00:00:00\",\"2022-02-01T00:00:00\",\"2022-02-02T00:00:00\",\"2022-02-03T00:00:00\"],\"xaxis\":\"x\",\"y\":[34,27,37,27,31,26,28,25,18,31,23,21,26,23,23,20,19,32,28,25,24,21,24,24,24,19,20,32,19,16,19,29,27,19],\"yaxis\":\"y\",\"type\":\"bar\"},{\"alignmentgroup\":\"True\",\"hovertemplate\":\"Miner=c93452a74e596e81e4f73ca1acff532089ad4c62<br>Block Date=%{x}<br>Block Count=%{y}<extra></extra>\",\"legendgroup\":\"c93452a74e596e81e4f73ca1acff532089ad4c62\",\"marker\":{\"color\":\"#FFA15A\",\"pattern\":{\"shape\":\"\"}},\"name\":\"c93452a74e596e81e4f73ca1acff532089ad4c62\",\"offsetgroup\":\"c93452a74e596e81e4f73ca1acff532089ad4c62\",\"orientation\":\"v\",\"showlegend\":true,\"textposition\":\"auto\",\"x\":[\"2022-01-01T00:00:00\",\"2022-01-02T00:00:00\",\"2022-01-03T00:00:00\",\"2022-01-04T00:00:00\",\"2022-01-05T00:00:00\",\"2022-01-06T00:00:00\",\"2022-01-07T00:00:00\",\"2022-01-08T00:00:00\",\"2022-01-09T00:00:00\",\"2022-01-10T00:00:00\",\"2022-01-11T00:00:00\",\"2022-01-12T00:00:00\",\"2022-01-13T00:00:00\",\"2022-01-14T00:00:00\",\"2022-01-15T00:00:00\",\"2022-01-16T00:00:00\",\"2022-01-17T00:00:00\",\"2022-01-18T00:00:00\",\"2022-01-19T00:00:00\",\"2022-01-20T00:00:00\",\"2022-01-21T00:00:00\",\"2022-01-22T00:00:00\",\"2022-01-23T00:00:00\",\"2022-01-24T00:00:00\",\"2022-01-25T00:00:00\",\"2022-01-26T00:00:00\",\"2022-01-27T00:00:00\",\"2022-01-28T00:00:00\",\"2022-01-29T00:00:00\",\"2022-01-30T00:00:00\",\"2022-01-31T00:00:00\",\"2022-02-01T00:00:00\",\"2022-02-02T00:00:00\",\"2022-02-03T00:00:00\"],\"xaxis\":\"x\",\"y\":[33,41,37,27,34,38,13,32,24,24,31,31,34,40,35,32,25,38,29,33,28,28,28,22,31,24,23,31,30,22,36,35,34,30],\"yaxis\":\"y\",\"type\":\"bar\"},{\"alignmentgroup\":\"True\",\"hovertemplate\":\"Miner=002e08000acbbae2155fab7ac01929564949070d<br>Block Date=%{x}<br>Block Count=%{y}<extra></extra>\",\"legendgroup\":\"002e08000acbbae2155fab7ac01929564949070d\",\"marker\":{\"color\":\"#19d3f3\",\"pattern\":{\"shape\":\"\"}},\"name\":\"002e08000acbbae2155fab7ac01929564949070d\",\"offsetgroup\":\"002e08000acbbae2155fab7ac01929564949070d\",\"orientation\":\"v\",\"showlegend\":true,\"textposition\":\"auto\",\"x\":[\"2022-01-01T00:00:00\",\"2022-01-02T00:00:00\",\"2022-01-03T00:00:00\",\"2022-01-04T00:00:00\",\"2022-01-05T00:00:00\",\"2022-01-06T00:00:00\",\"2022-01-07T00:00:00\",\"2022-01-08T00:00:00\",\"2022-01-09T00:00:00\",\"2022-01-10T00:00:00\",\"2022-01-11T00:00:00\",\"2022-01-12T00:00:00\",\"2022-01-13T00:00:00\",\"2022-01-14T00:00:00\",\"2022-01-15T00:00:00\",\"2022-01-16T00:00:00\",\"2022-01-17T00:00:00\",\"2022-01-18T00:00:00\",\"2022-01-19T00:00:00\",\"2022-01-20T00:00:00\",\"2022-01-21T00:00:00\",\"2022-01-22T00:00:00\",\"2022-01-23T00:00:00\",\"2022-01-24T00:00:00\",\"2022-01-25T00:00:00\",\"2022-01-26T00:00:00\",\"2022-01-27T00:00:00\",\"2022-01-28T00:00:00\",\"2022-01-29T00:00:00\",\"2022-01-30T00:00:00\",\"2022-01-31T00:00:00\",\"2022-02-01T00:00:00\",\"2022-02-02T00:00:00\",\"2022-02-03T00:00:00\"],\"xaxis\":\"x\",\"y\":[32,12,11,28,25,28,31,28,33,26,27,22,19,27,29,21,25,31,33,48,47,42,34,28,28,42,42,30,39,24,31,37,35,21],\"yaxis\":\"y\",\"type\":\"bar\"},{\"alignmentgroup\":\"True\",\"hovertemplate\":\"Miner=776bb566dc299c9e722773d2a04b401e831a6dc8<br>Block Date=%{x}<br>Block Count=%{y}<extra></extra>\",\"legendgroup\":\"776bb566dc299c9e722773d2a04b401e831a6dc8\",\"marker\":{\"color\":\"#FF6692\",\"pattern\":{\"shape\":\"\"}},\"name\":\"776bb566dc299c9e722773d2a04b401e831a6dc8\",\"offsetgroup\":\"776bb566dc299c9e722773d2a04b401e831a6dc8\",\"orientation\":\"v\",\"showlegend\":true,\"textposition\":\"auto\",\"x\":[\"2022-01-01T00:00:00\",\"2022-01-02T00:00:00\",\"2022-01-03T00:00:00\",\"2022-01-04T00:00:00\",\"2022-01-05T00:00:00\",\"2022-01-06T00:00:00\",\"2022-01-07T00:00:00\",\"2022-01-08T00:00:00\",\"2022-01-09T00:00:00\",\"2022-01-10T00:00:00\",\"2022-01-11T00:00:00\",\"2022-01-12T00:00:00\",\"2022-01-13T00:00:00\",\"2022-01-14T00:00:00\",\"2022-01-15T00:00:00\",\"2022-01-16T00:00:00\",\"2022-01-17T00:00:00\",\"2022-01-18T00:00:00\",\"2022-01-19T00:00:00\",\"2022-01-20T00:00:00\",\"2022-01-21T00:00:00\",\"2022-01-22T00:00:00\",\"2022-01-23T00:00:00\",\"2022-01-24T00:00:00\",\"2022-01-25T00:00:00\",\"2022-01-26T00:00:00\",\"2022-01-27T00:00:00\",\"2022-01-28T00:00:00\",\"2022-01-29T00:00:00\",\"2022-01-30T00:00:00\",\"2022-01-31T00:00:00\",\"2022-02-01T00:00:00\",\"2022-02-02T00:00:00\",\"2022-02-03T00:00:00\"],\"xaxis\":\"x\",\"y\":[28,25,23,31,16,16,17,20,14,18,19,22,17,13,12,5,13,18,13,17,11,11,10,10,13,10,16,12,8,17,14,16,9,11],\"yaxis\":\"y\",\"type\":\"bar\"},{\"alignmentgroup\":\"True\",\"hovertemplate\":\"Miner=433022c4066558e7a32d850f02d2da5ca782174d<br>Block Date=%{x}<br>Block Count=%{y}<extra></extra>\",\"legendgroup\":\"433022c4066558e7a32d850f02d2da5ca782174d\",\"marker\":{\"color\":\"#B6E880\",\"pattern\":{\"shape\":\"\"}},\"name\":\"433022c4066558e7a32d850f02d2da5ca782174d\",\"offsetgroup\":\"433022c4066558e7a32d850f02d2da5ca782174d\",\"orientation\":\"v\",\"showlegend\":true,\"textposition\":\"auto\",\"x\":[\"2022-01-01T00:00:00\",\"2022-01-02T00:00:00\",\"2022-01-03T00:00:00\",\"2022-01-04T00:00:00\",\"2022-01-05T00:00:00\",\"2022-01-06T00:00:00\",\"2022-01-07T00:00:00\",\"2022-01-08T00:00:00\",\"2022-01-09T00:00:00\",\"2022-01-10T00:00:00\",\"2022-01-11T00:00:00\",\"2022-01-12T00:00:00\",\"2022-01-13T00:00:00\",\"2022-01-14T00:00:00\",\"2022-01-15T00:00:00\",\"2022-01-16T00:00:00\",\"2022-01-17T00:00:00\",\"2022-01-18T00:00:00\",\"2022-01-19T00:00:00\",\"2022-01-20T00:00:00\",\"2022-01-21T00:00:00\",\"2022-01-22T00:00:00\",\"2022-01-23T00:00:00\",\"2022-01-24T00:00:00\",\"2022-01-25T00:00:00\",\"2022-01-26T00:00:00\",\"2022-01-27T00:00:00\",\"2022-01-28T00:00:00\",\"2022-01-29T00:00:00\",\"2022-01-30T00:00:00\",\"2022-01-31T00:00:00\",\"2022-02-01T00:00:00\",\"2022-02-02T00:00:00\",\"2022-02-03T00:00:00\"],\"xaxis\":\"x\",\"y\":[27,38,25,30,21,21,43,33,35,35,29,28,28,48,41,30,26,36,35,38,29,34,37,42,40,33,42,42,47,44,32,37,25,35],\"yaxis\":\"y\",\"type\":\"bar\"},{\"alignmentgroup\":\"True\",\"hovertemplate\":\"Miner=5b56f09e7d6272fc014f8526a5290700c5bb302b<br>Block Date=%{x}<br>Block Count=%{y}<extra></extra>\",\"legendgroup\":\"5b56f09e7d6272fc014f8526a5290700c5bb302b\",\"marker\":{\"color\":\"#FF97FF\",\"pattern\":{\"shape\":\"\"}},\"name\":\"5b56f09e7d6272fc014f8526a5290700c5bb302b\",\"offsetgroup\":\"5b56f09e7d6272fc014f8526a5290700c5bb302b\",\"orientation\":\"v\",\"showlegend\":true,\"textposition\":\"auto\",\"x\":[\"2022-01-01T00:00:00\",\"2022-01-02T00:00:00\",\"2022-01-03T00:00:00\",\"2022-01-04T00:00:00\",\"2022-01-05T00:00:00\",\"2022-01-06T00:00:00\",\"2022-01-07T00:00:00\",\"2022-01-08T00:00:00\",\"2022-01-09T00:00:00\",\"2022-01-10T00:00:00\",\"2022-01-11T00:00:00\",\"2022-01-12T00:00:00\",\"2022-01-13T00:00:00\",\"2022-01-14T00:00:00\",\"2022-01-15T00:00:00\",\"2022-01-16T00:00:00\",\"2022-01-17T00:00:00\",\"2022-01-18T00:00:00\",\"2022-01-19T00:00:00\",\"2022-01-20T00:00:00\",\"2022-01-21T00:00:00\",\"2022-01-22T00:00:00\",\"2022-01-23T00:00:00\",\"2022-01-24T00:00:00\",\"2022-01-25T00:00:00\",\"2022-01-26T00:00:00\",\"2022-01-27T00:00:00\",\"2022-01-28T00:00:00\",\"2022-01-29T00:00:00\",\"2022-01-30T00:00:00\",\"2022-01-31T00:00:00\",\"2022-02-01T00:00:00\",\"2022-02-02T00:00:00\",\"2022-02-03T00:00:00\"],\"xaxis\":\"x\",\"y\":[20,28,17,21,20,24,24,21,21,29,21,30,28,17,20,16,20,21,20,22,21,23,9,21,13,14,15,20,16,18,19,20,17,15],\"yaxis\":\"y\",\"type\":\"bar\"},{\"alignmentgroup\":\"True\",\"hovertemplate\":\"Miner=249bdb4499bd7c683664c149276c1d86108e2137<br>Block Date=%{x}<br>Block Count=%{y}<extra></extra>\",\"legendgroup\":\"249bdb4499bd7c683664c149276c1d86108e2137\",\"marker\":{\"color\":\"#FECB52\",\"pattern\":{\"shape\":\"\"}},\"name\":\"249bdb4499bd7c683664c149276c1d86108e2137\",\"offsetgroup\":\"249bdb4499bd7c683664c149276c1d86108e2137\",\"orientation\":\"v\",\"showlegend\":true,\"textposition\":\"auto\",\"x\":[\"2022-01-01T00:00:00\",\"2022-01-02T00:00:00\",\"2022-01-03T00:00:00\",\"2022-01-04T00:00:00\",\"2022-01-05T00:00:00\",\"2022-01-06T00:00:00\",\"2022-01-07T00:00:00\",\"2022-01-08T00:00:00\",\"2022-01-09T00:00:00\",\"2022-01-10T00:00:00\",\"2022-01-11T00:00:00\",\"2022-01-12T00:00:00\",\"2022-01-13T00:00:00\",\"2022-01-14T00:00:00\",\"2022-01-15T00:00:00\",\"2022-01-16T00:00:00\",\"2022-01-17T00:00:00\",\"2022-01-18T00:00:00\",\"2022-01-19T00:00:00\",\"2022-01-20T00:00:00\",\"2022-01-21T00:00:00\",\"2022-01-22T00:00:00\",\"2022-01-23T00:00:00\",\"2022-01-24T00:00:00\",\"2022-01-25T00:00:00\",\"2022-01-26T00:00:00\",\"2022-01-27T00:00:00\",\"2022-01-28T00:00:00\",\"2022-01-29T00:00:00\",\"2022-01-30T00:00:00\",\"2022-01-31T00:00:00\",\"2022-02-01T00:00:00\",\"2022-02-02T00:00:00\",\"2022-02-03T00:00:00\"],\"xaxis\":\"x\",\"y\":[17,11,5,8,17,4,5,6,15,19,8,11,9,14,11,12,15,13,5,13,21,12,14,2,21,11,33,17,14,19,8,16,14,8],\"yaxis\":\"y\",\"type\":\"bar\"},{\"alignmentgroup\":\"True\",\"hovertemplate\":\"Miner=4f9bebe3adc3c7f647c0023c60f91ac9dffa52d5<br>Block Date=%{x}<br>Block Count=%{y}<extra></extra>\",\"legendgroup\":\"4f9bebe3adc3c7f647c0023c60f91ac9dffa52d5\",\"marker\":{\"color\":\"#636efa\",\"pattern\":{\"shape\":\"\"}},\"name\":\"4f9bebe3adc3c7f647c0023c60f91ac9dffa52d5\",\"offsetgroup\":\"4f9bebe3adc3c7f647c0023c60f91ac9dffa52d5\",\"orientation\":\"v\",\"showlegend\":true,\"textposition\":\"auto\",\"x\":[\"2022-01-01T00:00:00\",\"2022-01-02T00:00:00\",\"2022-01-03T00:00:00\",\"2022-01-04T00:00:00\",\"2022-01-05T00:00:00\",\"2022-01-06T00:00:00\",\"2022-01-07T00:00:00\",\"2022-01-08T00:00:00\",\"2022-01-09T00:00:00\",\"2022-01-10T00:00:00\",\"2022-01-11T00:00:00\",\"2022-01-12T00:00:00\",\"2022-01-13T00:00:00\",\"2022-01-14T00:00:00\",\"2022-01-15T00:00:00\",\"2022-01-16T00:00:00\",\"2022-01-17T00:00:00\",\"2022-01-18T00:00:00\",\"2022-01-19T00:00:00\",\"2022-01-20T00:00:00\",\"2022-01-21T00:00:00\",\"2022-01-22T00:00:00\",\"2022-01-23T00:00:00\",\"2022-01-24T00:00:00\",\"2022-01-25T00:00:00\",\"2022-01-26T00:00:00\",\"2022-01-27T00:00:00\",\"2022-01-28T00:00:00\",\"2022-01-29T00:00:00\",\"2022-01-30T00:00:00\",\"2022-01-31T00:00:00\",\"2022-02-01T00:00:00\",\"2022-02-02T00:00:00\",\"2022-02-03T00:00:00\"],\"xaxis\":\"x\",\"y\":[16,15,14,11,12,8,15,15,10,7,11,12,9,14,7,10,10,9,16,11,19,9,17,12,19,8,10,12,14,4,11,13,20,10],\"yaxis\":\"y\",\"type\":\"bar\"},{\"alignmentgroup\":\"True\",\"hovertemplate\":\"Miner=aee98861388af1d6323b95f78adf3dda102a276c<br>Block Date=%{x}<br>Block Count=%{y}<extra></extra>\",\"legendgroup\":\"aee98861388af1d6323b95f78adf3dda102a276c\",\"marker\":{\"color\":\"#EF553B\",\"pattern\":{\"shape\":\"\"}},\"name\":\"aee98861388af1d6323b95f78adf3dda102a276c\",\"offsetgroup\":\"aee98861388af1d6323b95f78adf3dda102a276c\",\"orientation\":\"v\",\"showlegend\":true,\"textposition\":\"auto\",\"x\":[\"2022-01-01T00:00:00\",\"2022-01-02T00:00:00\",\"2022-01-03T00:00:00\",\"2022-01-04T00:00:00\",\"2022-01-05T00:00:00\",\"2022-01-06T00:00:00\",\"2022-01-07T00:00:00\",\"2022-01-08T00:00:00\",\"2022-01-09T00:00:00\",\"2022-01-10T00:00:00\",\"2022-01-11T00:00:00\",\"2022-01-12T00:00:00\",\"2022-01-13T00:00:00\",\"2022-01-14T00:00:00\",\"2022-01-15T00:00:00\",\"2022-01-16T00:00:00\",\"2022-01-17T00:00:00\",\"2022-01-18T00:00:00\",\"2022-01-19T00:00:00\",\"2022-01-20T00:00:00\",\"2022-01-21T00:00:00\",\"2022-01-22T00:00:00\",\"2022-01-23T00:00:00\",\"2022-01-24T00:00:00\",\"2022-01-25T00:00:00\",\"2022-01-26T00:00:00\",\"2022-01-27T00:00:00\",\"2022-01-28T00:00:00\",\"2022-01-29T00:00:00\",\"2022-01-30T00:00:00\",\"2022-01-31T00:00:00\",\"2022-02-01T00:00:00\",\"2022-02-02T00:00:00\",\"2022-02-03T00:00:00\"],\"xaxis\":\"x\",\"y\":[12,6,6,7,9,6,6,8,6,9,6,4,9,4,9,6,7,5,7,4,3,4,10,7,4,6,7,4,1,3,7,5,7,6],\"yaxis\":\"y\",\"type\":\"bar\"},{\"alignmentgroup\":\"True\",\"hovertemplate\":\"Miner=26b3eea1cd34a4aff7ce828a5f71daac042d38e0<br>Block Date=%{x}<br>Block Count=%{y}<extra></extra>\",\"legendgroup\":\"26b3eea1cd34a4aff7ce828a5f71daac042d38e0\",\"marker\":{\"color\":\"#00cc96\",\"pattern\":{\"shape\":\"\"}},\"name\":\"26b3eea1cd34a4aff7ce828a5f71daac042d38e0\",\"offsetgroup\":\"26b3eea1cd34a4aff7ce828a5f71daac042d38e0\",\"orientation\":\"v\",\"showlegend\":true,\"textposition\":\"auto\",\"x\":[\"2022-01-01T00:00:00\",\"2022-01-02T00:00:00\",\"2022-01-03T00:00:00\",\"2022-01-04T00:00:00\",\"2022-01-05T00:00:00\",\"2022-01-06T00:00:00\",\"2022-01-07T00:00:00\",\"2022-01-08T00:00:00\",\"2022-01-09T00:00:00\",\"2022-01-10T00:00:00\",\"2022-01-11T00:00:00\",\"2022-01-12T00:00:00\",\"2022-01-13T00:00:00\",\"2022-01-14T00:00:00\",\"2022-01-15T00:00:00\",\"2022-01-16T00:00:00\",\"2022-01-17T00:00:00\",\"2022-01-18T00:00:00\",\"2022-01-19T00:00:00\",\"2022-01-20T00:00:00\",\"2022-01-21T00:00:00\",\"2022-01-22T00:00:00\",\"2022-01-23T00:00:00\",\"2022-01-24T00:00:00\",\"2022-01-25T00:00:00\",\"2022-01-26T00:00:00\",\"2022-01-27T00:00:00\",\"2022-01-28T00:00:00\",\"2022-01-29T00:00:00\",\"2022-01-30T00:00:00\",\"2022-01-31T00:00:00\",\"2022-02-01T00:00:00\",\"2022-02-02T00:00:00\",\"2022-02-03T00:00:00\"],\"xaxis\":\"x\",\"y\":[12,15,11,11,12,11,15,13,30,19,13,13,17,18,25,23,22,15,17,11,18,12,15,18,20,19,13,12,13,18,16,17,14,11],\"yaxis\":\"y\",\"type\":\"bar\"},{\"alignmentgroup\":\"True\",\"hovertemplate\":\"Miner=5dcb78343780e1b1e578ae0590dc1e868792a435<br>Block Date=%{x}<br>Block Count=%{y}<extra></extra>\",\"legendgroup\":\"5dcb78343780e1b1e578ae0590dc1e868792a435\",\"marker\":{\"color\":\"#ab63fa\",\"pattern\":{\"shape\":\"\"}},\"name\":\"5dcb78343780e1b1e578ae0590dc1e868792a435\",\"offsetgroup\":\"5dcb78343780e1b1e578ae0590dc1e868792a435\",\"orientation\":\"v\",\"showlegend\":true,\"textposition\":\"auto\",\"x\":[\"2022-01-01T00:00:00\",\"2022-01-02T00:00:00\",\"2022-01-03T00:00:00\",\"2022-01-04T00:00:00\",\"2022-01-05T00:00:00\",\"2022-01-06T00:00:00\",\"2022-01-07T00:00:00\",\"2022-01-08T00:00:00\",\"2022-01-09T00:00:00\",\"2022-01-10T00:00:00\",\"2022-01-11T00:00:00\",\"2022-01-12T00:00:00\",\"2022-01-13T00:00:00\",\"2022-01-14T00:00:00\",\"2022-01-15T00:00:00\",\"2022-01-16T00:00:00\",\"2022-01-17T00:00:00\",\"2022-01-18T00:00:00\",\"2022-01-19T00:00:00\",\"2022-01-20T00:00:00\",\"2022-01-21T00:00:00\",\"2022-01-22T00:00:00\",\"2022-01-23T00:00:00\",\"2022-01-24T00:00:00\",\"2022-01-25T00:00:00\",\"2022-01-26T00:00:00\",\"2022-01-27T00:00:00\",\"2022-01-28T00:00:00\",\"2022-01-29T00:00:00\",\"2022-01-30T00:00:00\",\"2022-01-31T00:00:00\",\"2022-02-01T00:00:00\",\"2022-02-02T00:00:00\",\"2022-02-03T00:00:00\"],\"xaxis\":\"x\",\"y\":[11,9,10,11,15,13,10,8,16,16,12,10,7,12,11,16,11,14,10,8,11,10,9,11,9,9,10,10,7,13,6,11,7,12],\"yaxis\":\"y\",\"type\":\"bar\"},{\"alignmentgroup\":\"True\",\"hovertemplate\":\"Miner=09ab1303d3ccaf5f018cd511146b07a240c70294<br>Block Date=%{x}<br>Block Count=%{y}<extra></extra>\",\"legendgroup\":\"09ab1303d3ccaf5f018cd511146b07a240c70294\",\"marker\":{\"color\":\"#FFA15A\",\"pattern\":{\"shape\":\"\"}},\"name\":\"09ab1303d3ccaf5f018cd511146b07a240c70294\",\"offsetgroup\":\"09ab1303d3ccaf5f018cd511146b07a240c70294\",\"orientation\":\"v\",\"showlegend\":true,\"textposition\":\"auto\",\"x\":[\"2022-01-01T00:00:00\",\"2022-01-02T00:00:00\",\"2022-01-03T00:00:00\",\"2022-01-04T00:00:00\",\"2022-01-05T00:00:00\",\"2022-01-06T00:00:00\",\"2022-01-07T00:00:00\",\"2022-01-08T00:00:00\",\"2022-01-09T00:00:00\",\"2022-01-10T00:00:00\",\"2022-01-11T00:00:00\",\"2022-01-12T00:00:00\",\"2022-01-13T00:00:00\",\"2022-01-14T00:00:00\",\"2022-01-15T00:00:00\",\"2022-01-16T00:00:00\",\"2022-01-17T00:00:00\",\"2022-01-18T00:00:00\",\"2022-01-19T00:00:00\",\"2022-01-20T00:00:00\",\"2022-01-21T00:00:00\",\"2022-01-22T00:00:00\",\"2022-01-23T00:00:00\",\"2022-01-24T00:00:00\",\"2022-01-25T00:00:00\",\"2022-01-26T00:00:00\",\"2022-01-27T00:00:00\",\"2022-01-28T00:00:00\",\"2022-01-29T00:00:00\",\"2022-01-30T00:00:00\",\"2022-01-31T00:00:00\",\"2022-02-01T00:00:00\",\"2022-02-02T00:00:00\",\"2022-02-03T00:00:00\"],\"xaxis\":\"x\",\"y\":[11,6,7,9,11,7,7,17,8,6,6,8,11,11,6,13,7,9,8,3,12,6,5,8,6,8,9,13,8,7,9,11,8,7],\"yaxis\":\"y\",\"type\":\"bar\"},{\"alignmentgroup\":\"True\",\"hovertemplate\":\"Miner=537b6bd3caeb0d41540ac1fd406b9acda5670aad<br>Block Date=%{x}<br>Block Count=%{y}<extra></extra>\",\"legendgroup\":\"537b6bd3caeb0d41540ac1fd406b9acda5670aad\",\"marker\":{\"color\":\"#19d3f3\",\"pattern\":{\"shape\":\"\"}},\"name\":\"537b6bd3caeb0d41540ac1fd406b9acda5670aad\",\"offsetgroup\":\"537b6bd3caeb0d41540ac1fd406b9acda5670aad\",\"orientation\":\"v\",\"showlegend\":true,\"textposition\":\"auto\",\"x\":[\"2022-01-01T00:00:00\",\"2022-01-02T00:00:00\",\"2022-01-03T00:00:00\",\"2022-01-04T00:00:00\",\"2022-01-05T00:00:00\",\"2022-01-06T00:00:00\",\"2022-01-07T00:00:00\",\"2022-01-08T00:00:00\",\"2022-01-09T00:00:00\",\"2022-01-10T00:00:00\",\"2022-01-11T00:00:00\",\"2022-01-12T00:00:00\",\"2022-01-13T00:00:00\",\"2022-01-14T00:00:00\",\"2022-01-15T00:00:00\",\"2022-01-16T00:00:00\",\"2022-01-17T00:00:00\",\"2022-01-18T00:00:00\",\"2022-01-19T00:00:00\",\"2022-01-20T00:00:00\",\"2022-01-21T00:00:00\",\"2022-01-22T00:00:00\",\"2022-01-23T00:00:00\",\"2022-01-24T00:00:00\",\"2022-01-25T00:00:00\",\"2022-01-26T00:00:00\",\"2022-01-27T00:00:00\",\"2022-01-28T00:00:00\",\"2022-01-29T00:00:00\",\"2022-01-30T00:00:00\",\"2022-01-31T00:00:00\",\"2022-02-01T00:00:00\",\"2022-02-02T00:00:00\",\"2022-02-03T00:00:00\"],\"xaxis\":\"x\",\"y\":[10,5,7,5,10,11,7,11,8,4,10,14,5,5,10,11,12,6,8,6,15,4,11,10,7,4,3,7,10,9,13,4,9,5],\"yaxis\":\"y\",\"type\":\"bar\"},{\"alignmentgroup\":\"True\",\"hovertemplate\":\"Miner=f35074bbd0a9aee46f4ea137971feec024ab704e<br>Block Date=%{x}<br>Block Count=%{y}<extra></extra>\",\"legendgroup\":\"f35074bbd0a9aee46f4ea137971feec024ab704e\",\"marker\":{\"color\":\"#FF6692\",\"pattern\":{\"shape\":\"\"}},\"name\":\"f35074bbd0a9aee46f4ea137971feec024ab704e\",\"offsetgroup\":\"f35074bbd0a9aee46f4ea137971feec024ab704e\",\"orientation\":\"v\",\"showlegend\":true,\"textposition\":\"auto\",\"x\":[\"2022-01-01T00:00:00\",\"2022-01-03T00:00:00\",\"2022-01-04T00:00:00\",\"2022-01-05T00:00:00\",\"2022-01-07T00:00:00\",\"2022-01-08T00:00:00\",\"2022-01-09T00:00:00\",\"2022-01-10T00:00:00\",\"2022-01-11T00:00:00\",\"2022-01-14T00:00:00\",\"2022-01-16T00:00:00\",\"2022-01-21T00:00:00\",\"2022-01-23T00:00:00\",\"2022-01-24T00:00:00\",\"2022-01-25T00:00:00\",\"2022-01-27T00:00:00\",\"2022-01-28T00:00:00\",\"2022-01-29T00:00:00\",\"2022-01-30T00:00:00\",\"2022-01-31T00:00:00\",\"2022-02-01T00:00:00\",\"2022-02-02T00:00:00\",\"2022-02-03T00:00:00\"],\"xaxis\":\"x\",\"y\":[7,2,3,1,6,2,7,1,4,2,1,2,1,6,2,4,6,7,6,3,2,1,1],\"yaxis\":\"y\",\"type\":\"bar\"},{\"alignmentgroup\":\"True\",\"hovertemplate\":\"Miner=7777788200b672a42421017f65ede4fc759564c8<br>Block Date=%{x}<br>Block Count=%{y}<extra></extra>\",\"legendgroup\":\"7777788200b672a42421017f65ede4fc759564c8\",\"marker\":{\"color\":\"#B6E880\",\"pattern\":{\"shape\":\"\"}},\"name\":\"7777788200b672a42421017f65ede4fc759564c8\",\"offsetgroup\":\"7777788200b672a42421017f65ede4fc759564c8\",\"orientation\":\"v\",\"showlegend\":true,\"textposition\":\"auto\",\"x\":[\"2022-01-01T00:00:00\",\"2022-01-02T00:00:00\",\"2022-01-03T00:00:00\",\"2022-01-04T00:00:00\",\"2022-01-05T00:00:00\",\"2022-01-06T00:00:00\",\"2022-01-07T00:00:00\",\"2022-01-08T00:00:00\",\"2022-01-09T00:00:00\",\"2022-01-10T00:00:00\",\"2022-01-11T00:00:00\",\"2022-01-12T00:00:00\",\"2022-01-13T00:00:00\",\"2022-01-14T00:00:00\",\"2022-01-15T00:00:00\",\"2022-01-16T00:00:00\",\"2022-01-17T00:00:00\",\"2022-01-18T00:00:00\",\"2022-01-19T00:00:00\",\"2022-01-20T00:00:00\",\"2022-01-21T00:00:00\",\"2022-01-22T00:00:00\",\"2022-01-23T00:00:00\",\"2022-01-24T00:00:00\",\"2022-01-25T00:00:00\",\"2022-01-26T00:00:00\",\"2022-01-27T00:00:00\",\"2022-01-28T00:00:00\",\"2022-01-29T00:00:00\",\"2022-01-30T00:00:00\",\"2022-01-31T00:00:00\",\"2022-02-01T00:00:00\",\"2022-02-02T00:00:00\",\"2022-02-03T00:00:00\"],\"xaxis\":\"x\",\"y\":[6,10,5,11,6,9,11,14,11,11,11,11,12,6,13,20,19,10,9,6,23,13,9,8,13,10,12,9,7,3,8,12,16,8],\"yaxis\":\"y\",\"type\":\"bar\"},{\"alignmentgroup\":\"True\",\"hovertemplate\":\"Miner=21479eb8cb1a27861c902f07a952b72b10fd53ef<br>Block Date=%{x}<br>Block Count=%{y}<extra></extra>\",\"legendgroup\":\"21479eb8cb1a27861c902f07a952b72b10fd53ef\",\"marker\":{\"color\":\"#FF97FF\",\"pattern\":{\"shape\":\"\"}},\"name\":\"21479eb8cb1a27861c902f07a952b72b10fd53ef\",\"offsetgroup\":\"21479eb8cb1a27861c902f07a952b72b10fd53ef\",\"orientation\":\"v\",\"showlegend\":true,\"textposition\":\"auto\",\"x\":[\"2022-01-01T00:00:00\",\"2022-01-02T00:00:00\",\"2022-01-03T00:00:00\",\"2022-01-04T00:00:00\",\"2022-01-05T00:00:00\",\"2022-01-06T00:00:00\",\"2022-01-08T00:00:00\",\"2022-01-10T00:00:00\",\"2022-01-11T00:00:00\",\"2022-01-12T00:00:00\",\"2022-01-13T00:00:00\",\"2022-01-14T00:00:00\",\"2022-01-15T00:00:00\",\"2022-01-16T00:00:00\",\"2022-01-17T00:00:00\",\"2022-01-18T00:00:00\",\"2022-01-19T00:00:00\",\"2022-01-20T00:00:00\",\"2022-01-21T00:00:00\",\"2022-01-22T00:00:00\",\"2022-01-23T00:00:00\",\"2022-01-24T00:00:00\",\"2022-01-25T00:00:00\",\"2022-01-26T00:00:00\",\"2022-01-27T00:00:00\",\"2022-01-28T00:00:00\",\"2022-01-29T00:00:00\",\"2022-01-30T00:00:00\",\"2022-01-31T00:00:00\",\"2022-02-01T00:00:00\",\"2022-02-02T00:00:00\",\"2022-02-03T00:00:00\"],\"xaxis\":\"x\",\"y\":[2,7,3,7,17,4,3,2,3,9,4,3,8,4,13,12,1,10,5,15,2,2,8,6,6,4,4,5,4,6,2,6],\"yaxis\":\"y\",\"type\":\"bar\"},{\"alignmentgroup\":\"True\",\"hovertemplate\":\"Miner=c7fabfd21f0b3254686337b63b4f1282c29aadd8<br>Block Date=%{x}<br>Block Count=%{y}<extra></extra>\",\"legendgroup\":\"c7fabfd21f0b3254686337b63b4f1282c29aadd8\",\"marker\":{\"color\":\"#FECB52\",\"pattern\":{\"shape\":\"\"}},\"name\":\"c7fabfd21f0b3254686337b63b4f1282c29aadd8\",\"offsetgroup\":\"c7fabfd21f0b3254686337b63b4f1282c29aadd8\",\"orientation\":\"v\",\"showlegend\":true,\"textposition\":\"auto\",\"x\":[\"2022-01-01T00:00:00\",\"2022-01-02T00:00:00\",\"2022-01-03T00:00:00\",\"2022-01-04T00:00:00\",\"2022-01-05T00:00:00\",\"2022-01-06T00:00:00\",\"2022-01-07T00:00:00\",\"2022-01-09T00:00:00\",\"2022-01-10T00:00:00\",\"2022-01-12T00:00:00\",\"2022-01-13T00:00:00\",\"2022-01-14T00:00:00\",\"2022-01-16T00:00:00\",\"2022-01-17T00:00:00\",\"2022-01-22T00:00:00\",\"2022-01-23T00:00:00\",\"2022-01-24T00:00:00\",\"2022-01-25T00:00:00\",\"2022-01-26T00:00:00\",\"2022-01-27T00:00:00\",\"2022-01-28T00:00:00\",\"2022-01-29T00:00:00\",\"2022-02-01T00:00:00\",\"2022-02-02T00:00:00\",\"2022-02-03T00:00:00\"],\"xaxis\":\"x\",\"y\":[2,1,1,1,1,2,1,1,3,2,1,2,1,1,1,1,1,1,3,3,1,4,3,2,5],\"yaxis\":\"y\",\"type\":\"bar\"},{\"alignmentgroup\":\"True\",\"hovertemplate\":\"Miner=a1b7326d90a4d796ef0992a3fb4ef0702bf372ea<br>Block Date=%{x}<br>Block Count=%{y}<extra></extra>\",\"legendgroup\":\"a1b7326d90a4d796ef0992a3fb4ef0702bf372ea\",\"marker\":{\"color\":\"#636efa\",\"pattern\":{\"shape\":\"\"}},\"name\":\"a1b7326d90a4d796ef0992a3fb4ef0702bf372ea\",\"offsetgroup\":\"a1b7326d90a4d796ef0992a3fb4ef0702bf372ea\",\"orientation\":\"v\",\"showlegend\":true,\"textposition\":\"auto\",\"x\":[\"2022-01-01T00:00:00\",\"2022-01-03T00:00:00\",\"2022-01-14T00:00:00\",\"2022-01-16T00:00:00\",\"2022-01-19T00:00:00\",\"2022-01-23T00:00:00\",\"2022-01-31T00:00:00\"],\"xaxis\":\"x\",\"y\":[1,1,1,1,1,1,1],\"yaxis\":\"y\",\"type\":\"bar\"},{\"alignmentgroup\":\"True\",\"hovertemplate\":\"Miner=bd5cdd2b3d04ce42605aaea7e8355ac0e0a12710<br>Block Date=%{x}<br>Block Count=%{y}<extra></extra>\",\"legendgroup\":\"bd5cdd2b3d04ce42605aaea7e8355ac0e0a12710\",\"marker\":{\"color\":\"#EF553B\",\"pattern\":{\"shape\":\"\"}},\"name\":\"bd5cdd2b3d04ce42605aaea7e8355ac0e0a12710\",\"offsetgroup\":\"bd5cdd2b3d04ce42605aaea7e8355ac0e0a12710\",\"orientation\":\"v\",\"showlegend\":true,\"textposition\":\"auto\",\"x\":[\"2022-01-01T00:00:00\",\"2022-01-03T00:00:00\",\"2022-01-06T00:00:00\",\"2022-01-07T00:00:00\",\"2022-01-11T00:00:00\",\"2022-01-12T00:00:00\",\"2022-01-14T00:00:00\",\"2022-01-15T00:00:00\",\"2022-01-16T00:00:00\",\"2022-01-20T00:00:00\",\"2022-01-22T00:00:00\",\"2022-01-24T00:00:00\",\"2022-01-25T00:00:00\",\"2022-01-27T00:00:00\",\"2022-01-28T00:00:00\",\"2022-01-30T00:00:00\",\"2022-01-31T00:00:00\",\"2022-02-02T00:00:00\",\"2022-02-03T00:00:00\"],\"xaxis\":\"x\",\"y\":[1,3,2,3,2,1,1,4,3,3,1,2,1,4,6,3,1,2,1],\"yaxis\":\"y\",\"type\":\"bar\"},{\"alignmentgroup\":\"True\",\"hovertemplate\":\"Miner=11905bd0863ba579023f662d1935e39d0c671933<br>Block Date=%{x}<br>Block Count=%{y}<extra></extra>\",\"legendgroup\":\"11905bd0863ba579023f662d1935e39d0c671933\",\"marker\":{\"color\":\"#00cc96\",\"pattern\":{\"shape\":\"\"}},\"name\":\"11905bd0863ba579023f662d1935e39d0c671933\",\"offsetgroup\":\"11905bd0863ba579023f662d1935e39d0c671933\",\"orientation\":\"v\",\"showlegend\":true,\"textposition\":\"auto\",\"x\":[\"2022-01-01T00:00:00\",\"2022-01-02T00:00:00\",\"2022-01-23T00:00:00\"],\"xaxis\":\"x\",\"y\":[1,1,1],\"yaxis\":\"y\",\"type\":\"bar\"},{\"alignmentgroup\":\"True\",\"hovertemplate\":\"Miner=6a851246689eb8fc77a9bf68df5860f13f679fa0<br>Block Date=%{x}<br>Block Count=%{y}<extra></extra>\",\"legendgroup\":\"6a851246689eb8fc77a9bf68df5860f13f679fa0\",\"marker\":{\"color\":\"#ab63fa\",\"pattern\":{\"shape\":\"\"}},\"name\":\"6a851246689eb8fc77a9bf68df5860f13f679fa0\",\"offsetgroup\":\"6a851246689eb8fc77a9bf68df5860f13f679fa0\",\"orientation\":\"v\",\"showlegend\":true,\"textposition\":\"auto\",\"x\":[\"2022-01-01T00:00:00\",\"2022-01-02T00:00:00\",\"2022-01-03T00:00:00\",\"2022-01-04T00:00:00\",\"2022-01-05T00:00:00\",\"2022-01-06T00:00:00\",\"2022-01-07T00:00:00\",\"2022-01-09T00:00:00\",\"2022-01-11T00:00:00\",\"2022-01-12T00:00:00\",\"2022-01-13T00:00:00\",\"2022-01-14T00:00:00\",\"2022-01-15T00:00:00\",\"2022-01-16T00:00:00\",\"2022-01-17T00:00:00\",\"2022-01-18T00:00:00\",\"2022-01-19T00:00:00\",\"2022-01-20T00:00:00\",\"2022-01-21T00:00:00\",\"2022-01-22T00:00:00\",\"2022-01-26T00:00:00\",\"2022-01-27T00:00:00\",\"2022-01-28T00:00:00\",\"2022-01-30T00:00:00\",\"2022-01-31T00:00:00\",\"2022-02-01T00:00:00\",\"2022-02-02T00:00:00\"],\"xaxis\":\"x\",\"y\":[1,3,1,1,3,2,1,4,2,1,1,3,2,1,1,1,2,1,4,2,1,4,1,1,1,2,1],\"yaxis\":\"y\",\"type\":\"bar\"},{\"alignmentgroup\":\"True\",\"hovertemplate\":\"Miner=d60267809d21b6da73cd0bd04bc589eeef791dfe<br>Block Date=%{x}<br>Block Count=%{y}<extra></extra>\",\"legendgroup\":\"d60267809d21b6da73cd0bd04bc589eeef791dfe\",\"marker\":{\"color\":\"#FFA15A\",\"pattern\":{\"shape\":\"\"}},\"name\":\"d60267809d21b6da73cd0bd04bc589eeef791dfe\",\"offsetgroup\":\"d60267809d21b6da73cd0bd04bc589eeef791dfe\",\"orientation\":\"v\",\"showlegend\":true,\"textposition\":\"auto\",\"x\":[\"2022-01-02T00:00:00\",\"2022-01-17T00:00:00\"],\"xaxis\":\"x\",\"y\":[2,1],\"yaxis\":\"y\",\"type\":\"bar\"},{\"alignmentgroup\":\"True\",\"hovertemplate\":\"Miner=a59ea72e4c4f1560467f15298cd83874e9af1c09<br>Block Date=%{x}<br>Block Count=%{y}<extra></extra>\",\"legendgroup\":\"a59ea72e4c4f1560467f15298cd83874e9af1c09\",\"marker\":{\"color\":\"#19d3f3\",\"pattern\":{\"shape\":\"\"}},\"name\":\"a59ea72e4c4f1560467f15298cd83874e9af1c09\",\"offsetgroup\":\"a59ea72e4c4f1560467f15298cd83874e9af1c09\",\"orientation\":\"v\",\"showlegend\":true,\"textposition\":\"auto\",\"x\":[\"2022-01-02T00:00:00\",\"2022-01-03T00:00:00\",\"2022-01-04T00:00:00\",\"2022-01-05T00:00:00\",\"2022-01-06T00:00:00\",\"2022-01-07T00:00:00\",\"2022-01-08T00:00:00\",\"2022-01-09T00:00:00\",\"2022-02-01T00:00:00\",\"2022-02-02T00:00:00\"],\"xaxis\":\"x\",\"y\":[1,1,2,2,2,4,2,2,2,3],\"yaxis\":\"y\",\"type\":\"bar\"},{\"alignmentgroup\":\"True\",\"hovertemplate\":\"Miner=bc78d75867b04f996ef1050d8090b8ccb91f09af<br>Block Date=%{x}<br>Block Count=%{y}<extra></extra>\",\"legendgroup\":\"bc78d75867b04f996ef1050d8090b8ccb91f09af\",\"marker\":{\"color\":\"#FF6692\",\"pattern\":{\"shape\":\"\"}},\"name\":\"bc78d75867b04f996ef1050d8090b8ccb91f09af\",\"offsetgroup\":\"bc78d75867b04f996ef1050d8090b8ccb91f09af\",\"orientation\":\"v\",\"showlegend\":true,\"textposition\":\"auto\",\"x\":[\"2022-01-02T00:00:00\",\"2022-01-04T00:00:00\",\"2022-01-05T00:00:00\",\"2022-01-06T00:00:00\",\"2022-01-07T00:00:00\",\"2022-01-10T00:00:00\",\"2022-01-11T00:00:00\",\"2022-01-19T00:00:00\",\"2022-01-21T00:00:00\",\"2022-01-23T00:00:00\"],\"xaxis\":\"x\",\"y\":[1,1,1,2,2,1,1,1,4,1],\"yaxis\":\"y\",\"type\":\"bar\"},{\"alignmentgroup\":\"True\",\"hovertemplate\":\"Miner=f3a71cc1be5ce833c471e3f25aa391f9cd56e1aa<br>Block Date=%{x}<br>Block Count=%{y}<extra></extra>\",\"legendgroup\":\"f3a71cc1be5ce833c471e3f25aa391f9cd56e1aa\",\"marker\":{\"color\":\"#B6E880\",\"pattern\":{\"shape\":\"\"}},\"name\":\"f3a71cc1be5ce833c471e3f25aa391f9cd56e1aa\",\"offsetgroup\":\"f3a71cc1be5ce833c471e3f25aa391f9cd56e1aa\",\"orientation\":\"v\",\"showlegend\":true,\"textposition\":\"auto\",\"x\":[\"2022-01-02T00:00:00\",\"2022-01-03T00:00:00\",\"2022-01-04T00:00:00\",\"2022-01-05T00:00:00\",\"2022-01-06T00:00:00\",\"2022-01-07T00:00:00\",\"2022-01-08T00:00:00\",\"2022-01-09T00:00:00\",\"2022-01-10T00:00:00\",\"2022-01-11T00:00:00\",\"2022-01-12T00:00:00\",\"2022-01-13T00:00:00\",\"2022-01-14T00:00:00\",\"2022-01-15T00:00:00\",\"2022-01-16T00:00:00\",\"2022-01-17T00:00:00\",\"2022-01-18T00:00:00\",\"2022-01-19T00:00:00\",\"2022-01-20T00:00:00\",\"2022-01-21T00:00:00\",\"2022-01-22T00:00:00\",\"2022-01-23T00:00:00\",\"2022-01-24T00:00:00\",\"2022-01-26T00:00:00\",\"2022-01-28T00:00:00\",\"2022-01-29T00:00:00\",\"2022-01-31T00:00:00\",\"2022-02-01T00:00:00\",\"2022-02-02T00:00:00\",\"2022-02-03T00:00:00\"],\"xaxis\":\"x\",\"y\":[1,1,1,3,2,3,3,2,2,2,1,2,2,3,2,2,5,7,2,3,3,3,4,5,1,2,1,3,5,1],\"yaxis\":\"y\",\"type\":\"bar\"},{\"alignmentgroup\":\"True\",\"hovertemplate\":\"Miner=fad45a9ab2c408f7e6f8d4786f0708171169c2c3<br>Block Date=%{x}<br>Block Count=%{y}<extra></extra>\",\"legendgroup\":\"fad45a9ab2c408f7e6f8d4786f0708171169c2c3\",\"marker\":{\"color\":\"#FF97FF\",\"pattern\":{\"shape\":\"\"}},\"name\":\"fad45a9ab2c408f7e6f8d4786f0708171169c2c3\",\"offsetgroup\":\"fad45a9ab2c408f7e6f8d4786f0708171169c2c3\",\"orientation\":\"v\",\"showlegend\":true,\"textposition\":\"auto\",\"x\":[\"2022-01-02T00:00:00\",\"2022-01-06T00:00:00\",\"2022-01-18T00:00:00\",\"2022-01-19T00:00:00\",\"2022-01-20T00:00:00\",\"2022-01-23T00:00:00\",\"2022-01-25T00:00:00\",\"2022-01-28T00:00:00\"],\"xaxis\":\"x\",\"y\":[1,1,1,1,1,1,1,2],\"yaxis\":\"y\",\"type\":\"bar\"},{\"alignmentgroup\":\"True\",\"hovertemplate\":\"Miner=b8d2628452744ef47c83bd9a323df37ee35bbd20<br>Block Date=%{x}<br>Block Count=%{y}<extra></extra>\",\"legendgroup\":\"b8d2628452744ef47c83bd9a323df37ee35bbd20\",\"marker\":{\"color\":\"#FECB52\",\"pattern\":{\"shape\":\"\"}},\"name\":\"b8d2628452744ef47c83bd9a323df37ee35bbd20\",\"offsetgroup\":\"b8d2628452744ef47c83bd9a323df37ee35bbd20\",\"orientation\":\"v\",\"showlegend\":true,\"textposition\":\"auto\",\"x\":[\"2022-01-03T00:00:00\",\"2022-01-10T00:00:00\",\"2022-01-11T00:00:00\",\"2022-01-12T00:00:00\",\"2022-01-13T00:00:00\",\"2022-01-15T00:00:00\",\"2022-01-16T00:00:00\",\"2022-01-17T00:00:00\",\"2022-01-18T00:00:00\",\"2022-01-19T00:00:00\",\"2022-01-20T00:00:00\",\"2022-01-21T00:00:00\",\"2022-01-22T00:00:00\",\"2022-01-23T00:00:00\",\"2022-01-24T00:00:00\",\"2022-01-25T00:00:00\",\"2022-01-26T00:00:00\",\"2022-01-28T00:00:00\",\"2022-01-29T00:00:00\",\"2022-01-30T00:00:00\",\"2022-02-02T00:00:00\"],\"xaxis\":\"x\",\"y\":[1,1,1,1,2,2,2,2,2,3,5,2,2,2,4,2,2,1,1,1,2],\"yaxis\":\"y\",\"type\":\"bar\"},{\"alignmentgroup\":\"True\",\"hovertemplate\":\"Miner=28846f1ec065eea239152213373bb58b1c9fc93b<br>Block Date=%{x}<br>Block Count=%{y}<extra></extra>\",\"legendgroup\":\"28846f1ec065eea239152213373bb58b1c9fc93b\",\"marker\":{\"color\":\"#636efa\",\"pattern\":{\"shape\":\"\"}},\"name\":\"28846f1ec065eea239152213373bb58b1c9fc93b\",\"offsetgroup\":\"28846f1ec065eea239152213373bb58b1c9fc93b\",\"orientation\":\"v\",\"showlegend\":true,\"textposition\":\"auto\",\"x\":[\"2022-01-07T00:00:00\",\"2022-01-08T00:00:00\",\"2022-01-09T00:00:00\",\"2022-01-10T00:00:00\",\"2022-01-11T00:00:00\",\"2022-01-12T00:00:00\",\"2022-01-13T00:00:00\",\"2022-01-14T00:00:00\",\"2022-01-15T00:00:00\",\"2022-01-16T00:00:00\",\"2022-01-17T00:00:00\",\"2022-01-18T00:00:00\",\"2022-01-19T00:00:00\",\"2022-01-20T00:00:00\",\"2022-01-21T00:00:00\",\"2022-01-22T00:00:00\",\"2022-01-23T00:00:00\",\"2022-01-24T00:00:00\",\"2022-01-25T00:00:00\",\"2022-01-26T00:00:00\",\"2022-01-27T00:00:00\",\"2022-01-28T00:00:00\",\"2022-01-29T00:00:00\",\"2022-01-30T00:00:00\",\"2022-01-31T00:00:00\",\"2022-02-01T00:00:00\",\"2022-02-02T00:00:00\",\"2022-02-03T00:00:00\"],\"xaxis\":\"x\",\"y\":[37,38,41,36,49,41,53,54,48,60,60,50,43,58,55,64,55,62,43,56,55,56,61,48,56,59,54,44],\"yaxis\":\"y\",\"type\":\"bar\"},{\"alignmentgroup\":\"True\",\"hovertemplate\":\"Miner=289dd50b19ffc2317af7b40bc779775cbcc0c83c<br>Block Date=%{x}<br>Block Count=%{y}<extra></extra>\",\"legendgroup\":\"289dd50b19ffc2317af7b40bc779775cbcc0c83c\",\"marker\":{\"color\":\"#EF553B\",\"pattern\":{\"shape\":\"\"}},\"name\":\"289dd50b19ffc2317af7b40bc779775cbcc0c83c\",\"offsetgroup\":\"289dd50b19ffc2317af7b40bc779775cbcc0c83c\",\"orientation\":\"v\",\"showlegend\":true,\"textposition\":\"auto\",\"x\":[\"2022-01-08T00:00:00\",\"2022-01-09T00:00:00\",\"2022-01-28T00:00:00\",\"2022-01-31T00:00:00\",\"2022-02-03T00:00:00\"],\"xaxis\":\"x\",\"y\":[1,1,1,1,1],\"yaxis\":\"y\",\"type\":\"bar\"},{\"alignmentgroup\":\"True\",\"hovertemplate\":\"Miner=d8b851a78b7aea4865b4ce5fb422eb70a6e5c8dc<br>Block Date=%{x}<br>Block Count=%{y}<extra></extra>\",\"legendgroup\":\"d8b851a78b7aea4865b4ce5fb422eb70a6e5c8dc\",\"marker\":{\"color\":\"#00cc96\",\"pattern\":{\"shape\":\"\"}},\"name\":\"d8b851a78b7aea4865b4ce5fb422eb70a6e5c8dc\",\"offsetgroup\":\"d8b851a78b7aea4865b4ce5fb422eb70a6e5c8dc\",\"orientation\":\"v\",\"showlegend\":true,\"textposition\":\"auto\",\"x\":[\"2022-01-09T00:00:00\",\"2022-01-15T00:00:00\",\"2022-01-16T00:00:00\",\"2022-01-17T00:00:00\",\"2022-01-23T00:00:00\",\"2022-01-27T00:00:00\"],\"xaxis\":\"x\",\"y\":[1,1,1,1,1,1],\"yaxis\":\"y\",\"type\":\"bar\"},{\"alignmentgroup\":\"True\",\"hovertemplate\":\"Miner=d7ad8e2a17800a2c413f331d334f83f5da8d5dba<br>Block Date=%{x}<br>Block Count=%{y}<extra></extra>\",\"legendgroup\":\"d7ad8e2a17800a2c413f331d334f83f5da8d5dba\",\"marker\":{\"color\":\"#ab63fa\",\"pattern\":{\"shape\":\"\"}},\"name\":\"d7ad8e2a17800a2c413f331d334f83f5da8d5dba\",\"offsetgroup\":\"d7ad8e2a17800a2c413f331d334f83f5da8d5dba\",\"orientation\":\"v\",\"showlegend\":true,\"textposition\":\"auto\",\"x\":[\"2022-01-11T00:00:00\",\"2022-01-13T00:00:00\",\"2022-01-31T00:00:00\"],\"xaxis\":\"x\",\"y\":[2,1,1],\"yaxis\":\"y\",\"type\":\"bar\"},{\"alignmentgroup\":\"True\",\"hovertemplate\":\"Miner=5a9d10f2bef8b76d21aa3f9b4088d55e1a6b5fb5<br>Block Date=%{x}<br>Block Count=%{y}<extra></extra>\",\"legendgroup\":\"5a9d10f2bef8b76d21aa3f9b4088d55e1a6b5fb5\",\"marker\":{\"color\":\"#FFA15A\",\"pattern\":{\"shape\":\"\"}},\"name\":\"5a9d10f2bef8b76d21aa3f9b4088d55e1a6b5fb5\",\"offsetgroup\":\"5a9d10f2bef8b76d21aa3f9b4088d55e1a6b5fb5\",\"orientation\":\"v\",\"showlegend\":true,\"textposition\":\"auto\",\"x\":[\"2022-01-11T00:00:00\"],\"xaxis\":\"x\",\"y\":[1],\"yaxis\":\"y\",\"type\":\"bar\"},{\"alignmentgroup\":\"True\",\"hovertemplate\":\"Miner=50f75c2b4e6fb4580cdd570b33276057a28dc425<br>Block Date=%{x}<br>Block Count=%{y}<extra></extra>\",\"legendgroup\":\"50f75c2b4e6fb4580cdd570b33276057a28dc425\",\"marker\":{\"color\":\"#19d3f3\",\"pattern\":{\"shape\":\"\"}},\"name\":\"50f75c2b4e6fb4580cdd570b33276057a28dc425\",\"offsetgroup\":\"50f75c2b4e6fb4580cdd570b33276057a28dc425\",\"orientation\":\"v\",\"showlegend\":true,\"textposition\":\"auto\",\"x\":[\"2022-01-11T00:00:00\",\"2022-01-12T00:00:00\",\"2022-01-13T00:00:00\",\"2022-01-14T00:00:00\",\"2022-01-15T00:00:00\",\"2022-01-17T00:00:00\",\"2022-01-18T00:00:00\",\"2022-01-21T00:00:00\"],\"xaxis\":\"x\",\"y\":[1,2,3,1,2,1,2,1],\"yaxis\":\"y\",\"type\":\"bar\"},{\"alignmentgroup\":\"True\",\"hovertemplate\":\"Miner=27c95706f0bbd978aeeca1e984c6618d61240bf8<br>Block Date=%{x}<br>Block Count=%{y}<extra></extra>\",\"legendgroup\":\"27c95706f0bbd978aeeca1e984c6618d61240bf8\",\"marker\":{\"color\":\"#FF6692\",\"pattern\":{\"shape\":\"\"}},\"name\":\"27c95706f0bbd978aeeca1e984c6618d61240bf8\",\"offsetgroup\":\"27c95706f0bbd978aeeca1e984c6618d61240bf8\",\"orientation\":\"v\",\"showlegend\":true,\"textposition\":\"auto\",\"x\":[\"2022-01-11T00:00:00\",\"2022-01-14T00:00:00\"],\"xaxis\":\"x\",\"y\":[1,1],\"yaxis\":\"y\",\"type\":\"bar\"},{\"alignmentgroup\":\"True\",\"hovertemplate\":\"Miner=9c7d68166fd224f8dcb78d5a470658e679de3a8d<br>Block Date=%{x}<br>Block Count=%{y}<extra></extra>\",\"legendgroup\":\"9c7d68166fd224f8dcb78d5a470658e679de3a8d\",\"marker\":{\"color\":\"#B6E880\",\"pattern\":{\"shape\":\"\"}},\"name\":\"9c7d68166fd224f8dcb78d5a470658e679de3a8d\",\"offsetgroup\":\"9c7d68166fd224f8dcb78d5a470658e679de3a8d\",\"orientation\":\"v\",\"showlegend\":true,\"textposition\":\"auto\",\"x\":[\"2022-01-12T00:00:00\",\"2022-01-25T00:00:00\",\"2022-01-26T00:00:00\",\"2022-01-27T00:00:00\"],\"xaxis\":\"x\",\"y\":[1,1,1,1],\"yaxis\":\"y\",\"type\":\"bar\"},{\"alignmentgroup\":\"True\",\"hovertemplate\":\"Miner=b0d876f178274d2d0f568dbb35a2e1b6c7423622<br>Block Date=%{x}<br>Block Count=%{y}<extra></extra>\",\"legendgroup\":\"b0d876f178274d2d0f568dbb35a2e1b6c7423622\",\"marker\":{\"color\":\"#FF97FF\",\"pattern\":{\"shape\":\"\"}},\"name\":\"b0d876f178274d2d0f568dbb35a2e1b6c7423622\",\"offsetgroup\":\"b0d876f178274d2d0f568dbb35a2e1b6c7423622\",\"orientation\":\"v\",\"showlegend\":true,\"textposition\":\"auto\",\"x\":[\"2022-01-12T00:00:00\"],\"xaxis\":\"x\",\"y\":[1],\"yaxis\":\"y\",\"type\":\"bar\"},{\"alignmentgroup\":\"True\",\"hovertemplate\":\"Miner=4bb96091ee9d802ed039c4d1a5f6216f90f81b01<br>Block Date=%{x}<br>Block Count=%{y}<extra></extra>\",\"legendgroup\":\"4bb96091ee9d802ed039c4d1a5f6216f90f81b01\",\"marker\":{\"color\":\"#FECB52\",\"pattern\":{\"shape\":\"\"}},\"name\":\"4bb96091ee9d802ed039c4d1a5f6216f90f81b01\",\"offsetgroup\":\"4bb96091ee9d802ed039c4d1a5f6216f90f81b01\",\"orientation\":\"v\",\"showlegend\":true,\"textposition\":\"auto\",\"x\":[\"2022-01-12T00:00:00\"],\"xaxis\":\"x\",\"y\":[1],\"yaxis\":\"y\",\"type\":\"bar\"},{\"alignmentgroup\":\"True\",\"hovertemplate\":\"Miner=2431b37ca9f516aad592a2aa4aca4f4532b78bff<br>Block Date=%{x}<br>Block Count=%{y}<extra></extra>\",\"legendgroup\":\"2431b37ca9f516aad592a2aa4aca4f4532b78bff\",\"marker\":{\"color\":\"#636efa\",\"pattern\":{\"shape\":\"\"}},\"name\":\"2431b37ca9f516aad592a2aa4aca4f4532b78bff\",\"offsetgroup\":\"2431b37ca9f516aad592a2aa4aca4f4532b78bff\",\"orientation\":\"v\",\"showlegend\":true,\"textposition\":\"auto\",\"x\":[\"2022-01-12T00:00:00\",\"2022-01-14T00:00:00\",\"2022-01-15T00:00:00\",\"2022-01-16T00:00:00\",\"2022-01-17T00:00:00\"],\"xaxis\":\"x\",\"y\":[1,1,1,2,1],\"yaxis\":\"y\",\"type\":\"bar\"},{\"alignmentgroup\":\"True\",\"hovertemplate\":\"Miner=22c99f914330ce1608952f50c187f0b602645585<br>Block Date=%{x}<br>Block Count=%{y}<extra></extra>\",\"legendgroup\":\"22c99f914330ce1608952f50c187f0b602645585\",\"marker\":{\"color\":\"#EF553B\",\"pattern\":{\"shape\":\"\"}},\"name\":\"22c99f914330ce1608952f50c187f0b602645585\",\"offsetgroup\":\"22c99f914330ce1608952f50c187f0b602645585\",\"orientation\":\"v\",\"showlegend\":true,\"textposition\":\"auto\",\"x\":[\"2022-01-12T00:00:00\"],\"xaxis\":\"x\",\"y\":[1],\"yaxis\":\"y\",\"type\":\"bar\"},{\"alignmentgroup\":\"True\",\"hovertemplate\":\"Miner=cf6ce585cb4a78a6f96e6c8722927161a696f337<br>Block Date=%{x}<br>Block Count=%{y}<extra></extra>\",\"legendgroup\":\"cf6ce585cb4a78a6f96e6c8722927161a696f337\",\"marker\":{\"color\":\"#00cc96\",\"pattern\":{\"shape\":\"\"}},\"name\":\"cf6ce585cb4a78a6f96e6c8722927161a696f337\",\"offsetgroup\":\"cf6ce585cb4a78a6f96e6c8722927161a696f337\",\"orientation\":\"v\",\"showlegend\":true,\"textposition\":\"auto\",\"x\":[\"2022-01-12T00:00:00\"],\"xaxis\":\"x\",\"y\":[1],\"yaxis\":\"y\",\"type\":\"bar\"},{\"alignmentgroup\":\"True\",\"hovertemplate\":\"Miner=036179f021089441f9897fed7904831c90c52a80<br>Block Date=%{x}<br>Block Count=%{y}<extra></extra>\",\"legendgroup\":\"036179f021089441f9897fed7904831c90c52a80\",\"marker\":{\"color\":\"#ab63fa\",\"pattern\":{\"shape\":\"\"}},\"name\":\"036179f021089441f9897fed7904831c90c52a80\",\"offsetgroup\":\"036179f021089441f9897fed7904831c90c52a80\",\"orientation\":\"v\",\"showlegend\":true,\"textposition\":\"auto\",\"x\":[\"2022-01-12T00:00:00\"],\"xaxis\":\"x\",\"y\":[1],\"yaxis\":\"y\",\"type\":\"bar\"},{\"alignmentgroup\":\"True\",\"hovertemplate\":\"Miner=db1059fa7697e31cabb27f1ecf7c79a96eb18080<br>Block Date=%{x}<br>Block Count=%{y}<extra></extra>\",\"legendgroup\":\"db1059fa7697e31cabb27f1ecf7c79a96eb18080\",\"marker\":{\"color\":\"#FFA15A\",\"pattern\":{\"shape\":\"\"}},\"name\":\"db1059fa7697e31cabb27f1ecf7c79a96eb18080\",\"offsetgroup\":\"db1059fa7697e31cabb27f1ecf7c79a96eb18080\",\"orientation\":\"v\",\"showlegend\":true,\"textposition\":\"auto\",\"x\":[\"2022-01-13T00:00:00\"],\"xaxis\":\"x\",\"y\":[2],\"yaxis\":\"y\",\"type\":\"bar\"},{\"alignmentgroup\":\"True\",\"hovertemplate\":\"Miner=cd7b9e2b957c819000b1a8107130f786636c5ccc<br>Block Date=%{x}<br>Block Count=%{y}<extra></extra>\",\"legendgroup\":\"cd7b9e2b957c819000b1a8107130f786636c5ccc\",\"marker\":{\"color\":\"#19d3f3\",\"pattern\":{\"shape\":\"\"}},\"name\":\"cd7b9e2b957c819000b1a8107130f786636c5ccc\",\"offsetgroup\":\"cd7b9e2b957c819000b1a8107130f786636c5ccc\",\"orientation\":\"v\",\"showlegend\":true,\"textposition\":\"auto\",\"x\":[\"2022-01-13T00:00:00\",\"2022-01-14T00:00:00\",\"2022-01-23T00:00:00\",\"2022-01-25T00:00:00\",\"2022-01-31T00:00:00\"],\"xaxis\":\"x\",\"y\":[1,1,1,1,2],\"yaxis\":\"y\",\"type\":\"bar\"},{\"alignmentgroup\":\"True\",\"hovertemplate\":\"Miner=dabd8e47787639c4ba2ec46b3a1ad207ba27125e<br>Block Date=%{x}<br>Block Count=%{y}<extra></extra>\",\"legendgroup\":\"dabd8e47787639c4ba2ec46b3a1ad207ba27125e\",\"marker\":{\"color\":\"#FF6692\",\"pattern\":{\"shape\":\"\"}},\"name\":\"dabd8e47787639c4ba2ec46b3a1ad207ba27125e\",\"offsetgroup\":\"dabd8e47787639c4ba2ec46b3a1ad207ba27125e\",\"orientation\":\"v\",\"showlegend\":true,\"textposition\":\"auto\",\"x\":[\"2022-01-14T00:00:00\"],\"xaxis\":\"x\",\"y\":[1],\"yaxis\":\"y\",\"type\":\"bar\"},{\"alignmentgroup\":\"True\",\"hovertemplate\":\"Miner=534cb1d3812c92894f051999dd393f1bdbdc6c87<br>Block Date=%{x}<br>Block Count=%{y}<extra></extra>\",\"legendgroup\":\"534cb1d3812c92894f051999dd393f1bdbdc6c87\",\"marker\":{\"color\":\"#B6E880\",\"pattern\":{\"shape\":\"\"}},\"name\":\"534cb1d3812c92894f051999dd393f1bdbdc6c87\",\"offsetgroup\":\"534cb1d3812c92894f051999dd393f1bdbdc6c87\",\"orientation\":\"v\",\"showlegend\":true,\"textposition\":\"auto\",\"x\":[\"2022-01-14T00:00:00\",\"2022-01-30T00:00:00\"],\"xaxis\":\"x\",\"y\":[1,1],\"yaxis\":\"y\",\"type\":\"bar\"},{\"alignmentgroup\":\"True\",\"hovertemplate\":\"Miner=3a6f08fe30e33d6183ce024bb78a74e7a3592b0b<br>Block Date=%{x}<br>Block Count=%{y}<extra></extra>\",\"legendgroup\":\"3a6f08fe30e33d6183ce024bb78a74e7a3592b0b\",\"marker\":{\"color\":\"#FF97FF\",\"pattern\":{\"shape\":\"\"}},\"name\":\"3a6f08fe30e33d6183ce024bb78a74e7a3592b0b\",\"offsetgroup\":\"3a6f08fe30e33d6183ce024bb78a74e7a3592b0b\",\"orientation\":\"v\",\"showlegend\":true,\"textposition\":\"auto\",\"x\":[\"2022-01-15T00:00:00\"],\"xaxis\":\"x\",\"y\":[1],\"yaxis\":\"y\",\"type\":\"bar\"},{\"alignmentgroup\":\"True\",\"hovertemplate\":\"Miner=ef6164d2029be2df580d6b0066e30b92e9eff672<br>Block Date=%{x}<br>Block Count=%{y}<extra></extra>\",\"legendgroup\":\"ef6164d2029be2df580d6b0066e30b92e9eff672\",\"marker\":{\"color\":\"#FECB52\",\"pattern\":{\"shape\":\"\"}},\"name\":\"ef6164d2029be2df580d6b0066e30b92e9eff672\",\"offsetgroup\":\"ef6164d2029be2df580d6b0066e30b92e9eff672\",\"orientation\":\"v\",\"showlegend\":true,\"textposition\":\"auto\",\"x\":[\"2022-01-16T00:00:00\"],\"xaxis\":\"x\",\"y\":[1],\"yaxis\":\"y\",\"type\":\"bar\"},{\"alignmentgroup\":\"True\",\"hovertemplate\":\"Miner=2c49d502dc4d9aee47c26441d7d90794c18243ed<br>Block Date=%{x}<br>Block Count=%{y}<extra></extra>\",\"legendgroup\":\"2c49d502dc4d9aee47c26441d7d90794c18243ed\",\"marker\":{\"color\":\"#636efa\",\"pattern\":{\"shape\":\"\"}},\"name\":\"2c49d502dc4d9aee47c26441d7d90794c18243ed\",\"offsetgroup\":\"2c49d502dc4d9aee47c26441d7d90794c18243ed\",\"orientation\":\"v\",\"showlegend\":true,\"textposition\":\"auto\",\"x\":[\"2022-01-22T00:00:00\",\"2022-01-24T00:00:00\",\"2022-01-25T00:00:00\",\"2022-01-26T00:00:00\",\"2022-01-27T00:00:00\",\"2022-01-28T00:00:00\",\"2022-01-29T00:00:00\",\"2022-01-30T00:00:00\",\"2022-01-31T00:00:00\",\"2022-02-01T00:00:00\",\"2022-02-02T00:00:00\",\"2022-02-03T00:00:00\"],\"xaxis\":\"x\",\"y\":[1,1,2,4,2,3,4,3,2,1,3,2],\"yaxis\":\"y\",\"type\":\"bar\"},{\"alignmentgroup\":\"True\",\"hovertemplate\":\"Miner=fc8430d9c04ddc8bb2b549ecf2f42b230e9375de<br>Block Date=%{x}<br>Block Count=%{y}<extra></extra>\",\"legendgroup\":\"fc8430d9c04ddc8bb2b549ecf2f42b230e9375de\",\"marker\":{\"color\":\"#EF553B\",\"pattern\":{\"shape\":\"\"}},\"name\":\"fc8430d9c04ddc8bb2b549ecf2f42b230e9375de\",\"offsetgroup\":\"fc8430d9c04ddc8bb2b549ecf2f42b230e9375de\",\"orientation\":\"v\",\"showlegend\":true,\"textposition\":\"auto\",\"x\":[\"2022-01-22T00:00:00\",\"2022-01-23T00:00:00\",\"2022-01-24T00:00:00\",\"2022-01-25T00:00:00\",\"2022-01-26T00:00:00\",\"2022-01-27T00:00:00\",\"2022-01-28T00:00:00\",\"2022-01-29T00:00:00\"],\"xaxis\":\"x\",\"y\":[1,1,2,2,1,2,3,2],\"yaxis\":\"y\",\"type\":\"bar\"},{\"alignmentgroup\":\"True\",\"hovertemplate\":\"Miner=5be1bfc0b1f01f32178d46abf70bb5ff5c4e425a<br>Block Date=%{x}<br>Block Count=%{y}<extra></extra>\",\"legendgroup\":\"5be1bfc0b1f01f32178d46abf70bb5ff5c4e425a\",\"marker\":{\"color\":\"#00cc96\",\"pattern\":{\"shape\":\"\"}},\"name\":\"5be1bfc0b1f01f32178d46abf70bb5ff5c4e425a\",\"offsetgroup\":\"5be1bfc0b1f01f32178d46abf70bb5ff5c4e425a\",\"orientation\":\"v\",\"showlegend\":true,\"textposition\":\"auto\",\"x\":[\"2022-01-23T00:00:00\"],\"xaxis\":\"x\",\"y\":[1],\"yaxis\":\"y\",\"type\":\"bar\"},{\"alignmentgroup\":\"True\",\"hovertemplate\":\"Miner=bbbbbbbb49459e69878219f906e73aa325ff2f0c<br>Block Date=%{x}<br>Block Count=%{y}<extra></extra>\",\"legendgroup\":\"bbbbbbbb49459e69878219f906e73aa325ff2f0c\",\"marker\":{\"color\":\"#ab63fa\",\"pattern\":{\"shape\":\"\"}},\"name\":\"bbbbbbbb49459e69878219f906e73aa325ff2f0c\",\"offsetgroup\":\"bbbbbbbb49459e69878219f906e73aa325ff2f0c\",\"orientation\":\"v\",\"showlegend\":true,\"textposition\":\"auto\",\"x\":[\"2022-01-25T00:00:00\",\"2022-01-26T00:00:00\",\"2022-01-28T00:00:00\",\"2022-01-29T00:00:00\",\"2022-01-30T00:00:00\"],\"xaxis\":\"x\",\"y\":[18,4,1,10,18],\"yaxis\":\"y\",\"type\":\"bar\"},{\"alignmentgroup\":\"True\",\"hovertemplate\":\"Miner=ae8b1711934d97d8e9d76c238b79679b4399282d<br>Block Date=%{x}<br>Block Count=%{y}<extra></extra>\",\"legendgroup\":\"ae8b1711934d97d8e9d76c238b79679b4399282d\",\"marker\":{\"color\":\"#FFA15A\",\"pattern\":{\"shape\":\"\"}},\"name\":\"ae8b1711934d97d8e9d76c238b79679b4399282d\",\"offsetgroup\":\"ae8b1711934d97d8e9d76c238b79679b4399282d\",\"orientation\":\"v\",\"showlegend\":true,\"textposition\":\"auto\",\"x\":[\"2022-01-29T00:00:00\",\"2022-02-01T00:00:00\"],\"xaxis\":\"x\",\"y\":[1,1],\"yaxis\":\"y\",\"type\":\"bar\"},{\"alignmentgroup\":\"True\",\"hovertemplate\":\"Miner=6952ba7e413bb4b2a488801cd340584b634c1008<br>Block Date=%{x}<br>Block Count=%{y}<extra></extra>\",\"legendgroup\":\"6952ba7e413bb4b2a488801cd340584b634c1008\",\"marker\":{\"color\":\"#19d3f3\",\"pattern\":{\"shape\":\"\"}},\"name\":\"6952ba7e413bb4b2a488801cd340584b634c1008\",\"offsetgroup\":\"6952ba7e413bb4b2a488801cd340584b634c1008\",\"orientation\":\"v\",\"showlegend\":true,\"textposition\":\"auto\",\"x\":[\"2022-01-29T00:00:00\"],\"xaxis\":\"x\",\"y\":[1],\"yaxis\":\"y\",\"type\":\"bar\"},{\"alignmentgroup\":\"True\",\"hovertemplate\":\"Miner=6486a3f7849734d0ea333eaf9244a4a34dca17f6<br>Block Date=%{x}<br>Block Count=%{y}<extra></extra>\",\"legendgroup\":\"6486a3f7849734d0ea333eaf9244a4a34dca17f6\",\"marker\":{\"color\":\"#FF6692\",\"pattern\":{\"shape\":\"\"}},\"name\":\"6486a3f7849734d0ea333eaf9244a4a34dca17f6\",\"offsetgroup\":\"6486a3f7849734d0ea333eaf9244a4a34dca17f6\",\"orientation\":\"v\",\"showlegend\":true,\"textposition\":\"auto\",\"x\":[\"2022-01-29T00:00:00\",\"2022-01-30T00:00:00\",\"2022-01-31T00:00:00\",\"2022-02-01T00:00:00\"],\"xaxis\":\"x\",\"y\":[1,4,4,1],\"yaxis\":\"y\",\"type\":\"bar\"},{\"alignmentgroup\":\"True\",\"hovertemplate\":\"Miner=886be08886fa12d3a0981a8e557b74f7937b42e7<br>Block Date=%{x}<br>Block Count=%{y}<extra></extra>\",\"legendgroup\":\"886be08886fa12d3a0981a8e557b74f7937b42e7\",\"marker\":{\"color\":\"#B6E880\",\"pattern\":{\"shape\":\"\"}},\"name\":\"886be08886fa12d3a0981a8e557b74f7937b42e7\",\"offsetgroup\":\"886be08886fa12d3a0981a8e557b74f7937b42e7\",\"orientation\":\"v\",\"showlegend\":true,\"textposition\":\"auto\",\"x\":[\"2022-01-30T00:00:00\",\"2022-02-03T00:00:00\"],\"xaxis\":\"x\",\"y\":[1,2],\"yaxis\":\"y\",\"type\":\"bar\"},{\"alignmentgroup\":\"True\",\"hovertemplate\":\"Miner=ac34420c1a657273bba4927be3f2552a082ca918<br>Block Date=%{x}<br>Block Count=%{y}<extra></extra>\",\"legendgroup\":\"ac34420c1a657273bba4927be3f2552a082ca918\",\"marker\":{\"color\":\"#FF97FF\",\"pattern\":{\"shape\":\"\"}},\"name\":\"ac34420c1a657273bba4927be3f2552a082ca918\",\"offsetgroup\":\"ac34420c1a657273bba4927be3f2552a082ca918\",\"orientation\":\"v\",\"showlegend\":true,\"textposition\":\"auto\",\"x\":[\"2022-02-03T00:00:00\"],\"xaxis\":\"x\",\"y\":[1],\"yaxis\":\"y\",\"type\":\"bar\"}],                        {\"template\":{\"data\":{\"bar\":[{\"error_x\":{\"color\":\"#2a3f5f\"},\"error_y\":{\"color\":\"#2a3f5f\"},\"marker\":{\"line\":{\"color\":\"#E5ECF6\",\"width\":0.5},\"pattern\":{\"fillmode\":\"overlay\",\"size\":10,\"solidity\":0.2}},\"type\":\"bar\"}],\"barpolar\":[{\"marker\":{\"line\":{\"color\":\"#E5ECF6\",\"width\":0.5},\"pattern\":{\"fillmode\":\"overlay\",\"size\":10,\"solidity\":0.2}},\"type\":\"barpolar\"}],\"carpet\":[{\"aaxis\":{\"endlinecolor\":\"#2a3f5f\",\"gridcolor\":\"white\",\"linecolor\":\"white\",\"minorgridcolor\":\"white\",\"startlinecolor\":\"#2a3f5f\"},\"baxis\":{\"endlinecolor\":\"#2a3f5f\",\"gridcolor\":\"white\",\"linecolor\":\"white\",\"minorgridcolor\":\"white\",\"startlinecolor\":\"#2a3f5f\"},\"type\":\"carpet\"}],\"choropleth\":[{\"colorbar\":{\"outlinewidth\":0,\"ticks\":\"\"},\"type\":\"choropleth\"}],\"contour\":[{\"colorbar\":{\"outlinewidth\":0,\"ticks\":\"\"},\"colorscale\":[[0.0,\"#0d0887\"],[0.1111111111111111,\"#46039f\"],[0.2222222222222222,\"#7201a8\"],[0.3333333333333333,\"#9c179e\"],[0.4444444444444444,\"#bd3786\"],[0.5555555555555556,\"#d8576b\"],[0.6666666666666666,\"#ed7953\"],[0.7777777777777778,\"#fb9f3a\"],[0.8888888888888888,\"#fdca26\"],[1.0,\"#f0f921\"]],\"type\":\"contour\"}],\"contourcarpet\":[{\"colorbar\":{\"outlinewidth\":0,\"ticks\":\"\"},\"type\":\"contourcarpet\"}],\"heatmap\":[{\"colorbar\":{\"outlinewidth\":0,\"ticks\":\"\"},\"colorscale\":[[0.0,\"#0d0887\"],[0.1111111111111111,\"#46039f\"],[0.2222222222222222,\"#7201a8\"],[0.3333333333333333,\"#9c179e\"],[0.4444444444444444,\"#bd3786\"],[0.5555555555555556,\"#d8576b\"],[0.6666666666666666,\"#ed7953\"],[0.7777777777777778,\"#fb9f3a\"],[0.8888888888888888,\"#fdca26\"],[1.0,\"#f0f921\"]],\"type\":\"heatmap\"}],\"heatmapgl\":[{\"colorbar\":{\"outlinewidth\":0,\"ticks\":\"\"},\"colorscale\":[[0.0,\"#0d0887\"],[0.1111111111111111,\"#46039f\"],[0.2222222222222222,\"#7201a8\"],[0.3333333333333333,\"#9c179e\"],[0.4444444444444444,\"#bd3786\"],[0.5555555555555556,\"#d8576b\"],[0.6666666666666666,\"#ed7953\"],[0.7777777777777778,\"#fb9f3a\"],[0.8888888888888888,\"#fdca26\"],[1.0,\"#f0f921\"]],\"type\":\"heatmapgl\"}],\"histogram\":[{\"marker\":{\"pattern\":{\"fillmode\":\"overlay\",\"size\":10,\"solidity\":0.2}},\"type\":\"histogram\"}],\"histogram2d\":[{\"colorbar\":{\"outlinewidth\":0,\"ticks\":\"\"},\"colorscale\":[[0.0,\"#0d0887\"],[0.1111111111111111,\"#46039f\"],[0.2222222222222222,\"#7201a8\"],[0.3333333333333333,\"#9c179e\"],[0.4444444444444444,\"#bd3786\"],[0.5555555555555556,\"#d8576b\"],[0.6666666666666666,\"#ed7953\"],[0.7777777777777778,\"#fb9f3a\"],[0.8888888888888888,\"#fdca26\"],[1.0,\"#f0f921\"]],\"type\":\"histogram2d\"}],\"histogram2dcontour\":[{\"colorbar\":{\"outlinewidth\":0,\"ticks\":\"\"},\"colorscale\":[[0.0,\"#0d0887\"],[0.1111111111111111,\"#46039f\"],[0.2222222222222222,\"#7201a8\"],[0.3333333333333333,\"#9c179e\"],[0.4444444444444444,\"#bd3786\"],[0.5555555555555556,\"#d8576b\"],[0.6666666666666666,\"#ed7953\"],[0.7777777777777778,\"#fb9f3a\"],[0.8888888888888888,\"#fdca26\"],[1.0,\"#f0f921\"]],\"type\":\"histogram2dcontour\"}],\"mesh3d\":[{\"colorbar\":{\"outlinewidth\":0,\"ticks\":\"\"},\"type\":\"mesh3d\"}],\"parcoords\":[{\"line\":{\"colorbar\":{\"outlinewidth\":0,\"ticks\":\"\"}},\"type\":\"parcoords\"}],\"pie\":[{\"automargin\":true,\"type\":\"pie\"}],\"scatter\":[{\"marker\":{\"colorbar\":{\"outlinewidth\":0,\"ticks\":\"\"}},\"type\":\"scatter\"}],\"scatter3d\":[{\"line\":{\"colorbar\":{\"outlinewidth\":0,\"ticks\":\"\"}},\"marker\":{\"colorbar\":{\"outlinewidth\":0,\"ticks\":\"\"}},\"type\":\"scatter3d\"}],\"scattercarpet\":[{\"marker\":{\"colorbar\":{\"outlinewidth\":0,\"ticks\":\"\"}},\"type\":\"scattercarpet\"}],\"scattergeo\":[{\"marker\":{\"colorbar\":{\"outlinewidth\":0,\"ticks\":\"\"}},\"type\":\"scattergeo\"}],\"scattergl\":[{\"marker\":{\"colorbar\":{\"outlinewidth\":0,\"ticks\":\"\"}},\"type\":\"scattergl\"}],\"scattermapbox\":[{\"marker\":{\"colorbar\":{\"outlinewidth\":0,\"ticks\":\"\"}},\"type\":\"scattermapbox\"}],\"scatterpolar\":[{\"marker\":{\"colorbar\":{\"outlinewidth\":0,\"ticks\":\"\"}},\"type\":\"scatterpolar\"}],\"scatterpolargl\":[{\"marker\":{\"colorbar\":{\"outlinewidth\":0,\"ticks\":\"\"}},\"type\":\"scatterpolargl\"}],\"scatterternary\":[{\"marker\":{\"colorbar\":{\"outlinewidth\":0,\"ticks\":\"\"}},\"type\":\"scatterternary\"}],\"surface\":[{\"colorbar\":{\"outlinewidth\":0,\"ticks\":\"\"},\"colorscale\":[[0.0,\"#0d0887\"],[0.1111111111111111,\"#46039f\"],[0.2222222222222222,\"#7201a8\"],[0.3333333333333333,\"#9c179e\"],[0.4444444444444444,\"#bd3786\"],[0.5555555555555556,\"#d8576b\"],[0.6666666666666666,\"#ed7953\"],[0.7777777777777778,\"#fb9f3a\"],[0.8888888888888888,\"#fdca26\"],[1.0,\"#f0f921\"]],\"type\":\"surface\"}],\"table\":[{\"cells\":{\"fill\":{\"color\":\"#EBF0F8\"},\"line\":{\"color\":\"white\"}},\"header\":{\"fill\":{\"color\":\"#C8D4E3\"},\"line\":{\"color\":\"white\"}},\"type\":\"table\"}]},\"layout\":{\"annotationdefaults\":{\"arrowcolor\":\"#2a3f5f\",\"arrowhead\":0,\"arrowwidth\":1},\"autotypenumbers\":\"strict\",\"coloraxis\":{\"colorbar\":{\"outlinewidth\":0,\"ticks\":\"\"}},\"colorscale\":{\"diverging\":[[0,\"#8e0152\"],[0.1,\"#c51b7d\"],[0.2,\"#de77ae\"],[0.3,\"#f1b6da\"],[0.4,\"#fde0ef\"],[0.5,\"#f7f7f7\"],[0.6,\"#e6f5d0\"],[0.7,\"#b8e186\"],[0.8,\"#7fbc41\"],[0.9,\"#4d9221\"],[1,\"#276419\"]],\"sequential\":[[0.0,\"#0d0887\"],[0.1111111111111111,\"#46039f\"],[0.2222222222222222,\"#7201a8\"],[0.3333333333333333,\"#9c179e\"],[0.4444444444444444,\"#bd3786\"],[0.5555555555555556,\"#d8576b\"],[0.6666666666666666,\"#ed7953\"],[0.7777777777777778,\"#fb9f3a\"],[0.8888888888888888,\"#fdca26\"],[1.0,\"#f0f921\"]],\"sequentialminus\":[[0.0,\"#0d0887\"],[0.1111111111111111,\"#46039f\"],[0.2222222222222222,\"#7201a8\"],[0.3333333333333333,\"#9c179e\"],[0.4444444444444444,\"#bd3786\"],[0.5555555555555556,\"#d8576b\"],[0.6666666666666666,\"#ed7953\"],[0.7777777777777778,\"#fb9f3a\"],[0.8888888888888888,\"#fdca26\"],[1.0,\"#f0f921\"]]},\"colorway\":[\"#636efa\",\"#EF553B\",\"#00cc96\",\"#ab63fa\",\"#FFA15A\",\"#19d3f3\",\"#FF6692\",\"#B6E880\",\"#FF97FF\",\"#FECB52\"],\"font\":{\"color\":\"#2a3f5f\"},\"geo\":{\"bgcolor\":\"white\",\"lakecolor\":\"white\",\"landcolor\":\"#E5ECF6\",\"showlakes\":true,\"showland\":true,\"subunitcolor\":\"white\"},\"hoverlabel\":{\"align\":\"left\"},\"hovermode\":\"closest\",\"mapbox\":{\"style\":\"light\"},\"paper_bgcolor\":\"white\",\"plot_bgcolor\":\"#E5ECF6\",\"polar\":{\"angularaxis\":{\"gridcolor\":\"white\",\"linecolor\":\"white\",\"ticks\":\"\"},\"bgcolor\":\"#E5ECF6\",\"radialaxis\":{\"gridcolor\":\"white\",\"linecolor\":\"white\",\"ticks\":\"\"}},\"scene\":{\"xaxis\":{\"backgroundcolor\":\"#E5ECF6\",\"gridcolor\":\"white\",\"gridwidth\":2,\"linecolor\":\"white\",\"showbackground\":true,\"ticks\":\"\",\"zerolinecolor\":\"white\"},\"yaxis\":{\"backgroundcolor\":\"#E5ECF6\",\"gridcolor\":\"white\",\"gridwidth\":2,\"linecolor\":\"white\",\"showbackground\":true,\"ticks\":\"\",\"zerolinecolor\":\"white\"},\"zaxis\":{\"backgroundcolor\":\"#E5ECF6\",\"gridcolor\":\"white\",\"gridwidth\":2,\"linecolor\":\"white\",\"showbackground\":true,\"ticks\":\"\",\"zerolinecolor\":\"white\"}},\"shapedefaults\":{\"line\":{\"color\":\"#2a3f5f\"}},\"ternary\":{\"aaxis\":{\"gridcolor\":\"white\",\"linecolor\":\"white\",\"ticks\":\"\"},\"baxis\":{\"gridcolor\":\"white\",\"linecolor\":\"white\",\"ticks\":\"\"},\"bgcolor\":\"#E5ECF6\",\"caxis\":{\"gridcolor\":\"white\",\"linecolor\":\"white\",\"ticks\":\"\"}},\"title\":{\"x\":0.05},\"xaxis\":{\"automargin\":true,\"gridcolor\":\"white\",\"linecolor\":\"white\",\"ticks\":\"\",\"title\":{\"standoff\":15},\"zerolinecolor\":\"white\",\"zerolinewidth\":2},\"yaxis\":{\"automargin\":true,\"gridcolor\":\"white\",\"linecolor\":\"white\",\"ticks\":\"\",\"title\":{\"standoff\":15},\"zerolinecolor\":\"white\",\"zerolinewidth\":2}}},\"xaxis\":{\"anchor\":\"y\",\"domain\":[0.0,1.0],\"title\":{\"text\":\"Block Date\"}},\"yaxis\":{\"anchor\":\"x\",\"domain\":[0.0,1.0],\"title\":{\"text\":\"Block Count\"}},\"legend\":{\"title\":{\"text\":\"Miner\"},\"tracegroupgap\":0},\"title\":{\"text\":\"Daily Block Count per Miner\"},\"barmode\":\"relative\",\"height\":500,\"showlegend\":false},                        {\"responsive\": true}                    ).then(function(){\n",
       "                            \n",
       "var gd = document.getElementById('2c51e427-7b69-415a-b942-e8420a68dfbb');\n",
       "var x = new MutationObserver(function (mutations, observer) {{\n",
       "        var display = window.getComputedStyle(gd).display;\n",
       "        if (!display || display === 'none') {{\n",
       "            console.log([gd, 'removed!']);\n",
       "            Plotly.purge(gd);\n",
       "            observer.disconnect();\n",
       "        }}\n",
       "}});\n",
       "\n",
       "// Listen for the removal of the full notebook cells\n",
       "var notebookContainer = gd.closest('#notebook-container');\n",
       "if (notebookContainer) {{\n",
       "    x.observe(notebookContainer, {childList: true});\n",
       "}}\n",
       "\n",
       "// Listen for the clearing of the current output cell\n",
       "var outputEl = gd.closest('.output');\n",
       "if (outputEl) {{\n",
       "    x.observe(outputEl, {childList: true});\n",
       "}}\n",
       "\n",
       "                        })                };                });            </script>        </div>"
      ]
     },
     "metadata": {},
     "output_type": "display_data"
    }
   ],
   "source": [
    "import plotly.express as px\n",
    "\n",
    "# use stacked bar chart\n",
    "fig = px.bar(df, x=\"BlockDate\", y=\"BlockCount\", color=\"Miner\", barmode=\"relative\", height=500,\n",
    "            title=\"Daily Block Count per Miner\",\n",
    "            labels={\n",
    "                \"BlockDate\": \"Block Date\",\n",
    "                \"BlockCount\": \"Block Count\"\n",
    "            })\n",
    "\n",
    "# do not display legend\n",
    "fig.update_layout(showlegend=False)\n",
    "\n",
    "fig.show()"
   ]
  },
  {
   "cell_type": "markdown",
   "id": "82e73d7e-3e0d-4b06-bb23-babdd79391da",
   "metadata": {},
   "source": [
    "Render the chart into browser or other images"
   ]
  },
  {
   "cell_type": "code",
   "execution_count": null,
   "id": "68c721dd-0629-49fe-b869-d91dd06290cf",
   "metadata": {},
   "outputs": [],
   "source": [
    "import plotly.io as pio\n",
    "pio.renderers"
   ]
  },
  {
   "cell_type": "code",
   "execution_count": null,
   "id": "e2c27382-9b5d-4bcc-9607-a4c47e663ab4",
   "metadata": {},
   "outputs": [],
   "source": [
    "fig.show(renderer='browser')"
   ]
  },
  {
   "cell_type": "code",
   "execution_count": null,
   "id": "27b10512-5210-491a-abb7-6a628a29c4fb",
   "metadata": {},
   "outputs": [],
   "source": [
    "fig.show(renderer='pdf')"
   ]
  },
  {
   "cell_type": "code",
   "execution_count": null,
   "id": "eaf10597-cef0-4e7a-b79d-e7a3e00f8865",
   "metadata": {},
   "outputs": [],
   "source": []
  }
 ],
 "metadata": {
  "kernelspec": {
   "display_name": "Python 3 (ipykernel)",
   "language": "python",
   "name": "python3"
  },
  "language_info": {
   "codemirror_mode": {
    "name": "ipython",
    "version": 3
   },
   "file_extension": ".py",
   "mimetype": "text/x-python",
   "name": "python",
   "nbconvert_exporter": "python",
   "pygments_lexer": "ipython3",
   "version": "3.10.1"
  },
  "widgets": {
   "application/vnd.jupyter.widget-state+json": {
    "state": {},
    "version_major": 2,
    "version_minor": 0
   }
  }
 },
 "nbformat": 4,
 "nbformat_minor": 5
}
